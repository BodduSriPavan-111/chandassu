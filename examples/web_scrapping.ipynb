{
 "cells": [
  {
   "cell_type": "code",
   "execution_count": 1,
   "id": "8d9bc400",
   "metadata": {},
   "outputs": [
    {
     "name": "stderr",
     "output_type": "stream",
     "text": [
      "c:\\Users\\bsnra\\anaconda3\\Lib\\site-packages\\pandas\\core\\arrays\\masked.py:60: UserWarning: Pandas requires version '1.3.6' or newer of 'bottleneck' (version '1.3.5' currently installed).\n",
      "  from pandas.core import (\n"
     ]
    }
   ],
   "source": [
    "from bs4 import BeautifulSoup\n",
    "from urllib.request import urlopen\n",
    "\n",
    "import pandas as pd"
   ]
  },
  {
   "cell_type": "code",
   "execution_count": 3,
   "id": "5f3b9229",
   "metadata": {},
   "outputs": [],
   "source": [
    "def scrap_data( base_url, bhedam, satakam ):\n",
    "\n",
    "    dataset= []\n",
    "\n",
    "    page = urlopen(base_url)\n",
    "    html = page.read().decode(\"utf-8\")\n",
    "    soup = BeautifulSoup(html, \"html.parser\")\n",
    "\n",
    "    table_data= soup.find_all(\"table\")[-2]\n",
    "        \n",
    "    row_data= table_data.find_all(\"tr\")\n",
    "\n",
    "    for row in row_data:\n",
    "\n",
    "        try:\n",
    "            temp= row.find_all( \"td\" )\n",
    "            type= temp[0].get_text()\n",
    "            padyam= temp[1].get_text().strip()\n",
    "\n",
    "            dataset.append( [padyam, \"vruttamu\", type, satakam] )\n",
    "\n",
    "        except Exception as e:\n",
    "            print(\"Exception : \", e)\n",
    "\n",
    "    try:\n",
    "        hyperlinks= soup.find_all(\"table\")[1].find_all(\"table\")[0].find_all(\"a\")\n",
    "        \n",
    "        for i in hyperlinks:\n",
    "            \n",
    "            page_url= base_url[ :base_url.rfind(\"/\")]+\"/\"+i[\"href\"]\n",
    "\n",
    "            page = urlopen(page_url)\n",
    "            html = page.read().decode(\"utf-8\")\n",
    "            soup = BeautifulSoup(html, \"html.parser\")\n",
    "\n",
    "            table_data= soup.find_all(\"table\")[-2]\n",
    "            \n",
    "            row_data= table_data.find_all(\"tr\")\n",
    "\n",
    "            for row in row_data:\n",
    "\n",
    "                try:\n",
    "                    temp= row.find_all( \"td\" )\n",
    "                    type= temp[0].get_text()\n",
    "                    padyam= temp[1].get_text().strip()\n",
    "\n",
    "                    dataset.append( [padyam, bhedam, type, satakam] )\n",
    "                \n",
    "                except Exception as e:\n",
    "                    print(\"Exception : \", e)\n",
    "            \n",
    "            print( page_url )\n",
    "            \n",
    "    except Exception as e:\n",
    "        print( e )\n",
    "\n",
    "    return dataset"
   ]
  },
  {
   "cell_type": "markdown",
   "id": "26787877",
   "metadata": {},
   "source": [
    "#### krishna satakam"
   ]
  },
  {
   "cell_type": "code",
   "execution_count": 84,
   "id": "7670d197",
   "metadata": {},
   "outputs": [
    {
     "name": "stdout",
     "output_type": "stream",
     "text": [
      "https://andhrabharati.com/shatakamulu/kRishhNa/kRishhNa11.html\n",
      "https://andhrabharati.com/shatakamulu/kRishhNa/kRishhNa21.html\n",
      "https://andhrabharati.com/shatakamulu/kRishhNa/kRishhNa31.html\n",
      "https://andhrabharati.com/shatakamulu/kRishhNa/kRishhNa41.html\n",
      "https://andhrabharati.com/shatakamulu/kRishhNa/kRishhNa51.html\n",
      "https://andhrabharati.com/shatakamulu/kRishhNa/kRishhNa61.html\n",
      "https://andhrabharati.com/shatakamulu/kRishhNa/kRishhNa71.html\n",
      "https://andhrabharati.com/shatakamulu/kRishhNa/kRishhNa81.html\n",
      "https://andhrabharati.com/shatakamulu/kRishhNa/kRishhNa91.html\n"
     ]
    }
   ],
   "source": [
    "base_url= \"https://andhrabharati.com/shatakamulu/kRishhNa/index.html\"\n",
    "dataset= scrap_data( base_url= base_url, bhedam= \"jaathi\", satakam= \"krishna\" )"
   ]
  },
  {
   "cell_type": "code",
   "execution_count": 85,
   "id": "95ee2a21",
   "metadata": {},
   "outputs": [
    {
     "data": {
      "text/plain": [
       "type\n",
       "క.    101\n",
       "Name: count, dtype: int64"
      ]
     },
     "execution_count": 85,
     "metadata": {},
     "output_type": "execute_result"
    }
   ],
   "source": [
    "df= pd.DataFrame(dataset, columns= [\"padyam\", \"bhedam\", \"type\", \"satakam\"])\n",
    "\n",
    "df[\"type\"].value_counts()"
   ]
  },
  {
   "cell_type": "code",
   "execution_count": 86,
   "id": "d32e179a",
   "metadata": {},
   "outputs": [],
   "source": [
    "df[\"type\"]= df[\"type\"].replace( {\"క.\": \"kandamu\"} )"
   ]
  },
  {
   "cell_type": "code",
   "execution_count": 87,
   "id": "7b05da4b",
   "metadata": {},
   "outputs": [],
   "source": [
    "df.to_excel( r\"c:\\Users\\bsnra\\Desktop\\chandassu\\padyamu\\krishna.xlsx\", index= False )"
   ]
  },
  {
   "cell_type": "markdown",
   "id": "00599705",
   "metadata": {},
   "source": [
    "#### Daasarathi Satakam"
   ]
  },
  {
   "cell_type": "code",
   "execution_count": 88,
   "id": "39e530da",
   "metadata": {},
   "outputs": [
    {
     "name": "stdout",
     "output_type": "stream",
     "text": [
      "https://andhrabharati.com/shatakamulu/dAsharathi/dAsharathi11.html\n",
      "https://andhrabharati.com/shatakamulu/dAsharathi/dAsharathi21.html\n",
      "https://andhrabharati.com/shatakamulu/dAsharathi/dAsharathi31.html\n",
      "https://andhrabharati.com/shatakamulu/dAsharathi/dAsharathi41.html\n",
      "https://andhrabharati.com/shatakamulu/dAsharathi/dAsharathi51.html\n",
      "https://andhrabharati.com/shatakamulu/dAsharathi/dAsharathi61.html\n",
      "https://andhrabharati.com/shatakamulu/dAsharathi/dAsharathi71.html\n",
      "https://andhrabharati.com/shatakamulu/dAsharathi/dAsharathi81.html\n",
      "https://andhrabharati.com/shatakamulu/dAsharathi/dAsharathi91.html\n",
      "https://andhrabharati.com/shatakamulu/dAsharathi/dAsharathi101.html\n"
     ]
    }
   ],
   "source": [
    "base_url= \"https://andhrabharati.com/shatakamulu/dAsharathi/index.html\"\n",
    "dataset= scrap_data( base_url= base_url, bhedam= \"vruttamu\", satakam= \"daasarathi\" )"
   ]
  },
  {
   "cell_type": "code",
   "execution_count": 89,
   "id": "f1c38e18",
   "metadata": {},
   "outputs": [
    {
     "data": {
      "text/plain": [
       "type\n",
       "ఉ.    61\n",
       "చ.    42\n",
       "Name: count, dtype: int64"
      ]
     },
     "execution_count": 89,
     "metadata": {},
     "output_type": "execute_result"
    }
   ],
   "source": [
    "df= pd.DataFrame(dataset, columns= [\"padyam\", \"bhedam\", \"type\", \"satakam\"])\n",
    "\n",
    "df[\"type\"].value_counts()"
   ]
  },
  {
   "cell_type": "code",
   "execution_count": null,
   "id": "cdf4cdb3",
   "metadata": {},
   "outputs": [],
   "source": [
    "df[\"type\"]= df[\"type\"].replace( {\"ఉ.\": \"vutpalamaala\", \"చ.\": \"champakamaala\"} )"
   ]
  },
  {
   "cell_type": "code",
   "execution_count": 91,
   "id": "70f6abcc",
   "metadata": {},
   "outputs": [],
   "source": [
    "df.to_excel( r\"c:\\Users\\bsnra\\Desktop\\chandassu\\padyamu\\daasarathi.xlsx\", index= False )"
   ]
  },
  {
   "cell_type": "markdown",
   "id": "8513b1f4",
   "metadata": {},
   "source": [
    "#### Srikaalahasteeswara Satakam"
   ]
  },
  {
   "cell_type": "code",
   "execution_count": 92,
   "id": "9966e05a",
   "metadata": {},
   "outputs": [
    {
     "name": "stdout",
     "output_type": "stream",
     "text": [
      "https://andhrabharati.com/shatakamulu/kALahasti/kALahasti11.html\n",
      "https://andhrabharati.com/shatakamulu/kALahasti/kALahasti21.html\n",
      "https://andhrabharati.com/shatakamulu/kALahasti/kALahasti31.html\n",
      "https://andhrabharati.com/shatakamulu/kALahasti/kALahasti41.html\n",
      "https://andhrabharati.com/shatakamulu/kALahasti/kALahasti51.html\n",
      "https://andhrabharati.com/shatakamulu/kALahasti/kALahasti61.html\n",
      "https://andhrabharati.com/shatakamulu/kALahasti/kALahasti71.html\n",
      "https://andhrabharati.com/shatakamulu/kALahasti/kALahasti81.html\n",
      "https://andhrabharati.com/shatakamulu/kALahasti/kALahasti91.html\n",
      "https://andhrabharati.com/shatakamulu/kALahasti/kALahasti101.html\n",
      "https://andhrabharati.com/shatakamulu/kALahasti/kALahasti111.html\n"
     ]
    }
   ],
   "source": [
    "base_url= \"https://andhrabharati.com/shatakamulu/kALahasti/index.html\"\n",
    "dataset= scrap_data( base_url= base_url, bhedam= \"vruttamu\", satakam= \"srikaalahasteeswara\" )"
   ]
  },
  {
   "cell_type": "code",
   "execution_count": 93,
   "id": "99d4ac5f",
   "metadata": {},
   "outputs": [
    {
     "data": {
      "text/plain": [
       "array(['శా.', 'మ.', ''], dtype=object)"
      ]
     },
     "execution_count": 93,
     "metadata": {},
     "output_type": "execute_result"
    }
   ],
   "source": [
    "df= pd.DataFrame(dataset, columns= [\"padyam\", \"bhedam\", \"type\", \"satakam\"])\n",
    "\n",
    "df[\"type\"].unique()"
   ]
  },
  {
   "cell_type": "code",
   "execution_count": 94,
   "id": "4c5508a9",
   "metadata": {},
   "outputs": [],
   "source": [
    "df[\"type\"]= df[\"type\"].replace( {\"శా.\": \"saardulamu\", \"మ.\": \"mattebhamu\", \"\": \"Unknown\"} )"
   ]
  },
  {
   "cell_type": "code",
   "execution_count": 95,
   "id": "4d915b71",
   "metadata": {},
   "outputs": [],
   "source": [
    "df.to_excel( r\"c:\\Users\\bsnra\\Desktop\\chandassu\\padyamu\\srikaalahasteeswara.xlsx\", index= False )"
   ]
  },
  {
   "cell_type": "markdown",
   "id": "7fbe8f31",
   "metadata": {},
   "source": [
    "#### sumathi satakam"
   ]
  },
  {
   "cell_type": "code",
   "execution_count": 96,
   "id": "09fb0226",
   "metadata": {},
   "outputs": [
    {
     "name": "stdout",
     "output_type": "stream",
     "text": [
      "https://andhrabharati.com/shatakamulu/sumati/sumati11.html\n",
      "https://andhrabharati.com/shatakamulu/sumati/sumati21.html\n",
      "https://andhrabharati.com/shatakamulu/sumati/sumati31.html\n",
      "https://andhrabharati.com/shatakamulu/sumati/sumati41.html\n",
      "https://andhrabharati.com/shatakamulu/sumati/sumati51.html\n",
      "https://andhrabharati.com/shatakamulu/sumati/sumati61.html\n",
      "https://andhrabharati.com/shatakamulu/sumati/sumati71.html\n",
      "https://andhrabharati.com/shatakamulu/sumati/sumati81.html\n",
      "https://andhrabharati.com/shatakamulu/sumati/sumati91.html\n",
      "https://andhrabharati.com/shatakamulu/sumati/sumati101.html\n"
     ]
    }
   ],
   "source": [
    "base_url= \"https://andhrabharati.com/shatakamulu/sumati/index.html\"\n",
    "dataset= scrap_data( base_url= base_url, bhedam= \"jaathi\", satakam= \"sumathi\" )"
   ]
  },
  {
   "cell_type": "code",
   "execution_count": 97,
   "metadata": {},
   "outputs": [
    {
     "data": {
      "text/plain": [
       "type\n",
       "క.    108\n",
       "Name: count, dtype: int64"
      ]
     },
     "execution_count": 97,
     "metadata": {},
     "output_type": "execute_result"
    }
   ],
   "source": [
    "df= pd.DataFrame(dataset, columns= [\"padyam\", \"bhedam\", \"type\", \"satakam\"])\n",
    "\n",
    "df[\"type\"].value_counts()"
   ]
  },
  {
   "cell_type": "code",
   "execution_count": 98,
   "id": "4f9006b0",
   "metadata": {},
   "outputs": [],
   "source": [
    "df[\"type\"]= df[\"type\"].replace( {\"క.\": \"kandamu\"} )"
   ]
  },
  {
   "cell_type": "code",
   "execution_count": 99,
   "metadata": {},
   "outputs": [],
   "source": [
    "df.to_excel( r\"c:\\Users\\bsnra\\Desktop\\chandassu\\padyamu\\sumathi.xlsx\", index= False )"
   ]
  },
  {
   "cell_type": "markdown",
   "id": "1834b47d",
   "metadata": {},
   "source": [
    "#### Narasimha Satakam"
   ]
  },
  {
   "cell_type": "code",
   "execution_count": 100,
   "id": "eff6fa54",
   "metadata": {},
   "outputs": [
    {
     "name": "stdout",
     "output_type": "stream",
     "text": [
      "https://andhrabharati.com/shatakamulu/narasiMha/narasiMha11.html\n",
      "https://andhrabharati.com/shatakamulu/narasiMha/narasiMha21.html\n",
      "https://andhrabharati.com/shatakamulu/narasiMha/narasiMha31.html\n",
      "https://andhrabharati.com/shatakamulu/narasiMha/narasiMha41.html\n",
      "https://andhrabharati.com/shatakamulu/narasiMha/narasiMha51.html\n",
      "https://andhrabharati.com/shatakamulu/narasiMha/narasiMha61.html\n",
      "https://andhrabharati.com/shatakamulu/narasiMha/narasiMha71.html\n",
      "https://andhrabharati.com/shatakamulu/narasiMha/narasiMha81.html\n",
      "https://andhrabharati.com/shatakamulu/narasiMha/narasiMha91.html\n"
     ]
    }
   ],
   "source": [
    "base_url= \"https://andhrabharati.com/shatakamulu/narasiMha/index.html\"\n",
    "dataset= scrap_data( base_url= base_url, bhedam= \"vupajaathi\", satakam= \"narasimha\" )"
   ]
  },
  {
   "cell_type": "code",
   "execution_count": 101,
   "id": "27c4ec5a",
   "metadata": {},
   "outputs": [
    {
     "data": {
      "text/plain": [
       "type\n",
       "సీ.    90\n",
       "తే.    90\n",
       "        1\n",
       "Name: count, dtype: int64"
      ]
     },
     "execution_count": 101,
     "metadata": {},
     "output_type": "execute_result"
    }
   ],
   "source": [
    "df= pd.DataFrame(dataset, columns= [\"padyam\", \"bhedam\", \"type\", \"satakam\"])\n",
    "\n",
    "df[\"type\"].value_counts()"
   ]
  },
  {
   "cell_type": "code",
   "execution_count": 102,
   "id": "984f8447",
   "metadata": {},
   "outputs": [],
   "source": [
    "df[\"type\"]= df[\"type\"].replace( {\"సీ.\": \"seesamu\", \"తే.\": \"seesamu\", \"\": \"Unknown\"} )"
   ]
  },
  {
   "cell_type": "code",
   "execution_count": 103,
   "id": "1ab54129",
   "metadata": {},
   "outputs": [],
   "source": [
    "df.to_excel( r\"c:\\Users\\bsnra\\Desktop\\chandassu\\padyamu\\narasimha.xlsx\", index= False )"
   ]
  },
  {
   "cell_type": "markdown",
   "id": "294abf8b",
   "metadata": {},
   "source": [
    "#### Aandhranaayaka Satakam"
   ]
  },
  {
   "cell_type": "code",
   "execution_count": 104,
   "id": "3ed583d3",
   "metadata": {},
   "outputs": [
    {
     "name": "stdout",
     "output_type": "stream",
     "text": [
      "https://andhrabharati.com/shatakamulu/AMdhranAyaka/AMdhranAyaka11.html\n",
      "https://andhrabharati.com/shatakamulu/AMdhranAyaka/AMdhranAyaka21.html\n",
      "https://andhrabharati.com/shatakamulu/AMdhranAyaka/AMdhranAyaka31.html\n",
      "https://andhrabharati.com/shatakamulu/AMdhranAyaka/AMdhranAyaka41.html\n",
      "https://andhrabharati.com/shatakamulu/AMdhranAyaka/AMdhranAyaka51.html\n",
      "https://andhrabharati.com/shatakamulu/AMdhranAyaka/AMdhranAyaka61.html\n",
      "https://andhrabharati.com/shatakamulu/AMdhranAyaka/AMdhranAyaka71.html\n",
      "https://andhrabharati.com/shatakamulu/AMdhranAyaka/AMdhranAyaka81.html\n",
      "https://andhrabharati.com/shatakamulu/AMdhranAyaka/AMdhranAyaka91.html\n",
      "https://andhrabharati.com/shatakamulu/AMdhranAyaka/AMdhranAyaka101.html\n"
     ]
    }
   ],
   "source": [
    "base_url= \"https://andhrabharati.com/shatakamulu/AMdhranAyaka/index.html\"\n",
    "dataset= scrap_data( base_url= base_url, bhedam= \"vupajaathi\", satakam= \"aandhranaayaka\" )"
   ]
  },
  {
   "cell_type": "code",
   "execution_count": 105,
   "id": "35ef4d57",
   "metadata": {},
   "outputs": [
    {
     "data": {
      "text/plain": [
       "type\n",
       "సీ.    106\n",
       "తే.    106\n",
       "Name: count, dtype: int64"
      ]
     },
     "execution_count": 105,
     "metadata": {},
     "output_type": "execute_result"
    }
   ],
   "source": [
    "df= pd.DataFrame(dataset, columns= [\"padyam\", \"bhedam\", \"type\", \"satakam\"])\n",
    "\n",
    "df[\"type\"].value_counts()"
   ]
  },
  {
   "cell_type": "code",
   "execution_count": 106,
   "id": "e91fb44f",
   "metadata": {},
   "outputs": [],
   "source": [
    "df[\"type\"]= df[\"type\"].replace( {\"సీ.\": \"seesamu\", \"తే.\": \"seesamu\"} )"
   ]
  },
  {
   "cell_type": "code",
   "execution_count": 107,
   "id": "4b21a877",
   "metadata": {},
   "outputs": [],
   "source": [
    "df.to_excel( r\"c:\\Users\\bsnra\\Desktop\\chandassu\\padyamu\\aandhranaayaka.xlsx\", index= False )"
   ]
  },
  {
   "cell_type": "markdown",
   "id": "ffade011",
   "metadata": {},
   "source": [
    "#### Maaruthi Satakam"
   ]
  },
  {
   "cell_type": "code",
   "execution_count": 108,
   "id": "9f4007c4",
   "metadata": {},
   "outputs": [
    {
     "name": "stdout",
     "output_type": "stream",
     "text": [
      "https://andhrabharati.com/shatakamulu/mAruti/mAruti11.html\n",
      "https://andhrabharati.com/shatakamulu/mAruti/mAruti21.html\n",
      "https://andhrabharati.com/shatakamulu/mAruti/mAruti31.html\n",
      "https://andhrabharati.com/shatakamulu/mAruti/mAruti41.html\n",
      "https://andhrabharati.com/shatakamulu/mAruti/mAruti51.html\n",
      "https://andhrabharati.com/shatakamulu/mAruti/mAruti61.html\n",
      "https://andhrabharati.com/shatakamulu/mAruti/mAruti71.html\n",
      "https://andhrabharati.com/shatakamulu/mAruti/mAruti81.html\n",
      "https://andhrabharati.com/shatakamulu/mAruti/mAruti91.html\n",
      "https://andhrabharati.com/shatakamulu/mAruti/mAruti101.html\n",
      "https://andhrabharati.com/shatakamulu/mAruti/mAruti111.html\n"
     ]
    }
   ],
   "source": [
    "base_url= \"https://andhrabharati.com/shatakamulu/mAruti/index.html\"\n",
    "dataset= scrap_data( base_url= base_url, bhedam= \"vruttamu\", satakam= \"maaruthi\" )"
   ]
  },
  {
   "cell_type": "code",
   "execution_count": 109,
   "id": "de080cb5",
   "metadata": {},
   "outputs": [
    {
     "data": {
      "text/plain": [
       "type\n",
       "మ.     81\n",
       "శా.    35\n",
       "Name: count, dtype: int64"
      ]
     },
     "execution_count": 109,
     "metadata": {},
     "output_type": "execute_result"
    }
   ],
   "source": [
    "df= pd.DataFrame(dataset, columns= [\"padyam\", \"bhedam\", \"type\", \"satakam\"])\n",
    "\n",
    "df[\"type\"].value_counts()"
   ]
  },
  {
   "cell_type": "code",
   "execution_count": 110,
   "id": "61f27156",
   "metadata": {},
   "outputs": [],
   "source": [
    "df[\"type\"]= df[\"type\"].replace( {\"మ.\": \"mattebhamu\", \"శా.\": \"saardulamu\"} )"
   ]
  },
  {
   "cell_type": "code",
   "execution_count": 111,
   "id": "a9bab4f7",
   "metadata": {},
   "outputs": [],
   "source": [
    "df.to_excel( r\"c:\\Users\\bsnra\\Desktop\\chandassu\\padyamu\\maaruthi.xlsx\", index= False )"
   ]
  },
  {
   "cell_type": "markdown",
   "id": "b8f09fb1",
   "metadata": {},
   "source": [
    "#### naarayana satakam"
   ]
  },
  {
   "cell_type": "code",
   "execution_count": 112,
   "id": "d24cc028",
   "metadata": {},
   "outputs": [
    {
     "name": "stdout",
     "output_type": "stream",
     "text": [
      "https://andhrabharati.com/shatakamulu/nArAyaNa/nArAyaNa11.html\n",
      "https://andhrabharati.com/shatakamulu/nArAyaNa/nArAyaNa21.html\n",
      "https://andhrabharati.com/shatakamulu/nArAyaNa/nArAyaNa31.html\n",
      "https://andhrabharati.com/shatakamulu/nArAyaNa/nArAyaNa41.html\n",
      "https://andhrabharati.com/shatakamulu/nArAyaNa/nArAyaNa51.html\n",
      "https://andhrabharati.com/shatakamulu/nArAyaNa/nArAyaNa61.html\n",
      "https://andhrabharati.com/shatakamulu/nArAyaNa/nArAyaNa71.html\n",
      "https://andhrabharati.com/shatakamulu/nArAyaNa/nArAyaNa81.html\n",
      "https://andhrabharati.com/shatakamulu/nArAyaNa/nArAyaNa91.html\n",
      "https://andhrabharati.com/shatakamulu/nArAyaNa/nArAyaNa101.html\n"
     ]
    }
   ],
   "source": [
    "base_url= \"https://andhrabharati.com/shatakamulu/nArAyaNa/index.html\"\n",
    "dataset= scrap_data( base_url= base_url, bhedam= \"vruttamu\", satakam= \"naarayana\" )"
   ]
  },
  {
   "cell_type": "code",
   "execution_count": 113,
   "id": "170b548f",
   "metadata": {},
   "outputs": [
    {
     "data": {
      "text/plain": [
       "type\n",
       "మ.     79\n",
       "శా.    26\n",
       "Name: count, dtype: int64"
      ]
     },
     "execution_count": 113,
     "metadata": {},
     "output_type": "execute_result"
    }
   ],
   "source": [
    "df= pd.DataFrame(dataset, columns= [\"padyam\", \"bhedam\", \"type\", \"satakam\"])\n",
    "\n",
    "df[\"type\"].value_counts()"
   ]
  },
  {
   "cell_type": "code",
   "execution_count": 114,
   "id": "6df45732",
   "metadata": {},
   "outputs": [],
   "source": [
    "df[\"type\"]= df[\"type\"].replace( {\"మ.\": \"mattebhamu\", \"శా.\": \"saardulamu\"} )"
   ]
  },
  {
   "cell_type": "code",
   "execution_count": 115,
   "id": "939375fd",
   "metadata": {},
   "outputs": [],
   "source": [
    "df.to_excel( r\"c:\\Users\\bsnra\\Desktop\\chandassu\\padyamu\\naarayana.xlsx\", index= False )"
   ]
  },
  {
   "cell_type": "markdown",
   "id": "f6ed224e",
   "metadata": {},
   "source": [
    "#### chennamallu seesamulu"
   ]
  },
  {
   "cell_type": "code",
   "execution_count": 116,
   "id": "a2d5290a",
   "metadata": {},
   "outputs": [
    {
     "name": "stdout",
     "output_type": "stream",
     "text": [
      "Exception :  list index out of range\n",
      "Exception :  list index out of range\n",
      "https://andhrabharati.com/shatakamulu/chennamallu/chennamallu14.html\n",
      "Exception :  list index out of range\n",
      "https://andhrabharati.com/shatakamulu/chennamallu/chennamallu19.html\n",
      "Exception :  list index out of range\n",
      "https://andhrabharati.com/shatakamulu/chennamallu/chennamallu22.html\n",
      "Exception :  list index out of range\n",
      "https://andhrabharati.com/shatakamulu/chennamallu/chennamallu26.html\n",
      "Exception :  list index out of range\n",
      "Exception :  list index out of range\n",
      "https://andhrabharati.com/shatakamulu/chennamallu/chennamallu31.html\n",
      "Exception :  list index out of range\n",
      "Exception :  list index out of range\n",
      "https://andhrabharati.com/shatakamulu/chennamallu/chennamallu36.html\n"
     ]
    }
   ],
   "source": [
    "base_url= \"https://andhrabharati.com/shatakamulu/chennamallu/index.html\"\n",
    "dataset= scrap_data( base_url= base_url, bhedam= \"vupajaathi\", satakam= \"chennamallu\" )"
   ]
  },
  {
   "cell_type": "code",
   "execution_count": 117,
   "id": "7df5a60b",
   "metadata": {},
   "outputs": [],
   "source": [
    "df= pd.DataFrame(dataset, columns= [\"_\", \"bhedam\", \"padyam\", \"satakam\"])\n",
    "\n",
    "df.drop(\"_\", axis= 1, inplace= True)"
   ]
  },
  {
   "cell_type": "code",
   "execution_count": 118,
   "id": "cf0ec522",
   "metadata": {},
   "outputs": [],
   "source": [
    "df.to_excel( r\"c:\\Users\\bsnra\\Desktop\\chandassu\\padyamu\\chennamallu.xlsx\", index= False )"
   ]
  },
  {
   "cell_type": "markdown",
   "id": "b0d31460",
   "metadata": {},
   "source": [
    "#### guvvalachenna satakamu"
   ]
  },
  {
   "cell_type": "code",
   "execution_count": 119,
   "id": "be8cab44",
   "metadata": {},
   "outputs": [
    {
     "name": "stdout",
     "output_type": "stream",
     "text": [
      "https://andhrabharati.com/shatakamulu/guvvalachenna/guvvalachenna11.html\n",
      "https://andhrabharati.com/shatakamulu/guvvalachenna/guvvalachenna21.html\n",
      "https://andhrabharati.com/shatakamulu/guvvalachenna/guvvalachenna31.html\n",
      "https://andhrabharati.com/shatakamulu/guvvalachenna/guvvalachenna41.html\n",
      "https://andhrabharati.com/shatakamulu/guvvalachenna/guvvalachenna51.html\n",
      "https://andhrabharati.com/shatakamulu/guvvalachenna/guvvalachenna61.html\n",
      "https://andhrabharati.com/shatakamulu/guvvalachenna/guvvalachenna71.html\n",
      "https://andhrabharati.com/shatakamulu/guvvalachenna/guvvalachenna81.html\n",
      "https://andhrabharati.com/shatakamulu/guvvalachenna/guvvalachenna91.html\n",
      "https://andhrabharati.com/shatakamulu/guvvalachenna/guvvalachenna101.html\n"
     ]
    }
   ],
   "source": [
    "base_url= \"https://andhrabharati.com/shatakamulu/guvvalachenna/index.html\"\n",
    "dataset= scrap_data( base_url= base_url, bhedam= \"jaathi\", satakam= \"guvvalachenna\" )"
   ]
  },
  {
   "cell_type": "code",
   "execution_count": 120,
   "id": "cc717085",
   "metadata": {},
   "outputs": [
    {
     "data": {
      "text/plain": [
       "type\n",
       "క.    111\n",
       "Name: count, dtype: int64"
      ]
     },
     "execution_count": 120,
     "metadata": {},
     "output_type": "execute_result"
    }
   ],
   "source": [
    "df= pd.DataFrame(dataset, columns= [\"padyam\", \"bhedam\", \"type\", \"satakam\"])\n",
    "\n",
    "df[\"type\"].value_counts()"
   ]
  },
  {
   "cell_type": "code",
   "execution_count": 121,
   "id": "55dcf869",
   "metadata": {},
   "outputs": [],
   "source": [
    "df[\"type\"]= df[\"type\"].replace( {\"క.\": \"kandamu\"} )"
   ]
  },
  {
   "cell_type": "code",
   "execution_count": 122,
   "id": "eb74d15e",
   "metadata": {},
   "outputs": [],
   "source": [
    "df.to_excel( r\"c:\\Users\\bsnra\\Desktop\\chandassu\\padyamu\\guvvalachenna.xlsx\", index= False )"
   ]
  },
  {
   "cell_type": "markdown",
   "id": "7bde7867",
   "metadata": {},
   "source": [
    "#### Devakinandana Satakamu"
   ]
  },
  {
   "cell_type": "code",
   "execution_count": 123,
   "id": "4f012a96",
   "metadata": {},
   "outputs": [
    {
     "name": "stdout",
     "output_type": "stream",
     "text": [
      "https://andhrabharati.com/shatakamulu/dEvakInaMdana/dEvakInaMdana11.html\n",
      "https://andhrabharati.com/shatakamulu/dEvakInaMdana/dEvakInaMdana21.html\n",
      "https://andhrabharati.com/shatakamulu/dEvakInaMdana/dEvakInaMdana31.html\n",
      "https://andhrabharati.com/shatakamulu/dEvakInaMdana/dEvakInaMdana41.html\n",
      "https://andhrabharati.com/shatakamulu/dEvakInaMdana/dEvakInaMdana51.html\n",
      "https://andhrabharati.com/shatakamulu/dEvakInaMdana/dEvakInaMdana61.html\n",
      "https://andhrabharati.com/shatakamulu/dEvakInaMdana/dEvakInaMdana71.html\n",
      "https://andhrabharati.com/shatakamulu/dEvakInaMdana/dEvakInaMdana81.html\n",
      "https://andhrabharati.com/shatakamulu/dEvakInaMdana/dEvakInaMdana91.html\n"
     ]
    }
   ],
   "source": [
    "base_url= \"https://andhrabharati.com/shatakamulu/dEvakInaMdana/index.html\"\n",
    "dataset= scrap_data( base_url= base_url, bhedam= \"vruttamu\", satakam= \"devakinandana\" )"
   ]
  },
  {
   "cell_type": "code",
   "execution_count": 124,
   "id": "6ba719ae",
   "metadata": {},
   "outputs": [
    {
     "data": {
      "text/plain": [
       "type\n",
       "మ.     60\n",
       "శా.    40\n",
       "క.      1\n",
       "Name: count, dtype: int64"
      ]
     },
     "execution_count": 124,
     "metadata": {},
     "output_type": "execute_result"
    }
   ],
   "source": [
    "df= pd.DataFrame(dataset, columns= [\"padyam\", \"bhedam\", \"type\", \"satakam\"])\n",
    "\n",
    "df[\"type\"].value_counts()"
   ]
  },
  {
   "cell_type": "code",
   "execution_count": 125,
   "id": "a7144ceb",
   "metadata": {},
   "outputs": [],
   "source": [
    "df[\"type\"]= df[\"type\"].replace( {\"మ.\": \"mattebhamu\", \"శా.\": \"saardulamu\", \"క.\": \"kandamu\"} )"
   ]
  },
  {
   "cell_type": "code",
   "execution_count": 126,
   "id": "44303739",
   "metadata": {},
   "outputs": [],
   "source": [
    "df.to_excel( r\"c:\\Users\\bsnra\\Desktop\\chandassu\\padyamu\\devakinandana.xlsx\", index= False )"
   ]
  },
  {
   "cell_type": "markdown",
   "id": "63c25c48",
   "metadata": {},
   "source": [
    "#### kuppusaami satakamu"
   ]
  },
  {
   "cell_type": "code",
   "execution_count": 127,
   "id": "0bbbeaf5",
   "metadata": {},
   "outputs": [
    {
     "name": "stdout",
     "output_type": "stream",
     "text": [
      "https://andhrabharati.com/shatakamulu/kuppusAmi/kuppusAmi11.html\n",
      "https://andhrabharati.com/shatakamulu/kuppusAmi/kuppusAmi21.html\n",
      "https://andhrabharati.com/shatakamulu/kuppusAmi/kuppusAmi31.html\n",
      "https://andhrabharati.com/shatakamulu/kuppusAmi/kuppusAmi41.html\n",
      "https://andhrabharati.com/shatakamulu/kuppusAmi/kuppusAmi51.html\n",
      "https://andhrabharati.com/shatakamulu/kuppusAmi/kuppusAmi61.html\n",
      "https://andhrabharati.com/shatakamulu/kuppusAmi/kuppusAmi71.html\n",
      "https://andhrabharati.com/shatakamulu/kuppusAmi/kuppusAmi81.html\n",
      "https://andhrabharati.com/shatakamulu/kuppusAmi/kuppusAmi91.html\n",
      "https://andhrabharati.com/shatakamulu/kuppusAmi/kuppusAmi101.html\n"
     ]
    }
   ],
   "source": [
    "base_url= \"https://andhrabharati.com/shatakamulu/kuppusAmi/index.html\"\n",
    "dataset= scrap_data( base_url= base_url, bhedam= \"vupajaathi\", satakam= \"kuppusaami\" )"
   ]
  },
  {
   "cell_type": "code",
   "execution_count": 128,
   "id": "babcab42",
   "metadata": {},
   "outputs": [
    {
     "data": {
      "text/html": [
       "<div>\n",
       "<style scoped>\n",
       "    .dataframe tbody tr th:only-of-type {\n",
       "        vertical-align: middle;\n",
       "    }\n",
       "\n",
       "    .dataframe tbody tr th {\n",
       "        vertical-align: top;\n",
       "    }\n",
       "\n",
       "    .dataframe thead th {\n",
       "        text-align: right;\n",
       "    }\n",
       "</style>\n",
       "<table border=\"1\" class=\"dataframe\">\n",
       "  <thead>\n",
       "    <tr style=\"text-align: right;\">\n",
       "      <th></th>\n",
       "      <th>_</th>\n",
       "      <th>bhedam</th>\n",
       "      <th>padyam</th>\n",
       "      <th>satakam</th>\n",
       "    </tr>\n",
       "  </thead>\n",
       "  <tbody>\n",
       "    <tr>\n",
       "      <th>0</th>\n",
       "      <td>1</td>\n",
       "      <td>vruttamu</td>\n",
       "      <td>\\r\\nగొంటరులఁ దుంటరుల గుమిగూర్చి సృష్టిఁ\\r\\nజేస...</td>\n",
       "      <td>kuppusaami</td>\n",
       "    </tr>\n",
       "    <tr>\n",
       "      <th>1</th>\n",
       "      <td>2</td>\n",
       "      <td>vruttamu</td>\n",
       "      <td>\\r\\nఏడొ, పద్నాలుగో, మూఁడొ యెన్నొ, జగము\\r\\nలెల్...</td>\n",
       "      <td>kuppusaami</td>\n",
       "    </tr>\n",
       "    <tr>\n",
       "      <th>2</th>\n",
       "      <td>3</td>\n",
       "      <td>vruttamu</td>\n",
       "      <td>\\r\\nచిన్న పిల్లలకును దల్లి చెప్పునటులఁ\\r\\nదెలు...</td>\n",
       "      <td>kuppusaami</td>\n",
       "    </tr>\n",
       "    <tr>\n",
       "      <th>3</th>\n",
       "      <td>4</td>\n",
       "      <td>vruttamu</td>\n",
       "      <td>\\r\\nమున్ను పెద్దలు చెప్పిన వెన్నొ కలవు,\\r\\nఎన్...</td>\n",
       "      <td>kuppusaami</td>\n",
       "    </tr>\n",
       "    <tr>\n",
       "      <th>4</th>\n",
       "      <td>5</td>\n",
       "      <td>vruttamu</td>\n",
       "      <td>\\r\\nకమ్మ నెత్తావి దెసలెల్లఁ జిమ్మునట్టి\\r\\nగంధ...</td>\n",
       "      <td>kuppusaami</td>\n",
       "    </tr>\n",
       "    <tr>\n",
       "      <th>...</th>\n",
       "      <td>...</td>\n",
       "      <td>...</td>\n",
       "      <td>...</td>\n",
       "      <td>...</td>\n",
       "    </tr>\n",
       "    <tr>\n",
       "      <th>97</th>\n",
       "      <td>98</td>\n",
       "      <td>vupajaathi</td>\n",
       "      <td>\\r\\nపెట్టుపోతలున్న యట్టి వంగస మెందుఁ\\r\\nగుతిలప...</td>\n",
       "      <td>kuppusaami</td>\n",
       "    </tr>\n",
       "    <tr>\n",
       "      <th>98</th>\n",
       "      <td>99</td>\n",
       "      <td>vupajaathi</td>\n",
       "      <td>\\r\\nజంతుజాలమునకుఁ జావు నైజమగుటఁ\\r\\nదెలివి గల్గ...</td>\n",
       "      <td>kuppusaami</td>\n",
       "    </tr>\n",
       "    <tr>\n",
       "      <th>99</th>\n",
       "      <td>100</td>\n",
       "      <td>vupajaathi</td>\n",
       "      <td>\\r\\nతల్లి కప్పిపుచ్చుఁ దనబిడ్డలందున్న\\r\\nయెన్న...</td>\n",
       "      <td>kuppusaami</td>\n",
       "    </tr>\n",
       "    <tr>\n",
       "      <th>100</th>\n",
       "      <td>101</td>\n",
       "      <td>vupajaathi</td>\n",
       "      <td>\\r\\nకైతకైదువన్న భీతిపడు జగంబు\\r\\nకైదు వున్నయట్...</td>\n",
       "      <td>kuppusaami</td>\n",
       "    </tr>\n",
       "    <tr>\n",
       "      <th>101</th>\n",
       "      <td>102</td>\n",
       "      <td>vupajaathi</td>\n",
       "      <td>\\r\\nకఱద లిన్నికూర్చి కవిరాజు వచియించెఁ\\r\\nబరుల...</td>\n",
       "      <td>kuppusaami</td>\n",
       "    </tr>\n",
       "  </tbody>\n",
       "</table>\n",
       "<p>102 rows × 4 columns</p>\n",
       "</div>"
      ],
      "text/plain": [
       "       _      bhedam                                             padyam  \\\n",
       "0      1    vruttamu  \\r\\nగొంటరులఁ దుంటరుల గుమిగూర్చి సృష్టిఁ\\r\\nజేస...   \n",
       "1      2    vruttamu  \\r\\nఏడొ, పద్నాలుగో, మూఁడొ యెన్నొ, జగము\\r\\nలెల్...   \n",
       "2      3    vruttamu  \\r\\nచిన్న పిల్లలకును దల్లి చెప్పునటులఁ\\r\\nదెలు...   \n",
       "3      4    vruttamu  \\r\\nమున్ను పెద్దలు చెప్పిన వెన్నొ కలవు,\\r\\nఎన్...   \n",
       "4      5    vruttamu  \\r\\nకమ్మ నెత్తావి దెసలెల్లఁ జిమ్మునట్టి\\r\\nగంధ...   \n",
       "..   ...         ...                                                ...   \n",
       "97    98  vupajaathi  \\r\\nపెట్టుపోతలున్న యట్టి వంగస మెందుఁ\\r\\nగుతిలప...   \n",
       "98    99  vupajaathi  \\r\\nజంతుజాలమునకుఁ జావు నైజమగుటఁ\\r\\nదెలివి గల్గ...   \n",
       "99   100  vupajaathi  \\r\\nతల్లి కప్పిపుచ్చుఁ దనబిడ్డలందున్న\\r\\nయెన్న...   \n",
       "100  101  vupajaathi  \\r\\nకైతకైదువన్న భీతిపడు జగంబు\\r\\nకైదు వున్నయట్...   \n",
       "101  102  vupajaathi  \\r\\nకఱద లిన్నికూర్చి కవిరాజు వచియించెఁ\\r\\nబరుల...   \n",
       "\n",
       "        satakam  \n",
       "0    kuppusaami  \n",
       "1    kuppusaami  \n",
       "2    kuppusaami  \n",
       "3    kuppusaami  \n",
       "4    kuppusaami  \n",
       "..          ...  \n",
       "97   kuppusaami  \n",
       "98   kuppusaami  \n",
       "99   kuppusaami  \n",
       "100  kuppusaami  \n",
       "101  kuppusaami  \n",
       "\n",
       "[102 rows x 4 columns]"
      ]
     },
     "execution_count": 128,
     "metadata": {},
     "output_type": "execute_result"
    }
   ],
   "source": [
    "df= pd.DataFrame(dataset, columns= [\"_\", \"bhedam\", \"padyam\", \"satakam\"])\n",
    "\n",
    "# df[\"type\"].value_counts()\n",
    "df"
   ]
  },
  {
   "cell_type": "code",
   "execution_count": 129,
   "id": "bad1e84f",
   "metadata": {},
   "outputs": [],
   "source": [
    "df.to_excel( r\"c:\\Users\\bsnra\\Desktop\\chandassu\\padyamu\\kuppusaami.xlsx\", index= False )"
   ]
  },
  {
   "cell_type": "markdown",
   "id": "72c6c1f3",
   "metadata": {},
   "source": [
    "#### dhurthamaanava satakamu"
   ]
  },
  {
   "cell_type": "code",
   "execution_count": 130,
   "id": "7da5edf3",
   "metadata": {},
   "outputs": [
    {
     "name": "stdout",
     "output_type": "stream",
     "text": [
      "https://andhrabharati.com/shatakamulu/dhUrtamAnavA/dhUrtamAnavA11.html\n",
      "https://andhrabharati.com/shatakamulu/dhUrtamAnavA/dhUrtamAnavA21.html\n",
      "https://andhrabharati.com/shatakamulu/dhUrtamAnavA/dhUrtamAnavA31.html\n"
     ]
    }
   ],
   "source": [
    "base_url= \"https://andhrabharati.com/shatakamulu/dhUrtamAnavA/index.html\"\n",
    "dataset= scrap_data( base_url= base_url, bhedam= \"vruttamu\", satakam= \"dhurthamaanava\" )"
   ]
  },
  {
   "cell_type": "code",
   "execution_count": 134,
   "id": "c74e96b6",
   "metadata": {},
   "outputs": [
    {
     "data": {
      "text/html": [
       "<div>\n",
       "<style scoped>\n",
       "    .dataframe tbody tr th:only-of-type {\n",
       "        vertical-align: middle;\n",
       "    }\n",
       "\n",
       "    .dataframe tbody tr th {\n",
       "        vertical-align: top;\n",
       "    }\n",
       "\n",
       "    .dataframe thead th {\n",
       "        text-align: right;\n",
       "    }\n",
       "</style>\n",
       "<table border=\"1\" class=\"dataframe\">\n",
       "  <thead>\n",
       "    <tr style=\"text-align: right;\">\n",
       "      <th></th>\n",
       "      <th>bhedam</th>\n",
       "      <th>padyam</th>\n",
       "      <th>satakam</th>\n",
       "    </tr>\n",
       "  </thead>\n",
       "  <tbody>\n",
       "    <tr>\n",
       "      <th>0</th>\n",
       "      <td>vruttamu</td>\n",
       "      <td>\\r\\nఏఁ బదునాల్గులోకముల-సృష్టియొనర్చుచుఁ బెంచి ...</td>\n",
       "      <td>dhurthamaanava</td>\n",
       "    </tr>\n",
       "    <tr>\n",
       "      <th>1</th>\n",
       "      <td>vruttamu</td>\n",
       "      <td>\\r\\nఎవ్వరు చూచినారు సృజి-యింపఁగ నీ పదునాల్గులో...</td>\n",
       "      <td>dhurthamaanava</td>\n",
       "    </tr>\n",
       "    <tr>\n",
       "      <th>2</th>\n",
       "      <td>vruttamu</td>\n",
       "      <td>\\r\\nప్రతివర్షంబును నా వివాహ మను పే-రన్‌ బెక్కు...</td>\n",
       "      <td>dhurthamaanava</td>\n",
       "    </tr>\n",
       "    <tr>\n",
       "      <th>3</th>\n",
       "      <td>vruttamu</td>\n",
       "      <td>\\r\\nకాపురముండ నిల్లు, నడ-కత్తెరలోఁ బడియుండఁ బె...</td>\n",
       "      <td>dhurthamaanava</td>\n",
       "    </tr>\n",
       "    <tr>\n",
       "      <th>4</th>\n",
       "      <td>vruttamu</td>\n",
       "      <td>\\r\\nకొస కేమౌనొ యెఱుంగకుండ నుసితోఁ-గోణంగివై నీవ...</td>\n",
       "      <td>dhurthamaanava</td>\n",
       "    </tr>\n",
       "  </tbody>\n",
       "</table>\n",
       "</div>"
      ],
      "text/plain": [
       "     bhedam                                             padyam         satakam\n",
       "0  vruttamu  \\r\\nఏఁ బదునాల్గులోకముల-సృష్టియొనర్చుచుఁ బెంచి ...  dhurthamaanava\n",
       "1  vruttamu  \\r\\nఎవ్వరు చూచినారు సృజి-యింపఁగ నీ పదునాల్గులో...  dhurthamaanava\n",
       "2  vruttamu  \\r\\nప్రతివర్షంబును నా వివాహ మను పే-రన్‌ బెక్కు...  dhurthamaanava\n",
       "3  vruttamu  \\r\\nకాపురముండ నిల్లు, నడ-కత్తెరలోఁ బడియుండఁ బె...  dhurthamaanava\n",
       "4  vruttamu  \\r\\nకొస కేమౌనొ యెఱుంగకుండ నుసితోఁ-గోణంగివై నీవ...  dhurthamaanava"
      ]
     },
     "execution_count": 134,
     "metadata": {},
     "output_type": "execute_result"
    }
   ],
   "source": [
    "df= pd.DataFrame(dataset, columns= [\"_\", \"bhedam\", \"padyam\", \"satakam\"])\n",
    "\n",
    "# df[\"type\"].value_counts()\n",
    "df.drop( \"_\", axis= 1, inplace= True)\n",
    "df.head()"
   ]
  },
  {
   "cell_type": "code",
   "execution_count": 135,
   "id": "5f2f3c04",
   "metadata": {},
   "outputs": [],
   "source": [
    "df.to_excel( r\"c:\\Users\\bsnra\\Desktop\\chandassu\\padyamu\\dhurthamaanava.xlsx\", index= False )"
   ]
  },
  {
   "cell_type": "markdown",
   "id": "5b3f22cb",
   "metadata": {},
   "source": [
    "##### Sampangimanna Satakamu"
   ]
  },
  {
   "cell_type": "code",
   "execution_count": null,
   "id": "ffb13eed",
   "metadata": {},
   "outputs": [
    {
     "name": "stdout",
     "output_type": "stream",
     "text": [
      "https://andhrabharati.com/shatakamulu/saMpaMgimanna/saMpaMgimanna11.html\n",
      "https://andhrabharati.com/shatakamulu/saMpaMgimanna/saMpaMgimanna21.html\n",
      "https://andhrabharati.com/shatakamulu/saMpaMgimanna/saMpaMgimanna31.html\n",
      "https://andhrabharati.com/shatakamulu/saMpaMgimanna/saMpaMgimanna41.html\n",
      "https://andhrabharati.com/shatakamulu/saMpaMgimanna/saMpaMgimanna51.html\n",
      "https://andhrabharati.com/shatakamulu/saMpaMgimanna/saMpaMgimanna61.html\n",
      "https://andhrabharati.com/shatakamulu/saMpaMgimanna/saMpaMgimanna71.html\n",
      "https://andhrabharati.com/shatakamulu/saMpaMgimanna/saMpaMgimanna81.html\n",
      "https://andhrabharati.com/shatakamulu/saMpaMgimanna/saMpaMgimanna91.html\n",
      "https://andhrabharati.com/shatakamulu/saMpaMgimanna/saMpaMgimanna101.html\n",
      "https://andhrabharati.com/shatakamulu/saMpaMgimanna/saMpaMgimanna111.html\n"
     ]
    }
   ],
   "source": [
    "base_url= \"https://andhrabharati.com/shatakamulu/saMpaMgimanna/index.html\"\n",
    "dataset= scrap_data( base_url= base_url, bhedam= \"jaathi\", satakam= \"sampangimanna\" )"
   ]
  },
  {
   "cell_type": "code",
   "execution_count": 137,
   "id": "f5d37931",
   "metadata": {},
   "outputs": [
    {
     "data": {
      "text/plain": [
       "type\n",
       "క.    120\n",
       "Name: count, dtype: int64"
      ]
     },
     "execution_count": 137,
     "metadata": {},
     "output_type": "execute_result"
    }
   ],
   "source": [
    "df= pd.DataFrame(dataset, columns= [\"padyam\", \"bhedam\", \"type\", \"satakam\"])\n",
    "\n",
    "df[\"type\"].value_counts()"
   ]
  },
  {
   "cell_type": "code",
   "execution_count": 139,
   "id": "7b53da03",
   "metadata": {},
   "outputs": [],
   "source": [
    "df[\"type\"]= df[\"type\"].replace( {\"క.\": \"kandamu\"} )"
   ]
  },
  {
   "cell_type": "code",
   "execution_count": 140,
   "id": "753839df",
   "metadata": {},
   "outputs": [],
   "source": [
    "df.to_excel( r\"c:\\Users\\bsnra\\Desktop\\chandassu\\padyamu\\sampangimanna.xlsx\", index= False )"
   ]
  },
  {
   "cell_type": "code",
   "execution_count": null,
   "id": "99d8aa98",
   "metadata": {},
   "outputs": [],
   "source": []
  },
  {
   "cell_type": "markdown",
   "id": "0f806c65",
   "metadata": {},
   "source": [
    "##### Kumaara Satakamu"
   ]
  },
  {
   "cell_type": "code",
   "execution_count": 141,
   "id": "9e71b2e6",
   "metadata": {},
   "outputs": [
    {
     "name": "stdout",
     "output_type": "stream",
     "text": [
      "https://andhrabharati.com/shatakamulu/kumAra/kumAra11.html\n",
      "https://andhrabharati.com/shatakamulu/kumAra/kumAra21.html\n",
      "https://andhrabharati.com/shatakamulu/kumAra/kumAra31.html\n",
      "https://andhrabharati.com/shatakamulu/kumAra/kumAra41.html\n",
      "https://andhrabharati.com/shatakamulu/kumAra/kumAra51.html\n",
      "https://andhrabharati.com/shatakamulu/kumAra/kumAra61.html\n",
      "https://andhrabharati.com/shatakamulu/kumAra/kumAra71.html\n",
      "https://andhrabharati.com/shatakamulu/kumAra/kumAra81.html\n",
      "https://andhrabharati.com/shatakamulu/kumAra/kumAra91.html\n",
      "https://andhrabharati.com/shatakamulu/kumAra/kumAra101.html\n"
     ]
    }
   ],
   "source": [
    "base_url= \"https://andhrabharati.com/shatakamulu/kumAra/index.html\"\n",
    "dataset= scrap_data( base_url= base_url, bhedam= \"jaathi\", satakam= \"kumaara\" )"
   ]
  },
  {
   "cell_type": "code",
   "execution_count": 142,
   "id": "5a5028fe",
   "metadata": {},
   "outputs": [
    {
     "data": {
      "text/plain": [
       "type\n",
       "క.    104\n",
       "Name: count, dtype: int64"
      ]
     },
     "execution_count": 142,
     "metadata": {},
     "output_type": "execute_result"
    }
   ],
   "source": [
    "df= pd.DataFrame(dataset, columns= [\"padyam\", \"bhedam\", \"type\", \"satakam\"])\n",
    "\n",
    "df[\"type\"].value_counts()"
   ]
  },
  {
   "cell_type": "code",
   "execution_count": 143,
   "id": "dee3ddd7",
   "metadata": {},
   "outputs": [],
   "source": [
    "df[\"type\"]= df[\"type\"].replace( {\"క.\": \"kandamu\"} )"
   ]
  },
  {
   "cell_type": "code",
   "execution_count": 144,
   "id": "46d9d5c9",
   "metadata": {},
   "outputs": [],
   "source": [
    "df.to_excel( r\"c:\\Users\\bsnra\\Desktop\\chandassu\\padyamu\\kumaara.xlsx\", index= False )"
   ]
  },
  {
   "cell_type": "code",
   "execution_count": 145,
   "id": "dd5ee755",
   "metadata": {},
   "outputs": [
    {
     "name": "stdout",
     "output_type": "stream",
     "text": [
      "https://andhrabharati.com/shatakamulu/vEMkaTEsha/vEMkaTEsha11.html\n",
      "https://andhrabharati.com/shatakamulu/vEMkaTEsha/vEMkaTEsha21.html\n",
      "https://andhrabharati.com/shatakamulu/vEMkaTEsha/vEMkaTEsha31.html\n",
      "https://andhrabharati.com/shatakamulu/vEMkaTEsha/vEMkaTEsha41.html\n",
      "https://andhrabharati.com/shatakamulu/vEMkaTEsha/vEMkaTEsha51.html\n",
      "https://andhrabharati.com/shatakamulu/vEMkaTEsha/vEMkaTEsha61.html\n",
      "https://andhrabharati.com/shatakamulu/vEMkaTEsha/vEMkaTEsha71.html\n",
      "https://andhrabharati.com/shatakamulu/vEMkaTEsha/vEMkaTEsha81.html\n",
      "https://andhrabharati.com/shatakamulu/vEMkaTEsha/vEMkaTEsha91.html\n"
     ]
    }
   ],
   "source": [
    "base_url= \"https://andhrabharati.com/shatakamulu/vEMkaTEsha/index.html\"\n",
    "dataset= scrap_data( base_url= base_url, bhedam= \"jaathi\", satakam= \"venkatesa\" )"
   ]
  },
  {
   "cell_type": "code",
   "execution_count": 151,
   "id": "f9a5800b",
   "metadata": {},
   "outputs": [
    {
     "data": {
      "text/html": [
       "<div>\n",
       "<style scoped>\n",
       "    .dataframe tbody tr th:only-of-type {\n",
       "        vertical-align: middle;\n",
       "    }\n",
       "\n",
       "    .dataframe tbody tr th {\n",
       "        vertical-align: top;\n",
       "    }\n",
       "\n",
       "    .dataframe thead th {\n",
       "        text-align: right;\n",
       "    }\n",
       "</style>\n",
       "<table border=\"1\" class=\"dataframe\">\n",
       "  <thead>\n",
       "    <tr style=\"text-align: right;\">\n",
       "      <th></th>\n",
       "      <th>bhedam</th>\n",
       "      <th>padyam</th>\n",
       "      <th>satakam</th>\n",
       "    </tr>\n",
       "  </thead>\n",
       "  <tbody>\n",
       "    <tr>\n",
       "      <th>0</th>\n",
       "      <td>vruttamu</td>\n",
       "      <td>\\nశ్రీదేవి యురమున శిరసునఁ దులసి భూ, కాంతవీఁపుఁ...</td>\n",
       "      <td>venkatesa</td>\n",
       "    </tr>\n",
       "    <tr>\n",
       "      <th>1</th>\n",
       "      <td>vruttamu</td>\n",
       "      <td>\\nగలిగి శోభిల్లు నీమూర్తిఁ దలచి నీకు, సీసశతకంబ...</td>\n",
       "      <td>venkatesa</td>\n",
       "    </tr>\n",
       "    <tr>\n",
       "      <th>2</th>\n",
       "      <td>vruttamu</td>\n",
       "      <td>\\nధర్మంబుగలచోటఁ దలకొను జయమెల్ల, దయగలచో సుకృతంబ...</td>\n",
       "      <td>venkatesa</td>\n",
       "    </tr>\n",
       "    <tr>\n",
       "      <th>3</th>\n",
       "      <td>vruttamu</td>\n",
       "      <td>\\nలితరమగుచోట వెదకిన నేలయుండు, సొరదినీదైనకృపగలచ...</td>\n",
       "      <td>venkatesa</td>\n",
       "    </tr>\n",
       "    <tr>\n",
       "      <th>4</th>\n",
       "      <td>vruttamu</td>\n",
       "      <td>\\nపరమనాస్తికునకు భక్తివాదము లేల, షండున కేటికి ...</td>\n",
       "      <td>venkatesa</td>\n",
       "    </tr>\n",
       "    <tr>\n",
       "      <th>...</th>\n",
       "      <td>...</td>\n",
       "      <td>...</td>\n",
       "      <td>...</td>\n",
       "    </tr>\n",
       "    <tr>\n",
       "      <th>195</th>\n",
       "      <td>jaathi</td>\n",
       "      <td>\\nనేర్పు లేగతి నెవ్వరు నేర్చిరైన, సరవితో బ్రహ్...</td>\n",
       "      <td>venkatesa</td>\n",
       "    </tr>\n",
       "    <tr>\n",
       "      <th>196</th>\n",
       "      <td>jaathi</td>\n",
       "      <td>\\nకాంచనపాదము ల్గజ్జెలు నందియ, ల్గడు మించుమొలఁ ...</td>\n",
       "      <td>venkatesa</td>\n",
       "    </tr>\n",
       "    <tr>\n",
       "      <th>197</th>\n",
       "      <td>jaathi</td>\n",
       "      <td>\\nశిరసుమకుటంబు తిరుమణి చిత్రమకర, కుండలమ్ములుఁ ...</td>\n",
       "      <td>venkatesa</td>\n",
       "    </tr>\n",
       "    <tr>\n",
       "      <th>198</th>\n",
       "      <td>jaathi</td>\n",
       "      <td>\\nమాధవ గోవింద మధుసూదనాచ్యుత, వామన ప్రద్యుమ్న వ...</td>\n",
       "      <td>venkatesa</td>\n",
       "    </tr>\n",
       "    <tr>\n",
       "      <th>199</th>\n",
       "      <td>jaathi</td>\n",
       "      <td>\\nయన్నయాచార్యసుత తిమ్మయాహ్వయుండఁ, బ్రణుతిఁ జేస...</td>\n",
       "      <td>venkatesa</td>\n",
       "    </tr>\n",
       "  </tbody>\n",
       "</table>\n",
       "<p>200 rows × 3 columns</p>\n",
       "</div>"
      ],
      "text/plain": [
       "       bhedam                                             padyam    satakam\n",
       "0    vruttamu  \\nశ్రీదేవి యురమున శిరసునఁ దులసి భూ, కాంతవీఁపుఁ...  venkatesa\n",
       "1    vruttamu  \\nగలిగి శోభిల్లు నీమూర్తిఁ దలచి నీకు, సీసశతకంబ...  venkatesa\n",
       "2    vruttamu  \\nధర్మంబుగలచోటఁ దలకొను జయమెల్ల, దయగలచో సుకృతంబ...  venkatesa\n",
       "3    vruttamu  \\nలితరమగుచోట వెదకిన నేలయుండు, సొరదినీదైనకృపగలచ...  venkatesa\n",
       "4    vruttamu  \\nపరమనాస్తికునకు భక్తివాదము లేల, షండున కేటికి ...  venkatesa\n",
       "..        ...                                                ...        ...\n",
       "195    jaathi  \\nనేర్పు లేగతి నెవ్వరు నేర్చిరైన, సరవితో బ్రహ్...  venkatesa\n",
       "196    jaathi  \\nకాంచనపాదము ల్గజ్జెలు నందియ, ల్గడు మించుమొలఁ ...  venkatesa\n",
       "197    jaathi  \\nశిరసుమకుటంబు తిరుమణి చిత్రమకర, కుండలమ్ములుఁ ...  venkatesa\n",
       "198    jaathi  \\nమాధవ గోవింద మధుసూదనాచ్యుత, వామన ప్రద్యుమ్న వ...  venkatesa\n",
       "199    jaathi  \\nయన్నయాచార్యసుత తిమ్మయాహ్వయుండఁ, బ్రణుతిఁ జేస...  venkatesa\n",
       "\n",
       "[200 rows x 3 columns]"
      ]
     },
     "execution_count": 151,
     "metadata": {},
     "output_type": "execute_result"
    }
   ],
   "source": [
    "df= pd.DataFrame(dataset, columns= [\"_\", \"bhedam\", \"padyam\", \"satakam\"])\n",
    "\n",
    "# df[\"type\"].value_counts()\n",
    "df.drop( \"_\", axis= 1, inplace= True )\n",
    "df"
   ]
  },
  {
   "cell_type": "code",
   "execution_count": 152,
   "id": "6846d3fe",
   "metadata": {},
   "outputs": [],
   "source": [
    "df.to_excel( r\"c:\\Users\\bsnra\\Desktop\\chandassu\\padyamu\\venkatesa.xlsx\", index= False )"
   ]
  },
  {
   "cell_type": "code",
   "execution_count": null,
   "id": "921163f3",
   "metadata": {},
   "outputs": [],
   "source": []
  },
  {
   "cell_type": "markdown",
   "id": "8094bbf0",
   "metadata": {},
   "source": [
    "##### Venkateswara Satakamu"
   ]
  },
  {
   "cell_type": "code",
   "execution_count": null,
   "id": "75818991",
   "metadata": {},
   "outputs": [
    {
     "name": "stdout",
     "output_type": "stream",
     "text": [
      "Exception :  list index out of range\n",
      "Exception :  list index out of range\n",
      "https://andhrabharati.com/shatakamulu/vEMkaTEshvara/vEMkaTEshvara11.html\n",
      "Exception :  list index out of range\n",
      "https://andhrabharati.com/shatakamulu/vEMkaTEshvara/vEMkaTEshvara21.html\n",
      "Exception :  list index out of range\n",
      "https://andhrabharati.com/shatakamulu/vEMkaTEshvara/vEMkaTEshvara31.html\n",
      "Exception :  list index out of range\n",
      "https://andhrabharati.com/shatakamulu/vEMkaTEshvara/vEMkaTEshvara41.html\n",
      "Exception :  list index out of range\n",
      "https://andhrabharati.com/shatakamulu/vEMkaTEshvara/vEMkaTEshvara51.html\n",
      "Exception :  list index out of range\n",
      "https://andhrabharati.com/shatakamulu/vEMkaTEshvara/vEMkaTEshvara61.html\n",
      "Exception :  list index out of range\n",
      "https://andhrabharati.com/shatakamulu/vEMkaTEshvara/vEMkaTEshvara71.html\n",
      "Exception :  list index out of range\n",
      "https://andhrabharati.com/shatakamulu/vEMkaTEshvara/vEMkaTEshvara81.html\n",
      "Exception :  list index out of range\n",
      "https://andhrabharati.com/shatakamulu/vEMkaTEshvara/vEMkaTEshvara91.html\n"
     ]
    }
   ],
   "source": [
    "base_url= \"https://andhrabharati.com/shatakamulu/vEMkaTEshvara/index.html\"\n",
    "dataset= scrap_data( base_url= base_url, bhedam= \"vruttamu\", satakam= \"venkateswara\" )"
   ]
  },
  {
   "cell_type": "code",
   "execution_count": 155,
   "id": "f116eb63",
   "metadata": {},
   "outputs": [
    {
     "data": {
      "text/plain": [
       "type\n",
       "ఉ.    54\n",
       "చ.    46\n",
       "Name: count, dtype: int64"
      ]
     },
     "execution_count": 155,
     "metadata": {},
     "output_type": "execute_result"
    }
   ],
   "source": [
    "df= pd.DataFrame(dataset, columns= [\"padyam\", \"bhedam\", \"type\", \"satakam\"])\n",
    "\n",
    "df[\"type\"].value_counts()"
   ]
  },
  {
   "cell_type": "code",
   "execution_count": null,
   "id": "5763fc1d",
   "metadata": {},
   "outputs": [],
   "source": [
    "df[\"type\"]= df[\"type\"].replace( {\"ఉ.\": \"vutpalamaala\", \"చ.\": \"champakamaala\"} )"
   ]
  },
  {
   "cell_type": "code",
   "execution_count": 157,
   "id": "8c9af5af",
   "metadata": {},
   "outputs": [],
   "source": [
    "df.to_excel( r\"c:\\Users\\bsnra\\Desktop\\chandassu\\padyamu\\venkateswara.xlsx\", index= False )"
   ]
  },
  {
   "cell_type": "code",
   "execution_count": 166,
   "id": "a24b33a3",
   "metadata": {},
   "outputs": [
    {
     "name": "stdout",
     "output_type": "stream",
     "text": [
      "Exception :  list index out of range\n",
      "Exception :  list index out of range\n",
      "list index out of range\n"
     ]
    }
   ],
   "source": [
    "base_url= \"https://andhrabharati.com/shatakamulu/karivelpu.html\"\n",
    "dataset= scrap_data( base_url= base_url, bhedam= \"vupajaathi\", satakam= \"karivelpu\" )"
   ]
  },
  {
   "cell_type": "code",
   "execution_count": 167,
   "metadata": {},
   "outputs": [
    {
     "data": {
      "text/plain": [
       "type\n",
       "సీ.    79\n",
       "గీ.    79\n",
       "Name: count, dtype: int64"
      ]
     },
     "execution_count": 167,
     "metadata": {},
     "output_type": "execute_result"
    }
   ],
   "source": [
    "df= pd.DataFrame(dataset, columns= [\"padyam\", \"bhedam\", \"type\", \"satakam\"])\n",
    "\n",
    "df[\"type\"].value_counts()"
   ]
  },
  {
   "cell_type": "code",
   "execution_count": 168,
   "id": "95f03550",
   "metadata": {},
   "outputs": [],
   "source": [
    "df[\"type\"]= df[\"type\"].replace( {\"సీ.\": \"seesamu\", \"గీ.\": \"geethamu\"} )"
   ]
  },
  {
   "cell_type": "code",
   "execution_count": 169,
   "id": "86a0dd52",
   "metadata": {},
   "outputs": [],
   "source": [
    "df.to_excel( r\"c:\\Users\\bsnra\\Desktop\\chandassu\\padyamu\\geethamu.xlsx\", index= False )"
   ]
  },
  {
   "cell_type": "markdown",
   "id": "122e4900",
   "metadata": {},
   "source": [
    "##### Maathru Satakamu"
   ]
  },
  {
   "cell_type": "code",
   "execution_count": 4,
   "id": "7c21e456",
   "metadata": {},
   "outputs": [
    {
     "name": "stdout",
     "output_type": "stream",
     "text": [
      "Exception :  list index out of range\n",
      "Exception :  list index out of range\n",
      "list index out of range\n"
     ]
    }
   ],
   "source": [
    "base_url= \"https://andhrabharati.com/shatakamulu/matru.html\"\n",
    "dataset= scrap_data( base_url= base_url, bhedam= \"jaathi\", satakam= \"matru\" )"
   ]
  },
  {
   "cell_type": "code",
   "execution_count": 5,
   "id": "79d8a9e4",
   "metadata": {},
   "outputs": [
    {
     "data": {
      "text/plain": [
       "type\n",
       "చ.    79\n",
       "ఉ.    21\n",
       "Name: count, dtype: int64"
      ]
     },
     "execution_count": 5,
     "metadata": {},
     "output_type": "execute_result"
    }
   ],
   "source": [
    "df= pd.DataFrame(dataset, columns= [\"padyam\", \"bhedam\", \"type\", \"satakam\"])\n",
    "\n",
    "df[\"type\"].value_counts()"
   ]
  },
  {
   "cell_type": "code",
   "execution_count": 7,
   "id": "67c632a6",
   "metadata": {},
   "outputs": [
    {
     "data": {
      "text/plain": [
       "'శ్రీపతియైనఁ గాని విధుశేఖరుఁడైన త్రిశూలపాణియై-నా పరమేష్ఠియైన గణనాయకుఁడైన రమామృడానులై-నా పలుకుం బొలంతియయినా పరిరక్షణకార్యసత్క్రియో-ద్దీపనబోధనోక్తులను దెల్పను తల్లినిఁ బోలరెవ్వరున్.'"
      ]
     },
     "execution_count": 7,
     "metadata": {},
     "output_type": "execute_result"
    }
   ],
   "source": [
    "df.iloc[0][\"padyam\"]"
   ]
  },
  {
   "cell_type": "code",
   "execution_count": null,
   "id": "20f115c9",
   "metadata": {},
   "outputs": [],
   "source": [
    "df[\"type\"]= df[\"type\"].replace( {\"చ.\": \"champakamaala\", \"ఉ.\": \"vutpalamaala\"} )"
   ]
  },
  {
   "cell_type": "code",
   "execution_count": 173,
   "id": "5cc8721b",
   "metadata": {},
   "outputs": [],
   "source": [
    "df.to_excel( r\"c:\\Users\\bsnra\\Desktop\\chandassu\\padyamu\\matru.xlsx\", index= False )"
   ]
  },
  {
   "cell_type": "code",
   "execution_count": 174,
   "id": "9707d57c",
   "metadata": {},
   "outputs": [
    {
     "name": "stdout",
     "output_type": "stream",
     "text": [
      "Exception :  list index out of range\n",
      "Exception :  list index out of range\n",
      "list index out of range\n"
     ]
    }
   ],
   "source": [
    "base_url= \"https://andhrabharati.com/shatakamulu/madanagopala.html\"\n",
    "dataset= scrap_data( base_url= base_url, bhedam= \"vupajaathi\", satakam= \"madanagopala\" )"
   ]
  },
  {
   "cell_type": "code",
   "execution_count": 175,
   "id": "1d182a73",
   "metadata": {},
   "outputs": [
    {
     "data": {
      "text/plain": [
       "type\n",
       "సీ.    100\n",
       "తే.    100\n",
       "Name: count, dtype: int64"
      ]
     },
     "execution_count": 175,
     "metadata": {},
     "output_type": "execute_result"
    }
   ],
   "source": [
    "df= pd.DataFrame(dataset, columns= [\"padyam\", \"bhedam\", \"type\", \"satakam\"])\n",
    "\n",
    "df[\"type\"].value_counts()"
   ]
  },
  {
   "cell_type": "code",
   "execution_count": 176,
   "id": "5bb11a3c",
   "metadata": {},
   "outputs": [],
   "source": [
    "df[\"type\"]= df[\"type\"].replace( {\"సీ.\": \"seesamu\", \"తే\": \"teytageethi\"} )"
   ]
  },
  {
   "cell_type": "code",
   "execution_count": 177,
   "id": "4a0c7dcc",
   "metadata": {},
   "outputs": [],
   "source": [
    "df.to_excel( r\"c:\\Users\\bsnra\\Desktop\\chandassu\\padyamu\\madanagopala.xlsx\", index= False )"
   ]
  },
  {
   "cell_type": "code",
   "execution_count": 178,
   "metadata": {},
   "outputs": [
    {
     "name": "stdout",
     "output_type": "stream",
     "text": [
      "Exception :  list index out of range\n",
      "Exception :  list index out of range\n",
      "list index out of range\n"
     ]
    }
   ],
   "source": [
    "base_url= \"https://andhrabharati.com/shatakamulu/sundarimani.html\"\n",
    "dataset= scrap_data( base_url= base_url, bhedam= \"vruttamu\", satakam= \"sundarimani\" )"
   ]
  },
  {
   "cell_type": "code",
   "execution_count": 179,
   "id": "c9bbba79",
   "metadata": {},
   "outputs": [
    {
     "data": {
      "text/plain": [
       "type\n",
       "ఉ.    48\n",
       "చ.    47\n",
       "Name: count, dtype: int64"
      ]
     },
     "execution_count": 179,
     "metadata": {},
     "output_type": "execute_result"
    }
   ],
   "source": [
    "df= pd.DataFrame(dataset, columns= [\"padyam\", \"bhedam\", \"type\", \"satakam\"])\n",
    "\n",
    "df[\"type\"].value_counts()"
   ]
  },
  {
   "cell_type": "code",
   "execution_count": null,
   "id": "0628bc0a",
   "metadata": {},
   "outputs": [],
   "source": [
    "df[\"type\"]= df[\"type\"].replace( {\"చ.\": \"champakamaala\", \"ఉ.\": \"vutpalamaala\"} )"
   ]
  },
  {
   "cell_type": "code",
   "execution_count": 181,
   "id": "adac2856",
   "metadata": {},
   "outputs": [],
   "source": [
    "df.to_excel( r\"c:\\Users\\bsnra\\Desktop\\chandassu\\padyamu\\sundarimani.xlsx\", index= False )"
   ]
  },
  {
   "cell_type": "code",
   "execution_count": null,
   "id": "2db862db",
   "metadata": {},
   "outputs": [],
   "source": []
  },
  {
   "cell_type": "code",
   "execution_count": 191,
   "id": "f1b8f218",
   "metadata": {},
   "outputs": [
    {
     "name": "stdout",
     "output_type": "stream",
     "text": [
      "Exception :  list index out of range\n",
      "Exception :  list index out of range\n",
      "list index out of range\n"
     ]
    }
   ],
   "source": [
    "base_url= \"https://andhrabharati.com/shatakamulu/Kantalalama.html\"\n",
    "dataset= scrap_data( base_url= base_url, bhedam= \"vupajaathi\", satakam= \"kaantalalaama\" )"
   ]
  },
  {
   "cell_type": "code",
   "execution_count": 192,
   "id": "6366d64b",
   "metadata": {},
   "outputs": [
    {
     "data": {
      "text/plain": [
       "type\n",
       "సీ.    107\n",
       "గీ.    107\n",
       "Name: count, dtype: int64"
      ]
     },
     "execution_count": 192,
     "metadata": {},
     "output_type": "execute_result"
    }
   ],
   "source": [
    "df= pd.DataFrame(dataset, columns= [\"padyam\", \"bhedam\", \"type\", \"satakam\"])\n",
    "\n",
    "df[\"type\"].value_counts()"
   ]
  },
  {
   "cell_type": "code",
   "execution_count": 193,
   "id": "a077ea6d",
   "metadata": {},
   "outputs": [],
   "source": [
    "df[\"type\"]= df[\"type\"].replace( {\"సీ.\": \"seesamu\", \"గీ.\": \"geethamu\"} )"
   ]
  },
  {
   "cell_type": "code",
   "execution_count": 194,
   "id": "0d405aad",
   "metadata": {},
   "outputs": [],
   "source": [
    "df.to_excel( r\"c:\\Users\\bsnra\\Desktop\\chandassu\\padyamu\\kaantalalaama.xlsx\", index= False )"
   ]
  },
  {
   "cell_type": "markdown",
   "id": "7624a998",
   "metadata": {},
   "source": [
    "##### Taadimallarajagopaala Satakam"
   ]
  },
  {
   "cell_type": "code",
   "execution_count": 195,
   "id": "bc13d9f1",
   "metadata": {},
   "outputs": [
    {
     "name": "stdout",
     "output_type": "stream",
     "text": [
      "Exception :  list index out of range\n",
      "Exception :  list index out of range\n",
      "list index out of range\n"
     ]
    }
   ],
   "source": [
    "base_url= \"https://andhrabharati.com/shatakamulu/TadimallaRajaGopala.html\"\n",
    "dataset= scrap_data( base_url= base_url, bhedam= \"jaathi\", satakam= \"taadimallaraajagopaala\" )"
   ]
  },
  {
   "cell_type": "code",
   "execution_count": 196,
   "id": "a1d2c1ae",
   "metadata": {},
   "outputs": [
    {
     "data": {
      "text/plain": [
       "type\n",
       "సీ.    65\n",
       "తే.    65\n",
       "Name: count, dtype: int64"
      ]
     },
     "execution_count": 196,
     "metadata": {},
     "output_type": "execute_result"
    }
   ],
   "source": [
    "df= pd.DataFrame(dataset, columns= [\"padyam\", \"bhedam\", \"type\", \"satakam\"])\n",
    "\n",
    "df[\"type\"].value_counts()"
   ]
  },
  {
   "cell_type": "code",
   "execution_count": 197,
   "id": "0a2d37af",
   "metadata": {},
   "outputs": [],
   "source": [
    "df[\"type\"]= df[\"type\"].replace( {\"సీ.\": \"seesamu\", \"తే.\": \"teytageethi\"} )"
   ]
  },
  {
   "cell_type": "code",
   "execution_count": 198,
   "id": "4e58fbaf",
   "metadata": {},
   "outputs": [],
   "source": [
    "df.to_excel( r\"c:\\Users\\bsnra\\Desktop\\chandassu\\padyamu\\taadimallaraajagopaala.xlsx\", index= False )"
   ]
  },
  {
   "cell_type": "code",
   "execution_count": null,
   "id": "15612a04",
   "metadata": {},
   "outputs": [],
   "source": []
  },
  {
   "cell_type": "markdown",
   "id": "7db3af1a",
   "metadata": {},
   "source": [
    "##### Viswanaatha Satakam"
   ]
  },
  {
   "cell_type": "code",
   "execution_count": 201,
   "id": "ecbaac82",
   "metadata": {},
   "outputs": [
    {
     "name": "stdout",
     "output_type": "stream",
     "text": [
      "Exception :  list index out of range\n",
      "Exception :  list index out of range\n",
      "Exception :  list index out of range\n",
      "list index out of range\n"
     ]
    }
   ],
   "source": [
    "base_url= \"https://andhrabharati.com/shatakamulu/viSvanAtha/index.html\"\n",
    "dataset= scrap_data( base_url= base_url, bhedam= \"vupajaathi\", satakam= \"viswanaatha\" )"
   ]
  },
  {
   "cell_type": "code",
   "execution_count": 202,
   "id": "c10aa9c9",
   "metadata": {},
   "outputs": [
    {
     "data": {
      "text/plain": [
       "type\n",
       "సీ.    116\n",
       "గీ.    115\n",
       "         1\n",
       "క.       1\n",
       "Name: count, dtype: int64"
      ]
     },
     "execution_count": 202,
     "metadata": {},
     "output_type": "execute_result"
    }
   ],
   "source": [
    "df= pd.DataFrame(dataset, columns= [\"padyam\", \"bhedam\", \"type\", \"satakam\"])\n",
    "\n",
    "df[\"type\"].value_counts()"
   ]
  },
  {
   "cell_type": "code",
   "execution_count": 203,
   "metadata": {},
   "outputs": [],
   "source": [
    "df[\"type\"]= df[\"type\"].replace( {\"సీ.\": \"seesamu\", \"గీ.\": \"geethamu\", \"\": \"Unknown\", \"క.\": \"kandamu\"} )"
   ]
  },
  {
   "cell_type": "code",
   "execution_count": 204,
   "id": "7ca7a7a7",
   "metadata": {},
   "outputs": [],
   "source": [
    "df.to_excel( r\"c:\\Users\\bsnra\\Desktop\\chandassu\\padyamu\\viswanaatha.xlsx\", index= False )"
   ]
  },
  {
   "cell_type": "code",
   "execution_count": null,
   "id": "7044bc43",
   "metadata": {},
   "outputs": [],
   "source": [
    "base_url= \"https://andhrabharati.com/shatakamulu/vEMkaTEsha/index.html\"\n",
    "dataset= scrap_data( base_url= base_url, bhedam= \"jaathi\", satakam= \"venkatesa\" )\n",
    "df= pd.DataFrame(dataset, columns= [\"padyam\", \"bhedam\", \"type\", \"satakam\"])\n",
    "\n",
    "df[\"type\"].value_counts()\n",
    "\n",
    "df[\"type\"]= df[\"type\"].replace( {\"క.\": \"kandamu\"} )\n",
    "\n",
    "df.to_excel( r\"c:\\Users\\bsnra\\Desktop\\chandassu\\padyamu\\kumaara.xlsx\", index= False )"
   ]
  },
  {
   "cell_type": "code",
   "execution_count": null,
   "id": "0c267fb2",
   "metadata": {},
   "outputs": [],
   "source": [
    "base_url= \"https://andhrabharati.com/shatakamulu/vEMkaTEsha/index.html\"\n",
    "dataset= scrap_data( base_url= base_url, bhedam= \"jaathi\", satakam= \"venkatesa\" )\n",
    "df= pd.DataFrame(dataset, columns= [\"padyam\", \"bhedam\", \"type\", \"satakam\"])\n",
    "\n",
    "df[\"type\"].value_counts()\n",
    "\n",
    "df[\"type\"]= df[\"type\"].replace( {\"క.\": \"kandamu\"} )\n",
    "\n",
    "df.to_excel( r\"c:\\Users\\bsnra\\Desktop\\chandassu\\padyamu\\kumaara.xlsx\", index= False )"
   ]
  },
  {
   "cell_type": "code",
   "execution_count": null,
   "id": "18fb052a",
   "metadata": {},
   "outputs": [],
   "source": [
    "base_url= \"https://andhrabharati.com/shatakamulu/vEMkaTEsha/index.html\"\n",
    "dataset= scrap_data( base_url= base_url, bhedam= \"jaathi\", satakam= \"venkatesa\" )\n",
    "df= pd.DataFrame(dataset, columns= [\"padyam\", \"bhedam\", \"type\", \"satakam\"])\n",
    "\n",
    "df[\"type\"].value_counts()\n",
    "\n",
    "df[\"type\"]= df[\"type\"].replace( {\"క.\": \"kandamu\"} )\n",
    "\n",
    "df.to_excel( r\"c:\\Users\\bsnra\\Desktop\\chandassu\\padyamu\\kumaara.xlsx\", index= False )"
   ]
  },
  {
   "cell_type": "code",
   "execution_count": null,
   "id": "2d3e8a55",
   "metadata": {},
   "outputs": [],
   "source": [
    "base_url= \"https://andhrabharati.com/shatakamulu/vEMkaTEsha/index.html\"\n",
    "dataset= scrap_data( base_url= base_url, bhedam= \"jaathi\", satakam= \"venkatesa\" )\n",
    "df= pd.DataFrame(dataset, columns= [\"padyam\", \"bhedam\", \"type\", \"satakam\"])\n",
    "\n",
    "df[\"type\"].value_counts()\n",
    "\n",
    "df[\"type\"]= df[\"type\"].replace( {\"క.\": \"kandamu\"} )\n",
    "\n",
    "df.to_excel( r\"c:\\Users\\bsnra\\Desktop\\chandassu\\padyamu\\kumaara.xlsx\", index= False )"
   ]
  },
  {
   "cell_type": "code",
   "execution_count": null,
   "id": "558faa23",
   "metadata": {},
   "outputs": [],
   "source": []
  },
  {
   "cell_type": "code",
   "execution_count": null,
   "id": "657ce0ee",
   "metadata": {},
   "outputs": [],
   "source": []
  },
  {
   "cell_type": "code",
   "execution_count": null,
   "id": "c141f62f",
   "metadata": {},
   "outputs": [],
   "source": []
  },
  {
   "cell_type": "code",
   "execution_count": null,
   "id": "929e837f",
   "metadata": {},
   "outputs": [],
   "source": [
    "def single_page_extract( base_url, satakam, TYPE= {'ఉ.': \"vutpalamaala\", \"క.\": \"kandamu\", \"సీ.\": \"seesamu\", \"గీ.\": \"geethamu\",\n",
    "                                          \"తే.\": \"teytageethi\", \"చ.\": \"champakamaala\", \"ఉ.\": \"vutpalamaala\", \n",
    "                                          \"మ.\": \"mattebhamu\", \"శా.\": \"saardulamu\", \"ఆ.\": \"aataveladi\"},\n",
    "                                   BHEDAM= {'ఉ.': \"vruttamu\", \"క.\": \"jaathi\", \"సీ.\": \"vupajaathi\", \"గీ.\": \"vupajaathi\",\n",
    "                                          \"తే.\": \"vupajaathi\", \"ఆ.\": \"vupajaathi\", \"చ.\": \"vruttamu\", \"మ.\": \"vruttamu\", \"శా.\": \"vruttamu\"},\n",
    "                                ):\n",
    "    \"\"\"\n",
    "    To scrap single page data\n",
    "    \"\"\"\n",
    "    \n",
    "    dataset= []\n",
    "    \n",
    "    page = urlopen(base_url)\n",
    "    html = page.read().decode(\"utf-8\")\n",
    "    soup = BeautifulSoup(html, \"html.parser\")\n",
    "\n",
    "    table_data= soup.find_all(\"table\")[2]\n",
    "        \n",
    "    row_data= table_data.find_all(\"tr\")\n",
    "\n",
    "    for row in row_data:\n",
    "\n",
    "        try:\n",
    "            temp= row.find_all( \"td\" )\n",
    "            type= temp[0].get_text().strip()\n",
    "\n",
    "            # https://stackoverflow.com/questions/12545897/convert-br-to-end-line\n",
    "            padyam= temp[1].get_text(separator = '\\n', strip = True)\n",
    "\n",
    "            bhedam= BHEDAM[ type ]\n",
    "            type= TYPE[type]\n",
    "\n",
    "            dataset.append( [type, padyam, bhedam, satakam] )\n",
    "\n",
    "        except Exception as e:\n",
    "            print(\"Exception : \", e)\n",
    "\n",
    "    return dataset"
   ]
  },
  {
   "cell_type": "code",
   "execution_count": 70,
   "id": "6889af87",
   "metadata": {},
   "outputs": [
    {
     "name": "stdout",
     "output_type": "stream",
     "text": [
      "Exception :  list index out of range\n",
      "Exception :  list index out of range\n"
     ]
    }
   ],
   "source": [
    "dataset= single_page_extract( base_url= \"https://andhrabharati.com/shatakamulu/matru.html\", satakam= \"maathru\")"
   ]
  },
  {
   "cell_type": "code",
   "execution_count": 71,
   "id": "f5f6def2",
   "metadata": {},
   "outputs": [
    {
     "data": {
      "text/plain": [
       "type\n",
       "champakamaala    79\n",
       "vutpalamaala     21\n",
       "Name: count, dtype: int64"
      ]
     },
     "execution_count": 71,
     "metadata": {},
     "output_type": "execute_result"
    }
   ],
   "source": [
    "df= pd.DataFrame( dataset, columns= \"type padyam bhedam satakam\".split() )\n",
    "\n",
    "df[\"type\"].value_counts()"
   ]
  },
  {
   "cell_type": "code",
   "execution_count": 72,
   "id": "7a8da591",
   "metadata": {},
   "outputs": [],
   "source": [
    "df.to_excel( r\"c:\\Users\\bsnra\\Desktop\\chandassu\\padyamu\\maathru.xlsx\", index= False )"
   ]
  },
  {
   "cell_type": "code",
   "execution_count": 77,
   "id": "980380ff",
   "metadata": {},
   "outputs": [
    {
     "name": "stdout",
     "output_type": "stream",
     "text": [
      "Exception :  list index out of range\n",
      "Exception :  list index out of range\n",
      "type\n",
      "vutpalamaala     48\n",
      "champakamaala    47\n",
      "Name: count, dtype: int64\n"
     ]
    }
   ],
   "source": [
    "base_url= \"https://andhrabharati.com/shatakamulu/sundarimani.html\"\n",
    "dataset= single_page_extract( base_url= base_url, satakam= \"sundariimani\")\n",
    "\n",
    "df= pd.DataFrame( dataset, columns= \"type padyam bhedam satakam\".split() )\n",
    "\n",
    "print( df[\"type\"].value_counts() )\n",
    "\n",
    "df.to_excel( r\"c:\\Users\\bsnra\\Desktop\\chandassu\\padyamu\\sundariimani.xlsx\", index= False )"
   ]
  },
  {
   "cell_type": "code",
   "execution_count": 80,
   "id": "482a5ad0",
   "metadata": {},
   "outputs": [
    {
     "name": "stdout",
     "output_type": "stream",
     "text": [
      "Exception :  list index out of range\n",
      "Exception :  list index out of range\n",
      "Exception :  list index out of range\n",
      "type\n",
      "mattebhamu    115\n",
      "saardulamu     29\n",
      "Name: count, dtype: int64\n"
     ]
    }
   ],
   "source": [
    "base_url= \"https://andhrabharati.com/shatakamulu/sarvESvara.html\"\n",
    "dataset= single_page_extract( base_url= base_url, satakam= \"sarveswara\")\n",
    "\n",
    "df= pd.DataFrame( dataset, columns= \"type padyam bhedam satakam\".split() )\n",
    "\n",
    "print( df[\"type\"].value_counts() )\n",
    "\n",
    "df.to_excel( r\"c:\\Users\\bsnra\\Desktop\\chandassu\\padyamu\\sarveswara.xlsx\", index= False )"
   ]
  },
  {
   "cell_type": "code",
   "execution_count": 81,
   "id": "ead9f80a",
   "metadata": {},
   "outputs": [
    {
     "name": "stdout",
     "output_type": "stream",
     "text": [
      "Exception :  list index out of range\n",
      "Exception :  list index out of range\n",
      "type\n",
      "mattebhamu    73\n",
      "saardulamu    28\n",
      "Name: count, dtype: int64\n"
     ]
    }
   ],
   "source": [
    "base_url= \"https://andhrabharati.com/shatakamulu/bhaktamaMdAra.html\"\n",
    "dataset= single_page_extract( base_url= base_url, satakam= \"bhaktamandaara\")\n",
    "\n",
    "df= pd.DataFrame( dataset, columns= \"type padyam bhedam satakam\".split() )\n",
    "\n",
    "print( df[\"type\"].value_counts() )\n",
    "\n",
    "df.to_excel( r\"c:\\Users\\bsnra\\Desktop\\chandassu\\padyamu\\bhaktamandaara.xlsx\", index= False )"
   ]
  },
  {
   "cell_type": "code",
   "execution_count": 82,
   "id": "d6dcd5a9",
   "metadata": {},
   "outputs": [
    {
     "name": "stdout",
     "output_type": "stream",
     "text": [
      "Exception :  list index out of range\n",
      "Exception :  list index out of range\n",
      "type\n",
      "champakamaala    96\n",
      "Name: count, dtype: int64\n"
     ]
    }
   ],
   "source": [
    "base_url= \"https://andhrabharati.com/shatakamulu/chiravibhava.html\"\n",
    "dataset= single_page_extract( base_url= base_url, satakam= \"chiravibhava\")\n",
    "\n",
    "df= pd.DataFrame( dataset, columns= \"type padyam bhedam satakam\".split() )\n",
    "\n",
    "print( df[\"type\"].value_counts() )\n",
    "\n",
    "df.to_excel( r\"c:\\Users\\bsnra\\Desktop\\chandassu\\padyamu\\chiravibhava.xlsx\", index= False )"
   ]
  },
  {
   "cell_type": "code",
   "execution_count": 83,
   "id": "e7101fa0",
   "metadata": {},
   "outputs": [
    {
     "name": "stdout",
     "output_type": "stream",
     "text": [
      "Exception :  list index out of range\n",
      "Exception :  list index out of range\n",
      "type\n",
      "mattebhamu    69\n",
      "saardulamu    32\n",
      "Name: count, dtype: int64\n"
     ]
    }
   ],
   "source": [
    "base_url= \"https://andhrabharati.com/shatakamulu/bharga.html\"\n",
    "dataset= single_page_extract( base_url= base_url, satakam= \"bharga\")\n",
    "\n",
    "df= pd.DataFrame( dataset, columns= \"type padyam bhedam satakam\".split() )\n",
    "\n",
    "print( df[\"type\"].value_counts() )\n",
    "\n",
    "df.to_excel( r\"c:\\Users\\bsnra\\Desktop\\chandassu\\padyamu\\bharga.xlsx\", index= False )"
   ]
  },
  {
   "cell_type": "code",
   "execution_count": 86,
   "id": "2bf928be",
   "metadata": {},
   "outputs": [
    {
     "name": "stdout",
     "output_type": "stream",
     "text": [
      "Exception :  list index out of range\n",
      "type\n",
      "mattebhamu    79\n",
      "saardulamu    41\n",
      "Name: count, dtype: int64\n"
     ]
    }
   ],
   "source": [
    "base_url= \"https://andhrabharati.com/shatakamulu/OntimittaRaghuvira/index.html\"\n",
    "dataset= single_page_extract( base_url= base_url, satakam= \"ontimittaraguveera\")\n",
    "\n",
    "df= pd.DataFrame( dataset, columns= \"type padyam bhedam satakam\".split() )\n",
    "\n",
    "print( df[\"type\"].value_counts() )\n",
    "\n",
    "df.to_excel( r\"c:\\Users\\bsnra\\Desktop\\chandassu\\padyamu\\ontimittaraguveera.xlsx\", index= False )"
   ]
  },
  {
   "cell_type": "code",
   "execution_count": 88,
   "id": "a3c4dea9",
   "metadata": {},
   "outputs": [
    {
     "name": "stdout",
     "output_type": "stream",
     "text": [
      "type\n",
      "kandamu    100\n",
      "Name: count, dtype: int64\n"
     ]
    }
   ],
   "source": [
    "base_url= \"https://andhrabharati.com/shatakamulu/kumArI/index.html\"\n",
    "dataset= single_page_extract( base_url= base_url, satakam= \"kumaarii\")\n",
    "\n",
    "df= pd.DataFrame( dataset, columns= \"type padyam bhedam satakam\".split() )\n",
    "\n",
    "print( df[\"type\"].value_counts() )\n",
    "\n",
    "df.to_excel( r\"c:\\Users\\bsnra\\Desktop\\chandassu\\padyamu\\kumaarii.xlsx\", index= False )"
   ]
  },
  {
   "cell_type": "code",
   "execution_count": 5,
   "id": "eab75aac",
   "metadata": {},
   "outputs": [
    {
     "name": "stdout",
     "output_type": "stream",
     "text": [
      "Exception :  list index out of range\n",
      "Exception :  list index out of range\n",
      "type\n",
      "seesamu        92\n",
      "teytageethi    92\n",
      "Name: count, dtype: int64\n"
     ]
    }
   ],
   "source": [
    "base_url= \"https://andhrabharati.com/shatakamulu/kukkuTESvara.html\"\n",
    "dataset= single_page_extract( base_url= base_url, satakam= \"kukkuteswara\")\n",
    "\n",
    "df= pd.DataFrame( dataset, columns= \"type padyam bhedam satakam\".split() )\n",
    "\n",
    "print( df[\"type\"].value_counts() )\n",
    "\n",
    "df.to_excel( r\"c:\\Users\\bsnra\\Desktop\\chandassu\\data_collection\\kukkuteswara.xlsx\", index= False )"
   ]
  },
  {
   "cell_type": "code",
   "execution_count": 6,
   "id": "e1de6caa",
   "metadata": {},
   "outputs": [
    {
     "name": "stdout",
     "output_type": "stream",
     "text": [
      "Exception :  list index out of range\n",
      "Exception :  list index out of range\n",
      "type\n",
      "seesamu        100\n",
      "teytageethi    100\n",
      "Name: count, dtype: int64\n"
     ]
    }
   ],
   "source": [
    "base_url= \"https://andhrabharati.com/shatakamulu/lAvaNya/index.html\"\n",
    "dataset= single_page_extract( base_url= base_url, satakam= \"laavanya\")\n",
    "\n",
    "df= pd.DataFrame( dataset, columns= \"type padyam bhedam satakam\".split() )\n",
    "\n",
    "print( df[\"type\"].value_counts() )\n",
    "\n",
    "df.to_excel( r\"c:\\Users\\bsnra\\Desktop\\chandassu\\data_collection\\laavanya.xlsx\", index= False )"
   ]
  },
  {
   "cell_type": "code",
   "execution_count": 7,
   "id": "301ae03a",
   "metadata": {},
   "outputs": [
    {
     "name": "stdout",
     "output_type": "stream",
     "text": [
      "Exception :  list index out of range\n",
      "Exception :  list index out of range\n",
      "Exception :  list index out of range\n",
      "type\n",
      "seesamu        105\n",
      "teytageethi    105\n",
      "Name: count, dtype: int64\n"
     ]
    }
   ],
   "source": [
    "base_url= \"https://andhrabharati.com/shatakamulu/vENugOpAla/index.html\"\n",
    "dataset= single_page_extract( base_url= base_url, satakam= \"venugopaala\")\n",
    "\n",
    "df= pd.DataFrame( dataset, columns= \"type padyam bhedam satakam\".split() )\n",
    "\n",
    "print( df[\"type\"].value_counts() )\n",
    "\n",
    "df.to_excel( r\"c:\\Users\\bsnra\\Desktop\\chandassu\\data_collection\\venugopaala.xlsx\", index= False )"
   ]
  },
  {
   "cell_type": "code",
   "execution_count": 90,
   "id": "5dea52df",
   "metadata": {},
   "outputs": [],
   "source": [
    "TYPE= {'ఉ.': \"vutpalamaala\", \"క.\": \"kandamu\", \"సీ.\": \"seesamu\", \"గీ.\": \"geethamu\",\n",
    "        \"తే.\": \"teytageethi\", \"చ.\": \"champakamaala\", \"ఉ.\": \"vutpalamaala\", \n",
    "        \"మ.\": \"mattebhamu\", \"శా.\": \"saardulamu\", \"ఆ.\": \"aataveladi\"}\n",
    "\n",
    "BHEDAM= {'ఉ.': \"vruttamu\", \"క.\": \"jaathi\", \"సీ.\": \"vupajaathi\", \"గీ.\": \"vupajaathi\",\n",
    "        \"తే.\": \"vupajaathi\", \"ఆ.\": \"vupajaathi\", \"చ.\": \"vruttamu\", \"మ.\": \"vruttamu\", \"శా.\": \"vruttamu\"}\n",
    "\n",
    "satakam= \"vemana\""
   ]
  },
  {
   "cell_type": "code",
   "execution_count": 97,
   "id": "3932c0e8",
   "metadata": {},
   "outputs": [
    {
     "name": "stdout",
     "output_type": "stream",
     "text": [
      "<a href=\"1001.html\">1</a>\n",
      "<a href=\"1026.html\">26</a>\n",
      "<a href=\"1051.html\">51</a>\n",
      "<a href=\"1076.html\">76</a>\n",
      "<a href=\"1101.html\">101</a>\n",
      "<a href=\"1126.html\">126</a>\n",
      "<a href=\"1151.html\">151</a>\n",
      "<a href=\"1176.html\">176</a>\n",
      "<a href=\"1201.html\">201</a>\n",
      "<a href=\"1226.html\">226</a>\n",
      "<a href=\"1251.html\">251</a>\n",
      "<a href=\"1276.html\">276</a>\n",
      "<a href=\"1301.html\">301</a>\n",
      "Exception :  '.'\n",
      "<a href=\"1326.html\">326</a>\n",
      "<a href=\"1351.html\">351</a>\n",
      "<a href=\"1376.html\">376</a>\n",
      "<a href=\"1401.html\">401</a>\n",
      "<a href=\"2001.html\">1</a>\n",
      "<a href=\"2026.html\">26</a>\n",
      "<a href=\"2051.html\">51</a>\n",
      "<a href=\"2076.html\">76</a>\n",
      "<a href=\"2101.html\">101</a>\n",
      "<a href=\"2126.html\">126</a>\n",
      "<a href=\"2151.html\">151</a>\n",
      "<a href=\"2176.html\">176</a>\n",
      "<a href=\"2201.html\">201</a>\n",
      "<a href=\"2226.html\">226</a>\n",
      "<a href=\"2251.html\">251</a>\n",
      "<a href=\"2276.html\">276</a>\n",
      "<a href=\"2301.html\">301</a>\n",
      "<a href=\"2326.html\">326</a>\n",
      "<a href=\"2351.html\">351</a>\n",
      "<a href=\"2376.html\">376</a>\n",
      "<a href=\"2401.html\">401</a>\n",
      "Exception :  '.'\n",
      "<a href=\"2426.html\">426</a>\n",
      "<a href=\"2451.html\">451</a>\n",
      "<a href=\"3001.html\">1</a>\n",
      "Exception :  '.'\n",
      "<a href=\"3026.html\">26</a>\n",
      "<a href=\"3051.html\">51</a>\n",
      "<a href=\"3076.html\">76</a>\n",
      "<a href=\"3101.html\">101</a>\n",
      "<a href=\"3126.html\">126</a>\n",
      "<a href=\"3151.html\">151</a>\n",
      "<a href=\"3176.html\">176</a>\n",
      "<a href=\"3201.html\">201</a>\n",
      "Exception :  '.'\n",
      "<a href=\"3226.html\">226</a>\n",
      "<a href=\"3251.html\">251</a>\n",
      "<a href=\"3276.html\">276</a>\n"
     ]
    }
   ],
   "source": [
    "dataset= []\n",
    "\n",
    "page = urlopen( r\"https://andhrabharati.com/shatakamulu/vEmana/1001.html\" )\n",
    "html = page.read().decode(\"utf-8\")\n",
    "soup = BeautifulSoup(html, \"html.parser\")\n",
    "\n",
    "table_data= soup.find_all(\"table\")[2]\n",
    "    \n",
    "row_data= table_data.find_all(\"tr\")\n",
    "\n",
    "hyperlinks= soup.find_all(\"table\")[2].find_all(\"a\")\n",
    "\n",
    "base_path= r\"https://andhrabharati.com/shatakamulu/vEmana\"\n",
    "\n",
    "for link in hyperlinks:\n",
    "\n",
    "    page_path= base_path+\"/\"+link[\"href\"]\n",
    "\n",
    "    page = urlopen( page_path )\n",
    "    html = page.read().decode(\"utf-8\")\n",
    "    soup = BeautifulSoup(html, \"html.parser\")\n",
    "\n",
    "    table_data= soup.find_all(\"table\")[3]\n",
    "    \n",
    "    row_data= table_data.find_all(\"table\")\n",
    "\n",
    "    for row in row_data:\n",
    "\n",
    "        try:\n",
    "            temp= row.find_all( \"td\" )\n",
    "            p_type= temp[0].get_text().strip()\n",
    "\n",
    "            # https://stackoverflow.com/questions/12545897/convert-br-to-end-line\n",
    "            padyam= temp[1].get_text(separator = '\\n')\n",
    "\n",
    "            bhedam= BHEDAM[ p_type ]\n",
    "            p_type= TYPE[p_type]\n",
    "\n",
    "            dataset.append( [p_type, padyam, bhedam, satakam] )\n",
    "\n",
    "        except Exception as e:\n",
    "            print(\"Exception : \", e)\n",
    "\n",
    "    print( link )"
   ]
  },
  {
   "cell_type": "code",
   "execution_count": 98,
   "id": "8667c461",
   "metadata": {},
   "outputs": [
    {
     "data": {
      "text/plain": [
       "1159"
      ]
     },
     "execution_count": 98,
     "metadata": {},
     "output_type": "execute_result"
    }
   ],
   "source": [
    "len(dataset)"
   ]
  },
  {
   "cell_type": "code",
   "execution_count": 99,
   "id": "b9a08c04",
   "metadata": {},
   "outputs": [
    {
     "name": "stdout",
     "output_type": "stream",
     "text": [
      "type\n",
      "aataveladi       994\n",
      "kandamu          149\n",
      "teytageethi        5\n",
      "seesamu            4\n",
      "champakamaala      3\n",
      "vutpalamaala       3\n",
      "mattebhamu         1\n",
      "Name: count, dtype: int64\n"
     ]
    }
   ],
   "source": [
    "df= pd.DataFrame( dataset, columns= \"type padyam bhedam satakam\".split() )\n",
    "\n",
    "print( df[\"type\"].value_counts() )"
   ]
  },
  {
   "cell_type": "code",
   "execution_count": 100,
   "id": "32b94b09",
   "metadata": {},
   "outputs": [],
   "source": [
    "df.to_excel( r\"c:\\Users\\bsnra\\Desktop\\chandassu\\data_collection\\vemana.xlsx\", index= False )"
   ]
  },
  {
   "cell_type": "code",
   "execution_count": 79,
   "id": "a4494457",
   "metadata": {},
   "outputs": [],
   "source": [
    "del type"
   ]
  },
  {
   "cell_type": "code",
   "execution_count": 83,
   "id": "900d4e3f",
   "metadata": {},
   "outputs": [
    {
     "data": {
      "text/plain": [
       "str"
      ]
     },
     "execution_count": 83,
     "metadata": {},
     "output_type": "execute_result"
    }
   ],
   "source": [
    "type(\"A\")"
   ]
  },
  {
   "cell_type": "code",
   "execution_count": null,
   "id": "e2bf19f0",
   "metadata": {},
   "outputs": [],
   "source": []
  }
 ],
 "metadata": {
  "kernelspec": {
   "display_name": "base",
   "language": "python",
   "name": "python3"
  },
  "language_info": {
   "codemirror_mode": {
    "name": "ipython",
    "version": 3
   },
   "file_extension": ".py",
   "mimetype": "text/x-python",
   "name": "python",
   "nbconvert_exporter": "python",
   "pygments_lexer": "ipython3",
   "version": "3.11.3"
  }
 },
 "nbformat": 4,
 "nbformat_minor": 5
}
