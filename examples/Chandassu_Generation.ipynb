{
 "cells": [
  {
   "cell_type": "code",
   "execution_count": 8,
   "id": "d5512614",
   "metadata": {},
   "outputs": [],
   "source": [
    "import sys\n",
    "import os\n",
    "sys.path.append(os.path.abspath(os.path.join(os.getcwd(), '..')))\n",
    "\n",
    "from chandassu.laghuvu_guruvu import LaghuvuGuruvu\n",
    "\n",
    "\n",
    "import numpy as np\n",
    "import pandas as pd\n",
    "import matplotlib.pyplot as plt"
   ]
  },
  {
   "cell_type": "code",
   "execution_count": 2,
   "id": "526176a8",
   "metadata": {},
   "outputs": [],
   "source": [
    "source_path= r\"c:\\\\Users\\\\bsnra\\\\Desktop\\\\chandassu\\\\dataset\\\\raw\"\n",
    "target_path= r\"c:\\\\Users\\\\bsnra\\\\Desktop\\\\chandassu\\\\dataset\\\\lg\""
   ]
  },
  {
   "cell_type": "code",
   "execution_count": 28,
   "id": "7c6148e8",
   "metadata": {},
   "outputs": [
    {
     "name": "stdout",
     "output_type": "stream",
     "text": [
      "Satakam Name :  aandhranaayaka\n",
      "(212, 4)\n"
     ]
    },
    {
     "data": {
      "text/html": [
       "<div>\n",
       "<style scoped>\n",
       "    .dataframe tbody tr th:only-of-type {\n",
       "        vertical-align: middle;\n",
       "    }\n",
       "\n",
       "    .dataframe tbody tr th {\n",
       "        vertical-align: top;\n",
       "    }\n",
       "\n",
       "    .dataframe thead th {\n",
       "        text-align: right;\n",
       "    }\n",
       "</style>\n",
       "<table border=\"1\" class=\"dataframe\">\n",
       "  <thead>\n",
       "    <tr style=\"text-align: right;\">\n",
       "      <th></th>\n",
       "      <th>type</th>\n",
       "      <th>padyam</th>\n",
       "      <th>class</th>\n",
       "      <th>satakam</th>\n",
       "      <th>lg</th>\n",
       "    </tr>\n",
       "  </thead>\n",
       "  <tbody>\n",
       "    <tr>\n",
       "      <th>0</th>\n",
       "      <td>seesamu</td>\n",
       "      <td>శ్రీమదనంత లక్ష్మీ యుతోరః స్థల- చతురాననాండ పూరి...</td>\n",
       "      <td>vruttamu</td>\n",
       "      <td>aandhranaayaka</td>\n",
       "      <td>[('శ్రీ', 'U'), ('మ', '|'), ('ద', '|'), ('నం',...</td>\n",
       "    </tr>\n",
       "  </tbody>\n",
       "</table>\n",
       "</div>"
      ],
      "text/plain": [
       "      type                                             padyam     class  \\\n",
       "0  seesamu  శ్రీమదనంత లక్ష్మీ యుతోరః స్థల- చతురాననాండ పూరి...  vruttamu   \n",
       "\n",
       "          satakam                                                 lg  \n",
       "0  aandhranaayaka  [('శ్రీ', 'U'), ('మ', '|'), ('ద', '|'), ('నం',...  "
      ]
     },
     "metadata": {},
     "output_type": "display_data"
    },
    {
     "name": "stdout",
     "output_type": "stream",
     "text": [
      "\n",
      "\n",
      "\n",
      "Satakam Name :  bhaktamandaara\n",
      "(101, 4)\n"
     ]
    },
    {
     "data": {
      "text/html": [
       "<div>\n",
       "<style scoped>\n",
       "    .dataframe tbody tr th:only-of-type {\n",
       "        vertical-align: middle;\n",
       "    }\n",
       "\n",
       "    .dataframe tbody tr th {\n",
       "        vertical-align: top;\n",
       "    }\n",
       "\n",
       "    .dataframe thead th {\n",
       "        text-align: right;\n",
       "    }\n",
       "</style>\n",
       "<table border=\"1\" class=\"dataframe\">\n",
       "  <thead>\n",
       "    <tr style=\"text-align: right;\">\n",
       "      <th></th>\n",
       "      <th>type</th>\n",
       "      <th>padyam</th>\n",
       "      <th>class</th>\n",
       "      <th>satakam</th>\n",
       "      <th>lg</th>\n",
       "    </tr>\n",
       "  </thead>\n",
       "  <tbody>\n",
       "    <tr>\n",
       "      <th>0</th>\n",
       "      <td>saardulamu</td>\n",
       "      <td>శ్రీసాకేతపురీవరంబున సునాసీరోపలస్థాపిత-\\nప్రాసా...</td>\n",
       "      <td>vruttamu</td>\n",
       "      <td>bhaktamandaara</td>\n",
       "      <td>[('శ్రీ', 'U'), ('సా', 'U'), ('కే', 'U'), ('త'...</td>\n",
       "    </tr>\n",
       "  </tbody>\n",
       "</table>\n",
       "</div>"
      ],
      "text/plain": [
       "         type                                             padyam     class  \\\n",
       "0  saardulamu  శ్రీసాకేతపురీవరంబున సునాసీరోపలస్థాపిత-\\nప్రాసా...  vruttamu   \n",
       "\n",
       "          satakam                                                 lg  \n",
       "0  bhaktamandaara  [('శ్రీ', 'U'), ('సా', 'U'), ('కే', 'U'), ('త'...  "
      ]
     },
     "metadata": {},
     "output_type": "display_data"
    },
    {
     "name": "stdout",
     "output_type": "stream",
     "text": [
      "\n",
      "\n",
      "\n",
      "Satakam Name :  bharga\n",
      "(101, 4)\n"
     ]
    },
    {
     "data": {
      "text/html": [
       "<div>\n",
       "<style scoped>\n",
       "    .dataframe tbody tr th:only-of-type {\n",
       "        vertical-align: middle;\n",
       "    }\n",
       "\n",
       "    .dataframe tbody tr th {\n",
       "        vertical-align: top;\n",
       "    }\n",
       "\n",
       "    .dataframe thead th {\n",
       "        text-align: right;\n",
       "    }\n",
       "</style>\n",
       "<table border=\"1\" class=\"dataframe\">\n",
       "  <thead>\n",
       "    <tr style=\"text-align: right;\">\n",
       "      <th></th>\n",
       "      <th>type</th>\n",
       "      <th>padyam</th>\n",
       "      <th>class</th>\n",
       "      <th>satakam</th>\n",
       "      <th>lg</th>\n",
       "    </tr>\n",
       "  </thead>\n",
       "  <tbody>\n",
       "    <tr>\n",
       "      <th>0</th>\n",
       "      <td>saardulamu</td>\n",
       "      <td>శ్రీకైలాస మహామహీధర శిరఃశృంగాటకాంచన్మణి-\\nప్రాక...</td>\n",
       "      <td>vruttamu</td>\n",
       "      <td>bharga</td>\n",
       "      <td>[('శ్రీ', 'U'), ('కై', 'U'), ('లా', 'U'), ('స'...</td>\n",
       "    </tr>\n",
       "  </tbody>\n",
       "</table>\n",
       "</div>"
      ],
      "text/plain": [
       "         type                                             padyam     class  \\\n",
       "0  saardulamu  శ్రీకైలాస మహామహీధర శిరఃశృంగాటకాంచన్మణి-\\nప్రాక...  vruttamu   \n",
       "\n",
       "  satakam                                                 lg  \n",
       "0  bharga  [('శ్రీ', 'U'), ('కై', 'U'), ('లా', 'U'), ('స'...  "
      ]
     },
     "metadata": {},
     "output_type": "display_data"
    },
    {
     "name": "stdout",
     "output_type": "stream",
     "text": [
      "\n",
      "\n",
      "\n",
      "Satakam Name :  bhaskara\n",
      "(109, 4)\n"
     ]
    },
    {
     "data": {
      "text/html": [
       "<div>\n",
       "<style scoped>\n",
       "    .dataframe tbody tr th:only-of-type {\n",
       "        vertical-align: middle;\n",
       "    }\n",
       "\n",
       "    .dataframe tbody tr th {\n",
       "        vertical-align: top;\n",
       "    }\n",
       "\n",
       "    .dataframe thead th {\n",
       "        text-align: right;\n",
       "    }\n",
       "</style>\n",
       "<table border=\"1\" class=\"dataframe\">\n",
       "  <thead>\n",
       "    <tr style=\"text-align: right;\">\n",
       "      <th></th>\n",
       "      <th>type</th>\n",
       "      <th>padyam</th>\n",
       "      <th>class</th>\n",
       "      <th>satakam</th>\n",
       "      <th>lg</th>\n",
       "    </tr>\n",
       "  </thead>\n",
       "  <tbody>\n",
       "    <tr>\n",
       "      <th>0</th>\n",
       "      <td>vutpalamaala</td>\n",
       "      <td>శ్రీగల భాగ్యశాలి కడఁజేరఁగ వత్తురు తారు దారె దూ...</td>\n",
       "      <td>vruttamu</td>\n",
       "      <td>bhaskara</td>\n",
       "      <td>[('శ్రీ', 'U'), ('గ', '|'), ('ల', '|'), ('భా',...</td>\n",
       "    </tr>\n",
       "  </tbody>\n",
       "</table>\n",
       "</div>"
      ],
      "text/plain": [
       "           type                                             padyam     class  \\\n",
       "0  vutpalamaala  శ్రీగల భాగ్యశాలి కడఁజేరఁగ వత్తురు తారు దారె దూ...  vruttamu   \n",
       "\n",
       "    satakam                                                 lg  \n",
       "0  bhaskara  [('శ్రీ', 'U'), ('గ', '|'), ('ల', '|'), ('భా',...  "
      ]
     },
     "metadata": {},
     "output_type": "display_data"
    },
    {
     "name": "stdout",
     "output_type": "stream",
     "text": [
      "\n",
      "\n",
      "\n",
      "Satakam Name :  chiravibhava\n",
      "(96, 4)\n"
     ]
    },
    {
     "data": {
      "text/html": [
       "<div>\n",
       "<style scoped>\n",
       "    .dataframe tbody tr th:only-of-type {\n",
       "        vertical-align: middle;\n",
       "    }\n",
       "\n",
       "    .dataframe tbody tr th {\n",
       "        vertical-align: top;\n",
       "    }\n",
       "\n",
       "    .dataframe thead th {\n",
       "        text-align: right;\n",
       "    }\n",
       "</style>\n",
       "<table border=\"1\" class=\"dataframe\">\n",
       "  <thead>\n",
       "    <tr style=\"text-align: right;\">\n",
       "      <th></th>\n",
       "      <th>type</th>\n",
       "      <th>padyam</th>\n",
       "      <th>class</th>\n",
       "      <th>satakam</th>\n",
       "      <th>lg</th>\n",
       "    </tr>\n",
       "  </thead>\n",
       "  <tbody>\n",
       "    <tr>\n",
       "      <th>0</th>\n",
       "      <td>champakamaala</td>\n",
       "      <td>సిరిమగఁడున్ బితామహుఁడుఁ జేరి భజింపఁగ వెండికొండ...</td>\n",
       "      <td>vruttamu</td>\n",
       "      <td>chiravibhava</td>\n",
       "      <td>[('సి', '|'), ('రి', '|'), ('మ', '|'), ('గ', '...</td>\n",
       "    </tr>\n",
       "  </tbody>\n",
       "</table>\n",
       "</div>"
      ],
      "text/plain": [
       "            type                                             padyam     class  \\\n",
       "0  champakamaala  సిరిమగఁడున్ బితామహుఁడుఁ జేరి భజింపఁగ వెండికొండ...  vruttamu   \n",
       "\n",
       "        satakam                                                 lg  \n",
       "0  chiravibhava  [('సి', '|'), ('రి', '|'), ('మ', '|'), ('గ', '...  "
      ]
     },
     "metadata": {},
     "output_type": "display_data"
    },
    {
     "name": "stdout",
     "output_type": "stream",
     "text": [
      "\n",
      "\n",
      "\n",
      "Satakam Name :  daasarathi\n",
      "(103, 4)\n"
     ]
    },
    {
     "data": {
      "text/html": [
       "<div>\n",
       "<style scoped>\n",
       "    .dataframe tbody tr th:only-of-type {\n",
       "        vertical-align: middle;\n",
       "    }\n",
       "\n",
       "    .dataframe tbody tr th {\n",
       "        vertical-align: top;\n",
       "    }\n",
       "\n",
       "    .dataframe thead th {\n",
       "        text-align: right;\n",
       "    }\n",
       "</style>\n",
       "<table border=\"1\" class=\"dataframe\">\n",
       "  <thead>\n",
       "    <tr style=\"text-align: right;\">\n",
       "      <th></th>\n",
       "      <th>type</th>\n",
       "      <th>padyam</th>\n",
       "      <th>class</th>\n",
       "      <th>satakam</th>\n",
       "      <th>lg</th>\n",
       "    </tr>\n",
       "  </thead>\n",
       "  <tbody>\n",
       "    <tr>\n",
       "      <th>0</th>\n",
       "      <td>vutpalamaala</td>\n",
       "      <td>శ్రీరఘురామ చారుతులసీదళదామ శమక్షమాది శృం\\nగారగు...</td>\n",
       "      <td>vruttamu</td>\n",
       "      <td>daasarathi</td>\n",
       "      <td>[('శ్రీ', 'U'), ('ర', '|'), ('ఘు', '|'), ('రా'...</td>\n",
       "    </tr>\n",
       "  </tbody>\n",
       "</table>\n",
       "</div>"
      ],
      "text/plain": [
       "           type                                             padyam     class  \\\n",
       "0  vutpalamaala  శ్రీరఘురామ చారుతులసీదళదామ శమక్షమాది శృం\\nగారగు...  vruttamu   \n",
       "\n",
       "      satakam                                                 lg  \n",
       "0  daasarathi  [('శ్రీ', 'U'), ('ర', '|'), ('ఘు', '|'), ('రా'...  "
      ]
     },
     "metadata": {},
     "output_type": "display_data"
    },
    {
     "name": "stdout",
     "output_type": "stream",
     "text": [
      "\n",
      "\n",
      "\n",
      "Satakam Name :  devakinandana\n",
      "(101, 4)\n"
     ]
    },
    {
     "data": {
      "text/html": [
       "<div>\n",
       "<style scoped>\n",
       "    .dataframe tbody tr th:only-of-type {\n",
       "        vertical-align: middle;\n",
       "    }\n",
       "\n",
       "    .dataframe tbody tr th {\n",
       "        vertical-align: top;\n",
       "    }\n",
       "\n",
       "    .dataframe thead th {\n",
       "        text-align: right;\n",
       "    }\n",
       "</style>\n",
       "<table border=\"1\" class=\"dataframe\">\n",
       "  <thead>\n",
       "    <tr style=\"text-align: right;\">\n",
       "      <th></th>\n",
       "      <th>type</th>\n",
       "      <th>padyam</th>\n",
       "      <th>class</th>\n",
       "      <th>satakam</th>\n",
       "      <th>lg</th>\n",
       "    </tr>\n",
       "  </thead>\n",
       "  <tbody>\n",
       "    <tr>\n",
       "      <th>0</th>\n",
       "      <td>saardulamu</td>\n",
       "      <td>శ్రీకైవల్యరమాధినాథ నిను నర్థిం గీర్తనల్‌జేసి క...</td>\n",
       "      <td>vruttamu</td>\n",
       "      <td>devakinandana</td>\n",
       "      <td>[('శ్రీ', 'U'), ('కై', 'U'), ('వ', 'U'), ('ల్య...</td>\n",
       "    </tr>\n",
       "  </tbody>\n",
       "</table>\n",
       "</div>"
      ],
      "text/plain": [
       "         type                                             padyam     class  \\\n",
       "0  saardulamu  శ్రీకైవల్యరమాధినాథ నిను నర్థిం గీర్తనల్‌జేసి క...  vruttamu   \n",
       "\n",
       "         satakam                                                 lg  \n",
       "0  devakinandana  [('శ్రీ', 'U'), ('కై', 'U'), ('వ', 'U'), ('ల్య...  "
      ]
     },
     "metadata": {},
     "output_type": "display_data"
    },
    {
     "name": "stdout",
     "output_type": "stream",
     "text": [
      "\n",
      "\n",
      "\n",
      "Satakam Name :  krishna\n",
      "(101, 4)\n"
     ]
    },
    {
     "data": {
      "text/html": [
       "<div>\n",
       "<style scoped>\n",
       "    .dataframe tbody tr th:only-of-type {\n",
       "        vertical-align: middle;\n",
       "    }\n",
       "\n",
       "    .dataframe tbody tr th {\n",
       "        vertical-align: top;\n",
       "    }\n",
       "\n",
       "    .dataframe thead th {\n",
       "        text-align: right;\n",
       "    }\n",
       "</style>\n",
       "<table border=\"1\" class=\"dataframe\">\n",
       "  <thead>\n",
       "    <tr style=\"text-align: right;\">\n",
       "      <th></th>\n",
       "      <th>type</th>\n",
       "      <th>padyam</th>\n",
       "      <th>class</th>\n",
       "      <th>satakam</th>\n",
       "      <th>lg</th>\n",
       "    </tr>\n",
       "  </thead>\n",
       "  <tbody>\n",
       "    <tr>\n",
       "      <th>0</th>\n",
       "      <td>kandamu</td>\n",
       "      <td>శ్రీ రుక్మిణీశ కేశవ\\nనారద సంగీతలోల నగధర శౌరీ\\n...</td>\n",
       "      <td>jaathi</td>\n",
       "      <td>krishna</td>\n",
       "      <td>[('శ్రీ', 'U'), ('రు', 'U'), ('క్మి', '|'), ('...</td>\n",
       "    </tr>\n",
       "  </tbody>\n",
       "</table>\n",
       "</div>"
      ],
      "text/plain": [
       "      type                                             padyam   class  \\\n",
       "0  kandamu  శ్రీ రుక్మిణీశ కేశవ\\nనారద సంగీతలోల నగధర శౌరీ\\n...  jaathi   \n",
       "\n",
       "   satakam                                                 lg  \n",
       "0  krishna  [('శ్రీ', 'U'), ('రు', 'U'), ('క్మి', '|'), ('...  "
      ]
     },
     "metadata": {},
     "output_type": "display_data"
    },
    {
     "name": "stdout",
     "output_type": "stream",
     "text": [
      "\n",
      "\n",
      "\n",
      "Satakam Name :  kukkuteswara\n",
      "(184, 4)\n"
     ]
    },
    {
     "data": {
      "text/html": [
       "<div>\n",
       "<style scoped>\n",
       "    .dataframe tbody tr th:only-of-type {\n",
       "        vertical-align: middle;\n",
       "    }\n",
       "\n",
       "    .dataframe tbody tr th {\n",
       "        vertical-align: top;\n",
       "    }\n",
       "\n",
       "    .dataframe thead th {\n",
       "        text-align: right;\n",
       "    }\n",
       "</style>\n",
       "<table border=\"1\" class=\"dataframe\">\n",
       "  <thead>\n",
       "    <tr style=\"text-align: right;\">\n",
       "      <th></th>\n",
       "      <th>type</th>\n",
       "      <th>padyam</th>\n",
       "      <th>class</th>\n",
       "      <th>satakam</th>\n",
       "      <th>lg</th>\n",
       "    </tr>\n",
       "  </thead>\n",
       "  <tbody>\n",
       "    <tr>\n",
       "      <th>0</th>\n",
       "      <td>seesamu</td>\n",
       "      <td>శ్రీకరధవళాంగ, శ్రితజనావనసంగ, | కరనివిష్టకురంగ,...</td>\n",
       "      <td>vupajaathi</td>\n",
       "      <td>kukkuteswara</td>\n",
       "      <td>[('శ్రీ', 'U'), ('క', '|'), ('ర', '|'), ('ధ', ...</td>\n",
       "    </tr>\n",
       "  </tbody>\n",
       "</table>\n",
       "</div>"
      ],
      "text/plain": [
       "      type                                             padyam       class  \\\n",
       "0  seesamu  శ్రీకరధవళాంగ, శ్రితజనావనసంగ, | కరనివిష్టకురంగ,...  vupajaathi   \n",
       "\n",
       "        satakam                                                 lg  \n",
       "0  kukkuteswara  [('శ్రీ', 'U'), ('క', '|'), ('ర', '|'), ('ధ', ...  "
      ]
     },
     "metadata": {},
     "output_type": "display_data"
    },
    {
     "name": "stdout",
     "output_type": "stream",
     "text": [
      "\n",
      "\n",
      "\n",
      "Satakam Name :  kumaara\n",
      "(104, 4)\n"
     ]
    },
    {
     "data": {
      "text/html": [
       "<div>\n",
       "<style scoped>\n",
       "    .dataframe tbody tr th:only-of-type {\n",
       "        vertical-align: middle;\n",
       "    }\n",
       "\n",
       "    .dataframe tbody tr th {\n",
       "        vertical-align: top;\n",
       "    }\n",
       "\n",
       "    .dataframe thead th {\n",
       "        text-align: right;\n",
       "    }\n",
       "</style>\n",
       "<table border=\"1\" class=\"dataframe\">\n",
       "  <thead>\n",
       "    <tr style=\"text-align: right;\">\n",
       "      <th></th>\n",
       "      <th>type</th>\n",
       "      <th>padyam</th>\n",
       "      <th>class</th>\n",
       "      <th>satakam</th>\n",
       "      <th>lg</th>\n",
       "    </tr>\n",
       "  </thead>\n",
       "  <tbody>\n",
       "    <tr>\n",
       "      <th>0</th>\n",
       "      <td>kandamu</td>\n",
       "      <td>శ్రీభామినీ మనోహర\\nసౌభాగ్యు దయాస్వభావు సారసనాభు...</td>\n",
       "      <td>vruttamu</td>\n",
       "      <td>kumaara</td>\n",
       "      <td>[('శ్రీ', 'U'), ('భా', 'U'), ('మి', '|'), ('నీ...</td>\n",
       "    </tr>\n",
       "  </tbody>\n",
       "</table>\n",
       "</div>"
      ],
      "text/plain": [
       "      type                                             padyam     class  \\\n",
       "0  kandamu  శ్రీభామినీ మనోహర\\nసౌభాగ్యు దయాస్వభావు సారసనాభు...  vruttamu   \n",
       "\n",
       "   satakam                                                 lg  \n",
       "0  kumaara  [('శ్రీ', 'U'), ('భా', 'U'), ('మి', '|'), ('నీ...  "
      ]
     },
     "metadata": {},
     "output_type": "display_data"
    },
    {
     "name": "stdout",
     "output_type": "stream",
     "text": [
      "\n",
      "\n",
      "\n",
      "Satakam Name :  kumaarii\n",
      "(100, 4)\n"
     ]
    },
    {
     "data": {
      "text/html": [
       "<div>\n",
       "<style scoped>\n",
       "    .dataframe tbody tr th:only-of-type {\n",
       "        vertical-align: middle;\n",
       "    }\n",
       "\n",
       "    .dataframe tbody tr th {\n",
       "        vertical-align: top;\n",
       "    }\n",
       "\n",
       "    .dataframe thead th {\n",
       "        text-align: right;\n",
       "    }\n",
       "</style>\n",
       "<table border=\"1\" class=\"dataframe\">\n",
       "  <thead>\n",
       "    <tr style=\"text-align: right;\">\n",
       "      <th></th>\n",
       "      <th>type</th>\n",
       "      <th>padyam</th>\n",
       "      <th>class</th>\n",
       "      <th>satakam</th>\n",
       "      <th>lg</th>\n",
       "    </tr>\n",
       "  </thead>\n",
       "  <tbody>\n",
       "    <tr>\n",
       "      <th>0</th>\n",
       "      <td>kandamu</td>\n",
       "      <td>శ్రీ భూ నీళా హైమవ\\nతీ భారతు లతుల శుభవతిగ నెన్న...</td>\n",
       "      <td>jaathi</td>\n",
       "      <td>kumaarii</td>\n",
       "      <td>[('శ్రీ', 'U'), ('భూ', 'U'), ('నీ', 'U'), ('ళా...</td>\n",
       "    </tr>\n",
       "  </tbody>\n",
       "</table>\n",
       "</div>"
      ],
      "text/plain": [
       "      type                                             padyam   class  \\\n",
       "0  kandamu  శ్రీ భూ నీళా హైమవ\\nతీ భారతు లతుల శుభవతిగ నెన్న...  jaathi   \n",
       "\n",
       "    satakam                                                 lg  \n",
       "0  kumaarii  [('శ్రీ', 'U'), ('భూ', 'U'), ('నీ', 'U'), ('ళా...  "
      ]
     },
     "metadata": {},
     "output_type": "display_data"
    },
    {
     "name": "stdout",
     "output_type": "stream",
     "text": [
      "\n",
      "\n",
      "\n",
      "Satakam Name :  laavanya\n",
      "(200, 4)\n"
     ]
    },
    {
     "data": {
      "text/html": [
       "<div>\n",
       "<style scoped>\n",
       "    .dataframe tbody tr th:only-of-type {\n",
       "        vertical-align: middle;\n",
       "    }\n",
       "\n",
       "    .dataframe tbody tr th {\n",
       "        vertical-align: top;\n",
       "    }\n",
       "\n",
       "    .dataframe thead th {\n",
       "        text-align: right;\n",
       "    }\n",
       "</style>\n",
       "<table border=\"1\" class=\"dataframe\">\n",
       "  <thead>\n",
       "    <tr style=\"text-align: right;\">\n",
       "      <th></th>\n",
       "      <th>type</th>\n",
       "      <th>padyam</th>\n",
       "      <th>class</th>\n",
       "      <th>satakam</th>\n",
       "      <th>lg</th>\n",
       "    </tr>\n",
       "  </thead>\n",
       "  <tbody>\n",
       "    <tr>\n",
       "      <th>0</th>\n",
       "      <td>seesamu</td>\n",
       "      <td>శ్రీమదఖండలక్ష్మీప్రసన్నుడు మాక- । రాట్కులాంబోధ...</td>\n",
       "      <td>vupajaathi</td>\n",
       "      <td>laavanya</td>\n",
       "      <td>[('శ్రీ', 'U'), ('మ', '|'), ('ద', '|'), ('ఖం',...</td>\n",
       "    </tr>\n",
       "  </tbody>\n",
       "</table>\n",
       "</div>"
      ],
      "text/plain": [
       "      type                                             padyam       class  \\\n",
       "0  seesamu  శ్రీమదఖండలక్ష్మీప్రసన్నుడు మాక- । రాట్కులాంబోధ...  vupajaathi   \n",
       "\n",
       "    satakam                                                 lg  \n",
       "0  laavanya  [('శ్రీ', 'U'), ('మ', '|'), ('ద', '|'), ('ఖం',...  "
      ]
     },
     "metadata": {},
     "output_type": "display_data"
    },
    {
     "name": "stdout",
     "output_type": "stream",
     "text": [
      "\n",
      "\n",
      "\n",
      "Satakam Name :  maaruthi\n",
      "(116, 4)\n"
     ]
    },
    {
     "data": {
      "text/html": [
       "<div>\n",
       "<style scoped>\n",
       "    .dataframe tbody tr th:only-of-type {\n",
       "        vertical-align: middle;\n",
       "    }\n",
       "\n",
       "    .dataframe tbody tr th {\n",
       "        vertical-align: top;\n",
       "    }\n",
       "\n",
       "    .dataframe thead th {\n",
       "        text-align: right;\n",
       "    }\n",
       "</style>\n",
       "<table border=\"1\" class=\"dataframe\">\n",
       "  <thead>\n",
       "    <tr style=\"text-align: right;\">\n",
       "      <th></th>\n",
       "      <th>type</th>\n",
       "      <th>padyam</th>\n",
       "      <th>class</th>\n",
       "      <th>satakam</th>\n",
       "      <th>lg</th>\n",
       "    </tr>\n",
       "  </thead>\n",
       "  <tbody>\n",
       "    <tr>\n",
       "      <th>0</th>\n",
       "      <td>saardulamu</td>\n",
       "      <td>శ్రీమద్రామ పదారవిందయుగళిన్‌ సేవించి, యస్మద్గుర...</td>\n",
       "      <td>vruttamu</td>\n",
       "      <td>maaruthi</td>\n",
       "      <td>[('శ్రీ', 'U'), ('మ', '|'), ('ద్రా', 'U'), ('మ...</td>\n",
       "    </tr>\n",
       "  </tbody>\n",
       "</table>\n",
       "</div>"
      ],
      "text/plain": [
       "         type                                             padyam     class  \\\n",
       "0  saardulamu  శ్రీమద్రామ పదారవిందయుగళిన్‌ సేవించి, యస్మద్గుర...  vruttamu   \n",
       "\n",
       "    satakam                                                 lg  \n",
       "0  maaruthi  [('శ్రీ', 'U'), ('మ', '|'), ('ద్రా', 'U'), ('మ...  "
      ]
     },
     "metadata": {},
     "output_type": "display_data"
    },
    {
     "name": "stdout",
     "output_type": "stream",
     "text": [
      "\n",
      "\n",
      "\n",
      "Satakam Name :  maathru\n",
      "(100, 4)\n"
     ]
    },
    {
     "data": {
      "text/html": [
       "<div>\n",
       "<style scoped>\n",
       "    .dataframe tbody tr th:only-of-type {\n",
       "        vertical-align: middle;\n",
       "    }\n",
       "\n",
       "    .dataframe tbody tr th {\n",
       "        vertical-align: top;\n",
       "    }\n",
       "\n",
       "    .dataframe thead th {\n",
       "        text-align: right;\n",
       "    }\n",
       "</style>\n",
       "<table border=\"1\" class=\"dataframe\">\n",
       "  <thead>\n",
       "    <tr style=\"text-align: right;\">\n",
       "      <th></th>\n",
       "      <th>type</th>\n",
       "      <th>padyam</th>\n",
       "      <th>class</th>\n",
       "      <th>satakam</th>\n",
       "      <th>lg</th>\n",
       "    </tr>\n",
       "  </thead>\n",
       "  <tbody>\n",
       "    <tr>\n",
       "      <th>0</th>\n",
       "      <td>vutpalamaala</td>\n",
       "      <td>శ్రీపతియైనఁ గాని విధుశేఖరుఁడైన త్రిశూలపాణియై-\\...</td>\n",
       "      <td>vruttamu</td>\n",
       "      <td>maathru</td>\n",
       "      <td>[('శ్రీ', 'U'), ('ప', '|'), ('తి', '|'), ('యై'...</td>\n",
       "    </tr>\n",
       "  </tbody>\n",
       "</table>\n",
       "</div>"
      ],
      "text/plain": [
       "           type                                             padyam     class  \\\n",
       "0  vutpalamaala  శ్రీపతియైనఁ గాని విధుశేఖరుఁడైన త్రిశూలపాణియై-\\...  vruttamu   \n",
       "\n",
       "   satakam                                                 lg  \n",
       "0  maathru  [('శ్రీ', 'U'), ('ప', '|'), ('తి', '|'), ('యై'...  "
      ]
     },
     "metadata": {},
     "output_type": "display_data"
    },
    {
     "name": "stdout",
     "output_type": "stream",
     "text": [
      "\n",
      "\n",
      "\n",
      "Satakam Name :  madanagopala\n",
      "(200, 4)\n"
     ]
    },
    {
     "data": {
      "text/html": [
       "<div>\n",
       "<style scoped>\n",
       "    .dataframe tbody tr th:only-of-type {\n",
       "        vertical-align: middle;\n",
       "    }\n",
       "\n",
       "    .dataframe tbody tr th {\n",
       "        vertical-align: top;\n",
       "    }\n",
       "\n",
       "    .dataframe thead th {\n",
       "        text-align: right;\n",
       "    }\n",
       "</style>\n",
       "<table border=\"1\" class=\"dataframe\">\n",
       "  <thead>\n",
       "    <tr style=\"text-align: right;\">\n",
       "      <th></th>\n",
       "      <th>type</th>\n",
       "      <th>padyam</th>\n",
       "      <th>class</th>\n",
       "      <th>satakam</th>\n",
       "      <th>lg</th>\n",
       "    </tr>\n",
       "  </thead>\n",
       "  <tbody>\n",
       "    <tr>\n",
       "      <th>0</th>\n",
       "      <td>seesamu</td>\n",
       "      <td>శ్రీరుక్మిణీనాథ జితకోటిరతినాథ సుందరాకార సానంద ...</td>\n",
       "      <td>vupajaathi</td>\n",
       "      <td>madanagopala</td>\n",
       "      <td>[('శ్రీ', 'U'), ('రు', 'U'), ('క్మి', '|'), ('...</td>\n",
       "    </tr>\n",
       "  </tbody>\n",
       "</table>\n",
       "</div>"
      ],
      "text/plain": [
       "      type                                             padyam       class  \\\n",
       "0  seesamu  శ్రీరుక్మిణీనాథ జితకోటిరతినాథ సుందరాకార సానంద ...  vupajaathi   \n",
       "\n",
       "        satakam                                                 lg  \n",
       "0  madanagopala  [('శ్రీ', 'U'), ('రు', 'U'), ('క్మి', '|'), ('...  "
      ]
     },
     "metadata": {},
     "output_type": "display_data"
    },
    {
     "name": "stdout",
     "output_type": "stream",
     "text": [
      "\n",
      "\n",
      "\n",
      "Satakam Name :  naarayana\n",
      "(105, 4)\n"
     ]
    },
    {
     "data": {
      "text/html": [
       "<div>\n",
       "<style scoped>\n",
       "    .dataframe tbody tr th:only-of-type {\n",
       "        vertical-align: middle;\n",
       "    }\n",
       "\n",
       "    .dataframe tbody tr th {\n",
       "        vertical-align: top;\n",
       "    }\n",
       "\n",
       "    .dataframe thead th {\n",
       "        text-align: right;\n",
       "    }\n",
       "</style>\n",
       "<table border=\"1\" class=\"dataframe\">\n",
       "  <thead>\n",
       "    <tr style=\"text-align: right;\">\n",
       "      <th></th>\n",
       "      <th>type</th>\n",
       "      <th>padyam</th>\n",
       "      <th>class</th>\n",
       "      <th>satakam</th>\n",
       "      <th>lg</th>\n",
       "    </tr>\n",
       "  </thead>\n",
       "  <tbody>\n",
       "    <tr>\n",
       "      <th>0</th>\n",
       "      <td>saardulamu</td>\n",
       "      <td>శ్రీరామామణి పాణిపంకజమృదుశ్రీతజ్ఞ పాదాబ్జ శృం\\n...</td>\n",
       "      <td>vruttamu</td>\n",
       "      <td>naarayana</td>\n",
       "      <td>[('శ్రీ', 'U'), ('రా', 'U'), ('మా', 'U'), ('మ'...</td>\n",
       "    </tr>\n",
       "  </tbody>\n",
       "</table>\n",
       "</div>"
      ],
      "text/plain": [
       "         type                                             padyam     class  \\\n",
       "0  saardulamu  శ్రీరామామణి పాణిపంకజమృదుశ్రీతజ్ఞ పాదాబ్జ శృం\\n...  vruttamu   \n",
       "\n",
       "     satakam                                                 lg  \n",
       "0  naarayana  [('శ్రీ', 'U'), ('రా', 'U'), ('మా', 'U'), ('మ'...  "
      ]
     },
     "metadata": {},
     "output_type": "display_data"
    },
    {
     "name": "stdout",
     "output_type": "stream",
     "text": [
      "\n",
      "\n",
      "\n",
      "Satakam Name :  narasimha\n",
      "(200, 4)\n"
     ]
    },
    {
     "data": {
      "text/html": [
       "<div>\n",
       "<style scoped>\n",
       "    .dataframe tbody tr th:only-of-type {\n",
       "        vertical-align: middle;\n",
       "    }\n",
       "\n",
       "    .dataframe tbody tr th {\n",
       "        vertical-align: top;\n",
       "    }\n",
       "\n",
       "    .dataframe thead th {\n",
       "        text-align: right;\n",
       "    }\n",
       "</style>\n",
       "<table border=\"1\" class=\"dataframe\">\n",
       "  <thead>\n",
       "    <tr style=\"text-align: right;\">\n",
       "      <th></th>\n",
       "      <th>type</th>\n",
       "      <th>padyam</th>\n",
       "      <th>class</th>\n",
       "      <th>satakam</th>\n",
       "      <th>lg</th>\n",
       "    </tr>\n",
       "  </thead>\n",
       "  <tbody>\n",
       "    <tr>\n",
       "      <th>0</th>\n",
       "      <td>seesamu</td>\n",
       "      <td>శ్రీ మనోహర! సురార్చిత సింధుగంభీర! - భక్తవత్సల!...</td>\n",
       "      <td>vupajaathi</td>\n",
       "      <td>narasimha</td>\n",
       "      <td>[('శ్రీ', 'U'), ('మ', '|'), ('నో', 'U'), ('హ',...</td>\n",
       "    </tr>\n",
       "  </tbody>\n",
       "</table>\n",
       "</div>"
      ],
      "text/plain": [
       "      type                                             padyam       class  \\\n",
       "0  seesamu  శ్రీ మనోహర! సురార్చిత సింధుగంభీర! - భక్తవత్సల!...  vupajaathi   \n",
       "\n",
       "     satakam                                                 lg  \n",
       "0  narasimha  [('శ్రీ', 'U'), ('మ', '|'), ('నో', 'U'), ('హ',...  "
      ]
     },
     "metadata": {},
     "output_type": "display_data"
    },
    {
     "name": "stdout",
     "output_type": "stream",
     "text": [
      "\n",
      "\n",
      "\n",
      "Satakam Name :  ontimittaraguveera\n",
      "(120, 4)\n"
     ]
    },
    {
     "data": {
      "text/html": [
       "<div>\n",
       "<style scoped>\n",
       "    .dataframe tbody tr th:only-of-type {\n",
       "        vertical-align: middle;\n",
       "    }\n",
       "\n",
       "    .dataframe tbody tr th {\n",
       "        vertical-align: top;\n",
       "    }\n",
       "\n",
       "    .dataframe thead th {\n",
       "        text-align: right;\n",
       "    }\n",
       "</style>\n",
       "<table border=\"1\" class=\"dataframe\">\n",
       "  <thead>\n",
       "    <tr style=\"text-align: right;\">\n",
       "      <th></th>\n",
       "      <th>type</th>\n",
       "      <th>padyam</th>\n",
       "      <th>class</th>\n",
       "      <th>satakam</th>\n",
       "      <th>lg</th>\n",
       "    </tr>\n",
       "  </thead>\n",
       "  <tbody>\n",
       "    <tr>\n",
       "      <th>0</th>\n",
       "      <td>saardulamu</td>\n",
       "      <td>శ్రీకల్యాణగుణాభిరామ! విబుధశ్రేణీ కిరీటద్యుతి\\n...</td>\n",
       "      <td>vruttamu</td>\n",
       "      <td>ontimittaraguveera</td>\n",
       "      <td>[('శ్రీ', 'U'), ('క', 'U'), ('ల్యా', 'U'), ('ణ...</td>\n",
       "    </tr>\n",
       "  </tbody>\n",
       "</table>\n",
       "</div>"
      ],
      "text/plain": [
       "         type                                             padyam     class  \\\n",
       "0  saardulamu  శ్రీకల్యాణగుణాభిరామ! విబుధశ్రేణీ కిరీటద్యుతి\\n...  vruttamu   \n",
       "\n",
       "              satakam                                                 lg  \n",
       "0  ontimittaraguveera  [('శ్రీ', 'U'), ('క', 'U'), ('ల్యా', 'U'), ('ణ...  "
      ]
     },
     "metadata": {},
     "output_type": "display_data"
    },
    {
     "name": "stdout",
     "output_type": "stream",
     "text": [
      "\n",
      "\n",
      "\n",
      "Satakam Name :  prarthana\n",
      "(1, 4)\n"
     ]
    },
    {
     "data": {
      "text/html": [
       "<div>\n",
       "<style scoped>\n",
       "    .dataframe tbody tr th:only-of-type {\n",
       "        vertical-align: middle;\n",
       "    }\n",
       "\n",
       "    .dataframe tbody tr th {\n",
       "        vertical-align: top;\n",
       "    }\n",
       "\n",
       "    .dataframe thead th {\n",
       "        text-align: right;\n",
       "    }\n",
       "</style>\n",
       "<table border=\"1\" class=\"dataframe\">\n",
       "  <thead>\n",
       "    <tr style=\"text-align: right;\">\n",
       "      <th></th>\n",
       "      <th>type</th>\n",
       "      <th>padyam</th>\n",
       "      <th>class</th>\n",
       "      <th>satakam</th>\n",
       "      <th>lg</th>\n",
       "    </tr>\n",
       "  </thead>\n",
       "  <tbody>\n",
       "    <tr>\n",
       "      <th>0</th>\n",
       "      <td>vutpalamaala</td>\n",
       "      <td>తొండము నేక దంతమును తోరపు బొజ్జయు వామ హస్తమున్\\...</td>\n",
       "      <td>vruttamu</td>\n",
       "      <td>bhaskara</td>\n",
       "      <td>[('తొం', 'U'), ('డ', '|'), ('ము', '|'), ('నే',...</td>\n",
       "    </tr>\n",
       "  </tbody>\n",
       "</table>\n",
       "</div>"
      ],
      "text/plain": [
       "           type                                             padyam     class  \\\n",
       "0  vutpalamaala  తొండము నేక దంతమును తోరపు బొజ్జయు వామ హస్తమున్\\...  vruttamu   \n",
       "\n",
       "    satakam                                                 lg  \n",
       "0  bhaskara  [('తొం', 'U'), ('డ', '|'), ('ము', '|'), ('నే',...  "
      ]
     },
     "metadata": {},
     "output_type": "display_data"
    },
    {
     "name": "stdout",
     "output_type": "stream",
     "text": [
      "\n",
      "\n",
      "\n",
      "Satakam Name :  sampangimanna\n",
      "(120, 4)\n"
     ]
    },
    {
     "data": {
      "text/html": [
       "<div>\n",
       "<style scoped>\n",
       "    .dataframe tbody tr th:only-of-type {\n",
       "        vertical-align: middle;\n",
       "    }\n",
       "\n",
       "    .dataframe tbody tr th {\n",
       "        vertical-align: top;\n",
       "    }\n",
       "\n",
       "    .dataframe thead th {\n",
       "        text-align: right;\n",
       "    }\n",
       "</style>\n",
       "<table border=\"1\" class=\"dataframe\">\n",
       "  <thead>\n",
       "    <tr style=\"text-align: right;\">\n",
       "      <th></th>\n",
       "      <th>type</th>\n",
       "      <th>padyam</th>\n",
       "      <th>class</th>\n",
       "      <th>satakam</th>\n",
       "      <th>lg</th>\n",
       "    </tr>\n",
       "  </thead>\n",
       "  <tbody>\n",
       "    <tr>\n",
       "      <th>0</th>\n",
       "      <td>kandamu</td>\n",
       "      <td>శ్రీమానినీమనోహర! \\nసోమార్కవిశాలనేత్ర! సురనుతగా...</td>\n",
       "      <td>jaathi</td>\n",
       "      <td>sampangimanna</td>\n",
       "      <td>[('శ్రీ', 'U'), ('మా', 'U'), ('ని', '|'), ('నీ...</td>\n",
       "    </tr>\n",
       "  </tbody>\n",
       "</table>\n",
       "</div>"
      ],
      "text/plain": [
       "      type                                             padyam   class  \\\n",
       "0  kandamu  శ్రీమానినీమనోహర! \\nసోమార్కవిశాలనేత్ర! సురనుతగా...  jaathi   \n",
       "\n",
       "         satakam                                                 lg  \n",
       "0  sampangimanna  [('శ్రీ', 'U'), ('మా', 'U'), ('ని', '|'), ('నీ...  "
      ]
     },
     "metadata": {},
     "output_type": "display_data"
    },
    {
     "name": "stdout",
     "output_type": "stream",
     "text": [
      "\n",
      "\n",
      "\n",
      "Satakam Name :  sarveswara\n",
      "(144, 4)\n"
     ]
    },
    {
     "data": {
      "text/html": [
       "<div>\n",
       "<style scoped>\n",
       "    .dataframe tbody tr th:only-of-type {\n",
       "        vertical-align: middle;\n",
       "    }\n",
       "\n",
       "    .dataframe tbody tr th {\n",
       "        vertical-align: top;\n",
       "    }\n",
       "\n",
       "    .dataframe thead th {\n",
       "        text-align: right;\n",
       "    }\n",
       "</style>\n",
       "<table border=\"1\" class=\"dataframe\">\n",
       "  <thead>\n",
       "    <tr style=\"text-align: right;\">\n",
       "      <th></th>\n",
       "      <th>type</th>\n",
       "      <th>padyam</th>\n",
       "      <th>class</th>\n",
       "      <th>satakam</th>\n",
       "      <th>lg</th>\n",
       "    </tr>\n",
       "  </thead>\n",
       "  <tbody>\n",
       "    <tr>\n",
       "      <th>0</th>\n",
       "      <td>saardulamu</td>\n",
       "      <td>శ్రీకంఠుం బరమేశు నవ్యయు నిజశ్రీపాదదివ్యప్రభా-\\...</td>\n",
       "      <td>vruttamu</td>\n",
       "      <td>sarveswara</td>\n",
       "      <td>[('శ్రీ', 'U'), ('కం', 'U'), ('ఠుం', 'U'), ('బ...</td>\n",
       "    </tr>\n",
       "  </tbody>\n",
       "</table>\n",
       "</div>"
      ],
      "text/plain": [
       "         type                                             padyam     class  \\\n",
       "0  saardulamu  శ్రీకంఠుం బరమేశు నవ్యయు నిజశ్రీపాదదివ్యప్రభా-\\...  vruttamu   \n",
       "\n",
       "      satakam                                                 lg  \n",
       "0  sarveswara  [('శ్రీ', 'U'), ('కం', 'U'), ('ఠుం', 'U'), ('బ...  "
      ]
     },
     "metadata": {},
     "output_type": "display_data"
    },
    {
     "name": "stdout",
     "output_type": "stream",
     "text": [
      "\n",
      "\n",
      "\n",
      "Satakam Name :  srikaalahasteeswara\n",
      "(119, 4)\n"
     ]
    },
    {
     "data": {
      "text/html": [
       "<div>\n",
       "<style scoped>\n",
       "    .dataframe tbody tr th:only-of-type {\n",
       "        vertical-align: middle;\n",
       "    }\n",
       "\n",
       "    .dataframe tbody tr th {\n",
       "        vertical-align: top;\n",
       "    }\n",
       "\n",
       "    .dataframe thead th {\n",
       "        text-align: right;\n",
       "    }\n",
       "</style>\n",
       "<table border=\"1\" class=\"dataframe\">\n",
       "  <thead>\n",
       "    <tr style=\"text-align: right;\">\n",
       "      <th></th>\n",
       "      <th>type</th>\n",
       "      <th>padyam</th>\n",
       "      <th>class</th>\n",
       "      <th>satakam</th>\n",
       "      <th>lg</th>\n",
       "    </tr>\n",
       "  </thead>\n",
       "  <tbody>\n",
       "    <tr>\n",
       "      <th>0</th>\n",
       "      <td>saardulamu</td>\n",
       "      <td>శ్రీవిద్యుత్కలితాజవంజవ మహాజీమూతపాపాంబు ధా\\nరావ...</td>\n",
       "      <td>vruttamu</td>\n",
       "      <td>srikaalahasteeswara</td>\n",
       "      <td>[('శ్రీ', 'U'), ('వి', 'U'), ('ద్యు', 'U'), ('...</td>\n",
       "    </tr>\n",
       "  </tbody>\n",
       "</table>\n",
       "</div>"
      ],
      "text/plain": [
       "         type                                             padyam     class  \\\n",
       "0  saardulamu  శ్రీవిద్యుత్కలితాజవంజవ మహాజీమూతపాపాంబు ధా\\nరావ...  vruttamu   \n",
       "\n",
       "               satakam                                                 lg  \n",
       "0  srikaalahasteeswara  [('శ్రీ', 'U'), ('వి', 'U'), ('ద్యు', 'U'), ('...  "
      ]
     },
     "metadata": {},
     "output_type": "display_data"
    },
    {
     "name": "stdout",
     "output_type": "stream",
     "text": [
      "\n",
      "\n",
      "\n",
      "Satakam Name :  sumathi\n",
      "(108, 4)\n"
     ]
    },
    {
     "data": {
      "text/html": [
       "<div>\n",
       "<style scoped>\n",
       "    .dataframe tbody tr th:only-of-type {\n",
       "        vertical-align: middle;\n",
       "    }\n",
       "\n",
       "    .dataframe tbody tr th {\n",
       "        vertical-align: top;\n",
       "    }\n",
       "\n",
       "    .dataframe thead th {\n",
       "        text-align: right;\n",
       "    }\n",
       "</style>\n",
       "<table border=\"1\" class=\"dataframe\">\n",
       "  <thead>\n",
       "    <tr style=\"text-align: right;\">\n",
       "      <th></th>\n",
       "      <th>type</th>\n",
       "      <th>padyam</th>\n",
       "      <th>class</th>\n",
       "      <th>satakam</th>\n",
       "      <th>lg</th>\n",
       "    </tr>\n",
       "  </thead>\n",
       "  <tbody>\n",
       "    <tr>\n",
       "      <th>0</th>\n",
       "      <td>kandamu</td>\n",
       "      <td>శ్రీ రాముని దయ చేతను\\nనారూఢిగ సకల జనులు నౌరా య...</td>\n",
       "      <td>vruttamu</td>\n",
       "      <td>sumathi</td>\n",
       "      <td>[('శ్రీ', 'U'), ('రా', 'U'), ('ము', '|'), ('ని...</td>\n",
       "    </tr>\n",
       "  </tbody>\n",
       "</table>\n",
       "</div>"
      ],
      "text/plain": [
       "      type                                             padyam     class  \\\n",
       "0  kandamu  శ్రీ రాముని దయ చేతను\\nనారూఢిగ సకల జనులు నౌరా య...  vruttamu   \n",
       "\n",
       "   satakam                                                 lg  \n",
       "0  sumathi  [('శ్రీ', 'U'), ('రా', 'U'), ('ము', '|'), ('ని...  "
      ]
     },
     "metadata": {},
     "output_type": "display_data"
    },
    {
     "name": "stdout",
     "output_type": "stream",
     "text": [
      "\n",
      "\n",
      "\n",
      "Satakam Name :  sundariimani\n",
      "(95, 4)\n"
     ]
    },
    {
     "data": {
      "text/html": [
       "<div>\n",
       "<style scoped>\n",
       "    .dataframe tbody tr th:only-of-type {\n",
       "        vertical-align: middle;\n",
       "    }\n",
       "\n",
       "    .dataframe tbody tr th {\n",
       "        vertical-align: top;\n",
       "    }\n",
       "\n",
       "    .dataframe thead th {\n",
       "        text-align: right;\n",
       "    }\n",
       "</style>\n",
       "<table border=\"1\" class=\"dataframe\">\n",
       "  <thead>\n",
       "    <tr style=\"text-align: right;\">\n",
       "      <th></th>\n",
       "      <th>type</th>\n",
       "      <th>padyam</th>\n",
       "      <th>class</th>\n",
       "      <th>satakam</th>\n",
       "      <th>lg</th>\n",
       "    </tr>\n",
       "  </thead>\n",
       "  <tbody>\n",
       "    <tr>\n",
       "      <th>0</th>\n",
       "      <td>vutpalamaala</td>\n",
       "      <td>శ్రీలలరంగఁ జంద్రకళ చెల్వున లేనునునవ్వువెన్నెలల...</td>\n",
       "      <td>vruttamu</td>\n",
       "      <td>sundariimani</td>\n",
       "      <td>[('శ్రీ', 'U'), ('ల', '|'), ('ల', '|'), ('రం',...</td>\n",
       "    </tr>\n",
       "  </tbody>\n",
       "</table>\n",
       "</div>"
      ],
      "text/plain": [
       "           type                                             padyam     class  \\\n",
       "0  vutpalamaala  శ్రీలలరంగఁ జంద్రకళ చెల్వున లేనునునవ్వువెన్నెలల...  vruttamu   \n",
       "\n",
       "        satakam                                                 lg  \n",
       "0  sundariimani  [('శ్రీ', 'U'), ('ల', '|'), ('ల', '|'), ('రం',...  "
      ]
     },
     "metadata": {},
     "output_type": "display_data"
    },
    {
     "name": "stdout",
     "output_type": "stream",
     "text": [
      "\n",
      "\n",
      "\n",
      "Satakam Name :  taadimallaraajagopaala\n",
      "(130, 4)\n"
     ]
    },
    {
     "data": {
      "text/html": [
       "<div>\n",
       "<style scoped>\n",
       "    .dataframe tbody tr th:only-of-type {\n",
       "        vertical-align: middle;\n",
       "    }\n",
       "\n",
       "    .dataframe tbody tr th {\n",
       "        vertical-align: top;\n",
       "    }\n",
       "\n",
       "    .dataframe thead th {\n",
       "        text-align: right;\n",
       "    }\n",
       "</style>\n",
       "<table border=\"1\" class=\"dataframe\">\n",
       "  <thead>\n",
       "    <tr style=\"text-align: right;\">\n",
       "      <th></th>\n",
       "      <th>type</th>\n",
       "      <th>padyam</th>\n",
       "      <th>class</th>\n",
       "      <th>satakam</th>\n",
       "      <th>lg</th>\n",
       "    </tr>\n",
       "  </thead>\n",
       "  <tbody>\n",
       "    <tr>\n",
       "      <th>0</th>\n",
       "      <td>seesamu</td>\n",
       "      <td>శ్రీకృష్ణు నెవ్వరు సేవించుచుందురో వైకుంఠపురమున...</td>\n",
       "      <td>vupajaathi</td>\n",
       "      <td>taadimallaraajagopaala</td>\n",
       "      <td>[('శ్రీ', 'U'), ('కృ', 'U'), ('ష్ణు', '|'), ('...</td>\n",
       "    </tr>\n",
       "  </tbody>\n",
       "</table>\n",
       "</div>"
      ],
      "text/plain": [
       "      type                                             padyam       class  \\\n",
       "0  seesamu  శ్రీకృష్ణు నెవ్వరు సేవించుచుందురో వైకుంఠపురమున...  vupajaathi   \n",
       "\n",
       "                  satakam                                                 lg  \n",
       "0  taadimallaraajagopaala  [('శ్రీ', 'U'), ('కృ', 'U'), ('ష్ణు', '|'), ('...  "
      ]
     },
     "metadata": {},
     "output_type": "display_data"
    },
    {
     "name": "stdout",
     "output_type": "stream",
     "text": [
      "\n",
      "\n",
      "\n",
      "Satakam Name :  vemana\n",
      "(1163, 4)\n"
     ]
    },
    {
     "data": {
      "text/html": [
       "<div>\n",
       "<style scoped>\n",
       "    .dataframe tbody tr th:only-of-type {\n",
       "        vertical-align: middle;\n",
       "    }\n",
       "\n",
       "    .dataframe tbody tr th {\n",
       "        vertical-align: top;\n",
       "    }\n",
       "\n",
       "    .dataframe thead th {\n",
       "        text-align: right;\n",
       "    }\n",
       "</style>\n",
       "<table border=\"1\" class=\"dataframe\">\n",
       "  <thead>\n",
       "    <tr style=\"text-align: right;\">\n",
       "      <th></th>\n",
       "      <th>type</th>\n",
       "      <th>padyam</th>\n",
       "      <th>class</th>\n",
       "      <th>satakam</th>\n",
       "      <th>lg</th>\n",
       "    </tr>\n",
       "  </thead>\n",
       "  <tbody>\n",
       "    <tr>\n",
       "      <th>0</th>\n",
       "      <td>aataveladi</td>\n",
       "      <td>\\nవేమననగ యోగి వెలసె లోకములోనఁ\\n\\nబూజలిడుఁడు, ప...</td>\n",
       "      <td>vupajaathi</td>\n",
       "      <td>vemana</td>\n",
       "      <td>[('వే', 'U'), ('మ', '|'), ('న', '|'), ('న', '|...</td>\n",
       "    </tr>\n",
       "  </tbody>\n",
       "</table>\n",
       "</div>"
      ],
      "text/plain": [
       "         type                                             padyam       class  \\\n",
       "0  aataveladi  \\nవేమననగ యోగి వెలసె లోకములోనఁ\\n\\nబూజలిడుఁడు, ప...  vupajaathi   \n",
       "\n",
       "  satakam                                                 lg  \n",
       "0  vemana  [('వే', 'U'), ('మ', '|'), ('న', '|'), ('న', '|...  "
      ]
     },
     "metadata": {},
     "output_type": "display_data"
    },
    {
     "name": "stdout",
     "output_type": "stream",
     "text": [
      "\n",
      "\n",
      "\n",
      "Satakam Name :  venkateswara\n",
      "(100, 4)\n"
     ]
    },
    {
     "data": {
      "text/html": [
       "<div>\n",
       "<style scoped>\n",
       "    .dataframe tbody tr th:only-of-type {\n",
       "        vertical-align: middle;\n",
       "    }\n",
       "\n",
       "    .dataframe tbody tr th {\n",
       "        vertical-align: top;\n",
       "    }\n",
       "\n",
       "    .dataframe thead th {\n",
       "        text-align: right;\n",
       "    }\n",
       "</style>\n",
       "<table border=\"1\" class=\"dataframe\">\n",
       "  <thead>\n",
       "    <tr style=\"text-align: right;\">\n",
       "      <th></th>\n",
       "      <th>type</th>\n",
       "      <th>padyam</th>\n",
       "      <th>class</th>\n",
       "      <th>satakam</th>\n",
       "      <th>lg</th>\n",
       "    </tr>\n",
       "  </thead>\n",
       "  <tbody>\n",
       "    <tr>\n",
       "      <th>0</th>\n",
       "      <td>vutpalamaala</td>\n",
       "      <td>శ్రీసతి నీల జాంబవతి శ్రీయమునాసతి సత్యభామ ధా\\nత...</td>\n",
       "      <td>vruttamu</td>\n",
       "      <td>venkateswara</td>\n",
       "      <td>[('శ్రీ', 'U'), ('స', '|'), ('తి', '|'), ('నీ'...</td>\n",
       "    </tr>\n",
       "  </tbody>\n",
       "</table>\n",
       "</div>"
      ],
      "text/plain": [
       "           type                                             padyam     class  \\\n",
       "0  vutpalamaala  శ్రీసతి నీల జాంబవతి శ్రీయమునాసతి సత్యభామ ధా\\nత...  vruttamu   \n",
       "\n",
       "        satakam                                                 lg  \n",
       "0  venkateswara  [('శ్రీ', 'U'), ('స', '|'), ('తి', '|'), ('నీ'...  "
      ]
     },
     "metadata": {},
     "output_type": "display_data"
    },
    {
     "name": "stdout",
     "output_type": "stream",
     "text": [
      "\n",
      "\n",
      "\n",
      "Satakam Name :  venugopaala\n",
      "(210, 4)\n"
     ]
    },
    {
     "data": {
      "text/html": [
       "<div>\n",
       "<style scoped>\n",
       "    .dataframe tbody tr th:only-of-type {\n",
       "        vertical-align: middle;\n",
       "    }\n",
       "\n",
       "    .dataframe tbody tr th {\n",
       "        vertical-align: top;\n",
       "    }\n",
       "\n",
       "    .dataframe thead th {\n",
       "        text-align: right;\n",
       "    }\n",
       "</style>\n",
       "<table border=\"1\" class=\"dataframe\">\n",
       "  <thead>\n",
       "    <tr style=\"text-align: right;\">\n",
       "      <th></th>\n",
       "      <th>type</th>\n",
       "      <th>padyam</th>\n",
       "      <th>class</th>\n",
       "      <th>satakam</th>\n",
       "      <th>lg</th>\n",
       "    </tr>\n",
       "  </thead>\n",
       "  <tbody>\n",
       "    <tr>\n",
       "      <th>0</th>\n",
       "      <td>seesamu</td>\n",
       "      <td>కౌస్తుభవక్ష శ్రీకరపాదరాజీవ । దీనశరణ్య మహానుభావ...</td>\n",
       "      <td>vupajaathi</td>\n",
       "      <td>venugopaala</td>\n",
       "      <td>[('కౌ', 'U'), ('స్తు', '|'), ('భ', '|'), ('వ',...</td>\n",
       "    </tr>\n",
       "  </tbody>\n",
       "</table>\n",
       "</div>"
      ],
      "text/plain": [
       "      type                                             padyam       class  \\\n",
       "0  seesamu  కౌస్తుభవక్ష శ్రీకరపాదరాజీవ । దీనశరణ్య మహానుభావ...  vupajaathi   \n",
       "\n",
       "       satakam                                                 lg  \n",
       "0  venugopaala  [('కౌ', 'U'), ('స్తు', '|'), ('భ', '|'), ('వ',...  "
      ]
     },
     "metadata": {},
     "output_type": "display_data"
    },
    {
     "name": "stdout",
     "output_type": "stream",
     "text": [
      "\n",
      "\n",
      "\n",
      "Satakam Name :  vrushaadhipa\n",
      "(109, 4)\n"
     ]
    },
    {
     "data": {
      "text/html": [
       "<div>\n",
       "<style scoped>\n",
       "    .dataframe tbody tr th:only-of-type {\n",
       "        vertical-align: middle;\n",
       "    }\n",
       "\n",
       "    .dataframe tbody tr th {\n",
       "        vertical-align: top;\n",
       "    }\n",
       "\n",
       "    .dataframe thead th {\n",
       "        text-align: right;\n",
       "    }\n",
       "</style>\n",
       "<table border=\"1\" class=\"dataframe\">\n",
       "  <thead>\n",
       "    <tr style=\"text-align: right;\">\n",
       "      <th></th>\n",
       "      <th>type</th>\n",
       "      <th>padyam</th>\n",
       "      <th>class</th>\n",
       "      <th>satakam</th>\n",
       "      <th>lg</th>\n",
       "    </tr>\n",
       "  </thead>\n",
       "  <tbody>\n",
       "    <tr>\n",
       "      <th>0</th>\n",
       "      <td>vutpalamaala</td>\n",
       "      <td>శ్రీగురులింగమూర్తి! సువిశేష మహోజ్జ్వలకీర్తి! స...</td>\n",
       "      <td>vruttamu</td>\n",
       "      <td>vrushadhipa</td>\n",
       "      <td>[('శ్రీ', 'U'), ('గు', '|'), ('రు', '|'), ('లి...</td>\n",
       "    </tr>\n",
       "  </tbody>\n",
       "</table>\n",
       "</div>"
      ],
      "text/plain": [
       "           type                                             padyam     class  \\\n",
       "0  vutpalamaala  శ్రీగురులింగమూర్తి! సువిశేష మహోజ్జ్వలకీర్తి! స...  vruttamu   \n",
       "\n",
       "       satakam                                                 lg  \n",
       "0  vrushadhipa  [('శ్రీ', 'U'), ('గు', '|'), ('రు', '|'), ('లి...  "
      ]
     },
     "metadata": {},
     "output_type": "display_data"
    },
    {
     "name": "stdout",
     "output_type": "stream",
     "text": [
      "\n",
      "\n",
      "\n"
     ]
    }
   ],
   "source": [
    "for satakam_file in os.listdir( source_path ):\n",
    "\n",
    "    satakam_name= satakam_file.split(\".\")[0]\n",
    "\n",
    "    print(\"Satakam Name : \", satakam_name)\n",
    "\n",
    "    df= pd.read_excel( os.path.join(source_path, satakam_name+\".xlsx\") )\n",
    "    print( df.shape )\n",
    "\n",
    "    l= []\n",
    "    for i in range( df.shape[0] ):\n",
    "\n",
    "        element= LaghuvuGuruvu( data= df.iloc[i][\"padyam\"] ).generate()\n",
    "\n",
    "        l.append( str(element) )\n",
    "\n",
    "    df[\"lg\"]= l\n",
    "    display( df.head(1))\n",
    "\n",
    "    df.to_excel( os.path.join( target_path, satakam_name+\".xlsx\"), index= None )\n",
    "\n",
    "    print(\"\\n\\n\")"
   ]
  },
  {
   "cell_type": "code",
   "execution_count": 12,
   "id": "adde0f10",
   "metadata": {},
   "outputs": [],
   "source": [
    "satakam_name= \"prarthana\""
   ]
  },
  {
   "cell_type": "code",
   "execution_count": 13,
   "id": "2b6ddde2",
   "metadata": {},
   "outputs": [
    {
     "data": {
      "text/html": [
       "<div>\n",
       "<style scoped>\n",
       "    .dataframe tbody tr th:only-of-type {\n",
       "        vertical-align: middle;\n",
       "    }\n",
       "\n",
       "    .dataframe tbody tr th {\n",
       "        vertical-align: top;\n",
       "    }\n",
       "\n",
       "    .dataframe thead th {\n",
       "        text-align: right;\n",
       "    }\n",
       "</style>\n",
       "<table border=\"1\" class=\"dataframe\">\n",
       "  <thead>\n",
       "    <tr style=\"text-align: right;\">\n",
       "      <th></th>\n",
       "      <th>type</th>\n",
       "      <th>padyam</th>\n",
       "      <th>class</th>\n",
       "      <th>satakam</th>\n",
       "    </tr>\n",
       "  </thead>\n",
       "  <tbody>\n",
       "    <tr>\n",
       "      <th>0</th>\n",
       "      <td>vutpalamaala</td>\n",
       "      <td>తొండము నేక దంతమును తోరపు బొజ్జయు వామ హస్తమున్\\...</td>\n",
       "      <td>vruttamu</td>\n",
       "      <td>bhaskara</td>\n",
       "    </tr>\n",
       "  </tbody>\n",
       "</table>\n",
       "</div>"
      ],
      "text/plain": [
       "           type                                             padyam     class  \\\n",
       "0  vutpalamaala  తొండము నేక దంతమును తోరపు బొజ్జయు వామ హస్తమున్\\...  vruttamu   \n",
       "\n",
       "    satakam  \n",
       "0  bhaskara  "
      ]
     },
     "execution_count": 13,
     "metadata": {},
     "output_type": "execute_result"
    }
   ],
   "source": [
    "df= pd.read_excel( os.path.join(source_path, satakam_name+\".xlsx\") )\n",
    "df"
   ]
  },
  {
   "cell_type": "code",
   "execution_count": 14,
   "id": "38fdf70f",
   "metadata": {},
   "outputs": [
    {
     "name": "stdout",
     "output_type": "stream",
     "text": [
      "_____________ 0\n"
     ]
    }
   ],
   "source": [
    "l= []\n",
    "for i in range( df.shape[0] ):\n",
    "\n",
    "    element= LaghuvuGuruvu( data= df.iloc[i][\"padyam\"] ).generate()\n",
    "\n",
    "    print(\"_____________\", i)\n",
    "\n",
    "    l.append( str(element) )"
   ]
  },
  {
   "cell_type": "code",
   "execution_count": 15,
   "id": "f05e6e9d",
   "metadata": {},
   "outputs": [],
   "source": [
    "df[\"lg\"]= l"
   ]
  },
  {
   "cell_type": "code",
   "execution_count": 16,
   "id": "10176dac",
   "metadata": {},
   "outputs": [
    {
     "data": {
      "text/html": [
       "<div>\n",
       "<style scoped>\n",
       "    .dataframe tbody tr th:only-of-type {\n",
       "        vertical-align: middle;\n",
       "    }\n",
       "\n",
       "    .dataframe tbody tr th {\n",
       "        vertical-align: top;\n",
       "    }\n",
       "\n",
       "    .dataframe thead th {\n",
       "        text-align: right;\n",
       "    }\n",
       "</style>\n",
       "<table border=\"1\" class=\"dataframe\">\n",
       "  <thead>\n",
       "    <tr style=\"text-align: right;\">\n",
       "      <th></th>\n",
       "      <th>type</th>\n",
       "      <th>padyam</th>\n",
       "      <th>class</th>\n",
       "      <th>satakam</th>\n",
       "      <th>lg</th>\n",
       "    </tr>\n",
       "  </thead>\n",
       "  <tbody>\n",
       "    <tr>\n",
       "      <th>0</th>\n",
       "      <td>vutpalamaala</td>\n",
       "      <td>తొండము నేక దంతమును తోరపు బొజ్జయు వామ హస్తమున్\\...</td>\n",
       "      <td>vruttamu</td>\n",
       "      <td>bhaskara</td>\n",
       "      <td>[('తొం', 'U'), ('డ', '|'), ('ము', '|'), ('నే',...</td>\n",
       "    </tr>\n",
       "  </tbody>\n",
       "</table>\n",
       "</div>"
      ],
      "text/plain": [
       "           type                                             padyam     class  \\\n",
       "0  vutpalamaala  తొండము నేక దంతమును తోరపు బొజ్జయు వామ హస్తమున్\\...  vruttamu   \n",
       "\n",
       "    satakam                                                 lg  \n",
       "0  bhaskara  [('తొం', 'U'), ('డ', '|'), ('ము', '|'), ('నే',...  "
      ]
     },
     "execution_count": 16,
     "metadata": {},
     "output_type": "execute_result"
    }
   ],
   "source": [
    "df"
   ]
  },
  {
   "cell_type": "code",
   "execution_count": 19,
   "id": "fe127e8b",
   "metadata": {},
   "outputs": [],
   "source": [
    "df.to_excel( os.path.join( target_path, satakam_name+\".xlsx\"), index= None )"
   ]
  },
  {
   "cell_type": "code",
   "execution_count": null,
   "id": "b5310e70",
   "metadata": {},
   "outputs": [],
   "source": []
  }
 ],
 "metadata": {
  "kernelspec": {
   "display_name": "base",
   "language": "python",
   "name": "python3"
  },
  "language_info": {
   "codemirror_mode": {
    "name": "ipython",
    "version": 3
   },
   "file_extension": ".py",
   "mimetype": "text/x-python",
   "name": "python",
   "nbconvert_exporter": "python",
   "pygments_lexer": "ipython3",
   "version": "3.11.3"
  }
 },
 "nbformat": 4,
 "nbformat_minor": 5
}
