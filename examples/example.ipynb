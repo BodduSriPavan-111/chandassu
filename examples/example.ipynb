{
 "cells": [
  {
   "cell_type": "code",
   "execution_count": 1,
   "id": "133d5ac1",
   "metadata": {},
   "outputs": [],
   "source": [
    "import sys\n",
    "import os\n",
    "\n",
    "sys.path.append(os.path.abspath(os.path.join(os.getcwd(), '..')))\n",
    "\n",
    "from chandassu.varnamala import Varnamala\n",
    "from chandassu.dictionary import lg_map, varnamala, gunintha_chihnam\n",
    "from chandassu.laghuvu_guruvu import LaghuvuGuruvu"
   ]
  },
  {
   "cell_type": "code",
   "execution_count": 1,
   "id": "6177c284",
   "metadata": {},
   "outputs": [
    {
     "name": "stdout",
     "output_type": "stream",
     "text": [
      "['కో', 'తి']\n",
      "కోU and తి|\n"
     ]
    }
   ],
   "source": [
    "import regex as re\n",
    "gunintha_chihnam= {\"\":\"|\",\"ా\":\"U\",\"ి\":\"|\",\"ీ\":\"U\",\"ు\":\"|\",\"ూ\":\"U\",\"ృ\":\"|\",\"ౄ\":\"U\",\"ె\":\"|\",\"ే\":\"U\",\"ై\":\"U\",\"ొ\":\"|\",\"ో\":\"U\",\"ౌ\":\"U\",\"ಂ\":\"U\",\"ಃ\":\"U\"}\n",
    "word=\"కోతి\" \n",
    "def laghuvu_guruvu(letter):\n",
    "    a=len(letter)\n",
    "    if(a>1):\n",
    "        return gunintha_chihnam.get(letter[-1],\"|\")\n",
    "    return letters.get(letter,\"|\")  \n",
    "def appending(word):\n",
    "    exp=re.findall(r\"\\X\",word)\n",
    "    print(exp)\n",
    "    res=[]\n",
    "    for i in range(len(exp)-1):\n",
    "        ith=exp[i]\n",
    "        jth=exp[i+1]\n",
    "        ith_word=laghuvu_guruvu(ith)\n",
    "        jth_word=laghuvu_guruvu(jth)\n",
    "        print(f\"{ith :}{ith_word} and {jth :}{jth_word}\")\n",
    "appending(word)"
   ]
  },
  {
   "cell_type": "code",
   "execution_count": 11,
   "id": "b9399a00",
   "metadata": {},
   "outputs": [
    {
     "data": {
      "text/plain": [
       "'స్వాతంత్రం'"
      ]
     },
     "execution_count": 11,
     "metadata": {},
     "output_type": "execute_result"
    }
   ],
   "source": [
    "word=\"స్వాతంత్రం\" \n",
    "word"
   ]
  },
  {
   "cell_type": "code",
   "execution_count": 51,
   "id": "c72dbb4e",
   "metadata": {},
   "outputs": [
    {
     "data": {
      "text/plain": [
       "['స్', 'వా', 'తం', 'త్', 'రం', ',', ' ', 'వ', 'స్', ' ']"
      ]
     },
     "execution_count": 51,
     "metadata": {},
     "output_type": "execute_result"
    }
   ],
   "source": [
    "import regex as re\n",
    "\n",
    "word=\"స్వాతంత్రం, వస్ \" \n",
    "l= re.findall(r\"\\X\",word)\n",
    "l"
   ]
  },
  {
   "cell_type": "code",
   "execution_count": 58,
   "id": "05c045e1",
   "metadata": {},
   "outputs": [
    {
     "name": "stdout",
     "output_type": "stream",
     "text": [
      "_________\n"
     ]
    }
   ],
   "source": [
    "index= 0\n",
    "\n",
    "word= []\n",
    "lg= []\n",
    "\n",
    "temp= \"\"\n",
    "\n",
    "while index< len(l):\n",
    "\n",
    "    if l[index].isspace() or l[index] in list(\"\"\"` ~ ! @ # $ % ^ & * ( ) _ - + = { } [ ] \\ | ; : ' \" , < > . / ?\"\"\"):\n",
    "        word.append( l[index] )\n",
    "        index+= 1\n",
    "        continue\n",
    "\n",
    "    if l[index].endswith('్') and temp == \"\" and not l[index+1].isspace():\n",
    "\n",
    "        temp+= l[index]\n",
    "        index+= 1\n",
    "        past= False\n",
    "\n",
    "    elif (not l[index].endswith('్')) and temp != \"\":\n",
    "\n",
    "        aksharam= temp+l[index]\n",
    "        word.append( aksharam )\n",
    "        lg.append( lg_map[l[index]] )\n",
    "        index+= 1\n",
    "        temp= \"\"\n",
    "    \n",
    "    elif (not l[index].endswith('్')) and temp == \"\":\n",
    "\n",
    "        word.append( l[index] )\n",
    "        lg.append( lg_map[l[index]] )\n",
    "        index+= 1\n",
    "    \n",
    "    elif l[index].endswith('్') and (index+1 == len(l) or l[index+1].isspace() ):\n",
    "\n",
    "        print(\"_________\")\n",
    "        word[-1]+= l[index]\n",
    "        lg[-1]= \"U\"\n",
    "        index+= 1"
   ]
  },
  {
   "cell_type": "code",
   "execution_count": 59,
   "id": "4355029c",
   "metadata": {},
   "outputs": [
    {
     "data": {
      "text/plain": [
       "(['స్వా', 'తం', 'త్రం', ',', ' ', 'వస్', ' '], ['U', 'U', 'U', 'U'])"
      ]
     },
     "execution_count": 59,
     "metadata": {},
     "output_type": "execute_result"
    }
   ],
   "source": [
    "word, lg"
   ]
  },
  {
   "cell_type": "code",
   "execution_count": 15,
   "id": "d8943994",
   "metadata": {},
   "outputs": [
    {
     "data": {
      "text/plain": [
       "True"
      ]
     },
     "execution_count": 15,
     "metadata": {},
     "output_type": "execute_result"
    }
   ],
   "source": [
    "\" \".isspace()"
   ]
  },
  {
   "cell_type": "code",
   "execution_count": 15,
   "id": "f604ec11",
   "metadata": {},
   "outputs": [],
   "source": [
    "index= 0\n",
    "\n",
    "word= []\n",
    "\n",
    "temp= \"\"\n",
    "\n",
    "for index in range(len(l)):\n",
    "\n",
    "    if l[index].endswith('్') and temp == \"\":\n",
    "        temp+= l[index]\n",
    "\n",
    "    elif (not l[index].endswith('్')) and temp != \"\":\n",
    "\n",
    "        word.append( temp+l[index] )\n",
    "        temp= \"\"\n",
    "    \n",
    "    elif (not l[index].endswith('్')) and temp == \"\":\n",
    "        word.append( l[index] )\n",
    "        temp= \"\"\n",
    "    \n",
    "    else:\n",
    "        print(\"Unknown Case !\")"
   ]
  },
  {
   "cell_type": "code",
   "execution_count": 16,
   "id": "29e7ae9d",
   "metadata": {},
   "outputs": [
    {
     "data": {
      "text/plain": [
       "['స్వా', 'తం', 'త్రం']"
      ]
     },
     "execution_count": 16,
     "metadata": {},
     "output_type": "execute_result"
    }
   ],
   "source": [
    "word"
   ]
  },
  {
   "cell_type": "code",
   "execution_count": 1,
   "id": "3db5b668",
   "metadata": {},
   "outputs": [],
   "source": [
    "import sys\n",
    "import os\n",
    "\n",
    "sys.path.append(os.path.abspath(os.path.join(os.getcwd(), '..')))\n",
    "\n",
    "from chandassu.varnamala import Varnamala\n",
    "from chandassu.dictionary import lg_map, varnamala, gunintha_chihnam\n",
    "from chandassu.laghuvu_guruvu import LaghuvuGuruvu\n",
    "from chandassu.lakshanam import n_paadam, n_aksharam"
   ]
  },
  {
   "cell_type": "code",
   "execution_count": 10,
   "id": "a21dfd1a",
   "metadata": {},
   "outputs": [],
   "source": [
    "p= '''ఉప్పుకప్పురంబు ఒక్కపోలికనుండు,\n",
    "                    చూడచూడ రుచుల జాడవేరు,\n",
    "                    పురుషులందు పుణ్యపురుషులు వేరయా\n",
    "                    విశ్వదాభిరామ వినుర వేమ!'''"
   ]
  },
  {
   "cell_type": "code",
   "execution_count": 11,
   "id": "6d6290c1",
   "metadata": {},
   "outputs": [
    {
     "data": {
      "text/plain": [
       "4"
      ]
     },
     "execution_count": 11,
     "metadata": {},
     "output_type": "execute_result"
    }
   ],
   "source": [
    "len(p.split(\"\\n\"))"
   ]
  },
  {
   "cell_type": "code",
   "execution_count": 12,
   "id": "e928b598",
   "metadata": {},
   "outputs": [
    {
     "name": "stdout",
     "output_type": "stream",
     "text": [
      "ఉప్పుకప్పురంబు ఒక్కపోలికనుండు,________['ఉ', 'ప్పు', 'క', 'ప్పు', 'రం', 'బు', 'ఒ', 'క్క', 'పో', 'లి', 'క', 'నుం', 'డు']\n",
      "చూడచూడ రుచుల జాడవేరు,________['చూ', 'డ', 'చూ', 'డ', 'రు', 'చు', 'ల', 'జా', 'డ', 'వే', 'రు']\n",
      "పురుషులందు పుణ్యపురుషులు వేరయా________['పు', 'రు', 'షు', 'లం', 'దు', 'పు', 'ణ్య', 'పు', 'రు', 'షు', 'లు', 'వే', 'ర', 'యా']\n",
      "విశ్వదాభిరామ వినుర వేమ!________['వి', 'శ్వ', 'దా', 'భి', 'రా', 'మ', 'వి', 'ను', 'ర', 'వే', 'మ']\n"
     ]
    }
   ],
   "source": [
    "n_letters= []\n",
    "\n",
    "for i in p.split(\"\\n\"):\n",
    "\n",
    "    lg= LaghuvuGuruvu( data= i.strip() )\n",
    "    print( i.strip(), lg.split_by_letter(), sep= \"________\" )\n",
    "    n_letters.append( len(lg.split_by_letter()) )"
   ]
  },
  {
   "cell_type": "code",
   "execution_count": 7,
   "id": "0eae7e75",
   "metadata": {},
   "outputs": [],
   "source": [
    "lg= LaghuvuGuruvu( data= \"స్వాతంత్ర, వస్ తంత్రదీన్నిప్రయత్నించ ,డాన\" ) #data= \"దీన్నిప్రయత్నించ ,డానమీభాషనుమరియు\" )"
   ]
  },
  {
   "cell_type": "code",
   "execution_count": 4,
   "id": "12173e99",
   "metadata": {},
   "outputs": [
    {
     "name": "stdout",
     "output_type": "stream",
     "text": [
      "['స్వా', 'తం', 'త్ర', 'వస్', 'తం', 'త్ర', 'దీ', 'న్ని', 'ప్ర', 'య', 'త్నిం', 'చ', 'డా', 'న']\n"
     ]
    },
    {
     "data": {
      "text/plain": [
       "[('స్వా', 'U'),\n",
       " ('తం', 'U'),\n",
       " ('త్ర', '|'),\n",
       " ('వస్', 'U'),\n",
       " ('తం', 'U'),\n",
       " ('త్ర', '|'),\n",
       " ('దీ', 'U'),\n",
       " ('న్ని', 'U'),\n",
       " ('ప్ర', '|'),\n",
       " ('య', 'U'),\n",
       " ('త్నిం', 'U'),\n",
       " ('చ', '|'),\n",
       " ('డా', 'U'),\n",
       " ('న', '|')]"
      ]
     },
     "execution_count": 4,
     "metadata": {},
     "output_type": "execute_result"
    }
   ],
   "source": [
    "lg.generate()"
   ]
  },
  {
   "cell_type": "code",
   "execution_count": 5,
   "id": "565a28ec",
   "metadata": {},
   "outputs": [
    {
     "data": {
      "text/plain": [
       "['తొండము నేక దంతమును తోరపు బొజ్జయు వామ హస్తమున్',\n",
       " 'మెండుగ మ్రోయు గజ్జెలును మెల్లని చూపులు మందహాసమున్',\n",
       " 'కొండొక గుజ్జు రూపమున కోరిన విద్యలకెల్ల నొజ్జవై',\n",
       " 'యుండెడి పార్వతీ తనయ యోయి గణాధిప నీకు మ్రొక్కెదన్']"
      ]
     },
     "execution_count": 5,
     "metadata": {},
     "output_type": "execute_result"
    }
   ],
   "source": [
    "padyam= \"\"\"తొండము నేక దంతమును తోరపు బొజ్జయు వామ హస్తమున్\n",
    "మెండుగ మ్రోయు గజ్జెలును మెల్లని చూపులు మందహాసమున్\n",
    "కొండొక గుజ్జు రూపమున కోరిన విద్యలకెల్ల నొజ్జవై\n",
    "యుండెడి పార్వతీ తనయ యోయి గణాధిప నీకు మ్రొక్కెదన్\"\"\"\n",
    "split_padyam= padyam.split(\"\\n\")\n",
    "split_padyam"
   ]
  },
  {
   "cell_type": "code",
   "execution_count": 7,
   "id": "40685f42",
   "metadata": {},
   "outputs": [
    {
     "name": "stdout",
     "output_type": "stream",
     "text": [
      "['యుం', 'డె', 'డి', 'పా', 'ర్వ', 'తీ', 'త', 'న', 'య', 'యో', 'యి', 'గ', 'ణా', 'ధి', 'ప', 'నీ', 'కు', 'మ్రొ', 'క్కె', 'దన్']\n"
     ]
    },
    {
     "data": {
      "text/plain": [
       "[('యుం', 'U'),\n",
       " ('డె', '|'),\n",
       " ('డి', '|'),\n",
       " ('పా', 'U'),\n",
       " ('ర్వ', '|'),\n",
       " ('తీ', 'U'),\n",
       " ('త', '|'),\n",
       " ('న', '|'),\n",
       " ('య', '|'),\n",
       " ('యో', 'U'),\n",
       " ('యి', '|'),\n",
       " ('గ', '|'),\n",
       " ('ణా', 'U'),\n",
       " ('ధి', '|'),\n",
       " ('ప', '|'),\n",
       " ('నీ', 'U'),\n",
       " ('కు', 'U'),\n",
       " ('మ్రొ', 'U'),\n",
       " ('క్కె', '|'),\n",
       " ('దన్', 'U')]"
      ]
     },
     "execution_count": 7,
     "metadata": {},
     "output_type": "execute_result"
    }
   ],
   "source": [
    "lg= LaghuvuGuruvu( data= split_padyam[3] )\n",
    "lg.generate()"
   ]
  },
  {
   "cell_type": "code",
   "execution_count": 23,
   "id": "109d03db",
   "metadata": {},
   "outputs": [
    {
     "data": {
      "text/plain": [
       "3093"
      ]
     },
     "execution_count": 23,
     "metadata": {},
     "output_type": "execute_result"
    }
   ],
   "source": [
    "ord('క')"
   ]
  },
  {
   "cell_type": "code",
   "execution_count": null,
   "id": "01ed36da",
   "metadata": {},
   "outputs": [],
   "source": []
  }
 ],
 "metadata": {
  "kernelspec": {
   "display_name": "base",
   "language": "python",
   "name": "python3"
  },
  "language_info": {
   "codemirror_mode": {
    "name": "ipython",
    "version": 3
   },
   "file_extension": ".py",
   "mimetype": "text/x-python",
   "name": "python",
   "nbconvert_exporter": "python",
   "pygments_lexer": "ipython3",
   "version": "3.11.3"
  }
 },
 "nbformat": 4,
 "nbformat_minor": 5
}
