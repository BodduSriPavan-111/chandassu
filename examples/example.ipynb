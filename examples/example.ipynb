{
 "cells": [
  {
   "cell_type": "code",
   "execution_count": 1,
   "id": "133d5ac1",
   "metadata": {},
   "outputs": [],
   "source": [
    "import sys\n",
    "import os\n",
    "\n",
    "sys.path.append(os.path.abspath(os.path.join(os.getcwd(), '..')))\n",
    "\n",
    "# from chandassu.varnamala import Varnamala\n",
    "from chandassu.laghuvu_guruvu import LaghuvuGuruvu\n",
    "from chandassu.check_lakshanam import n_paadam, n_aksharam, check_yati, check_prasa, check_vruttam_gana_kramam\n",
    "# from chandassu.padyam_config import Vruttamu\n",
    "# from chandassu.panimuttu import extract_aksharam\n",
    "# from chandassu.nidhi import yati, achhulu\n",
    "from chandassu.padya_bhedam import check_vruttam"
   ]
  },
  {
   "cell_type": "code",
   "execution_count": 2,
   "id": "bf5f4575",
   "metadata": {},
   "outputs": [],
   "source": [
    "data= \"\"\"తొండము నేక దంతమును తోరపు బొజ్జయు వామ హస్తమున్\n",
    "మెండుగ మ్రోయు గజ్జెలును మెల్లని చూపులు మందహాసమున్\n",
    "కొండొక గుజ్జు రూపమున కోరిన విద్యలకెల్ల నొజ్జవై\n",
    "యుండెడి పార్వతీ తనయ యోయి గణాధిప నీకు మ్రొక్కెదన్\"\"\""
   ]
  },
  {
   "cell_type": "code",
   "execution_count": 3,
   "id": "c364e304",
   "metadata": {},
   "outputs": [
    {
     "data": {
      "text/plain": [
       "80"
      ]
     },
     "execution_count": 3,
     "metadata": {},
     "output_type": "execute_result"
    }
   ],
   "source": [
    "len(LaghuvuGuruvu( data= data ).tokenize())"
   ]
  },
  {
   "cell_type": "code",
   "execution_count": 4,
   "id": "26160606",
   "metadata": {},
   "outputs": [
    {
     "name": "stdout",
     "output_type": "stream",
     "text": [
      "No.of aksharams (letters):  80\n"
     ]
    },
    {
     "data": {
      "text/plain": [
       "80"
      ]
     },
     "execution_count": 4,
     "metadata": {},
     "output_type": "execute_result"
    }
   ],
   "source": [
    "n_aksharam( data= data )"
   ]
  },
  {
   "cell_type": "code",
   "execution_count": 8,
   "id": "612b1ba7",
   "metadata": {},
   "outputs": [
    {
     "name": "stdout",
     "output_type": "stream",
     "text": [
      "No.of paadams (lines) found:  4.0\n"
     ]
    },
    {
     "data": {
      "text/plain": [
       "4.0"
      ]
     },
     "execution_count": 8,
     "metadata": {},
     "output_type": "execute_result"
    }
   ],
   "source": [
    "n_paadam( data= data, aksharam_per_paadam= 20 )"
   ]
  },
  {
   "cell_type": "code",
   "execution_count": 5,
   "id": "6fb20a33",
   "metadata": {},
   "outputs": [
    {
     "data": {
      "text/plain": [
       "80"
      ]
     },
     "execution_count": 5,
     "metadata": {},
     "output_type": "execute_result"
    }
   ],
   "source": [
    "import math\n",
    "n= len(LaghuvuGuruvu( data= data ).tokenize())\n",
    "n"
   ]
  },
  {
   "cell_type": "code",
   "execution_count": null,
   "id": "a4289871",
   "metadata": {},
   "outputs": [
    {
     "data": {
      "text/plain": [
       "0.0"
      ]
     },
     "execution_count": 20,
     "metadata": {},
     "output_type": "execute_result"
    }
   ],
   "source": [
    "(n/20)-int(n/20) == 0"
   ]
  },
  {
   "cell_type": "code",
   "execution_count": null,
   "id": "73322982",
   "metadata": {},
   "outputs": [],
   "source": []
  }
 ],
 "metadata": {
  "kernelspec": {
   "display_name": "base",
   "language": "python",
   "name": "python3"
  },
  "language_info": {
   "codemirror_mode": {
    "name": "ipython",
    "version": 3
   },
   "file_extension": ".py",
   "mimetype": "text/x-python",
   "name": "python",
   "nbconvert_exporter": "python",
   "pygments_lexer": "ipython3",
   "version": "3.11.3"
  }
 },
 "nbformat": 4,
 "nbformat_minor": 5
}
