{
 "cells": [
  {
   "cell_type": "code",
   "execution_count": 4,
   "id": "133d5ac1",
   "metadata": {},
   "outputs": [],
   "source": [
    "import sys\n",
    "import os\n",
    "\n",
    "sys.path.append(os.path.abspath(os.path.join(os.getcwd(), '..')))\n",
    "\n",
    "# from chandassu.varnamala import Varnamala\n",
    "from chandassu.laghuvu_guruvu import LaghuvuGuruvu\n",
    "from chandassu.check_lakshanam import n_paadam, n_aksharam, check_yati, check_prasa, check_vruttam_gana_kramam\n",
    "from chandassu.padyam_config import Vruttamu\n",
    "from chandassu.panimuttu import extract_aksharam\n",
    "from chandassu.nidhi import yati, achhulu\n",
    "from chandassu.padya_bhedam import check_vruttam"
   ]
  },
  {
   "cell_type": "code",
   "execution_count": 5,
   "id": "a12f260c",
   "metadata": {},
   "outputs": [
    {
     "name": "stdout",
     "output_type": "stream",
     "text": [
      "['గ', 'జ్జె', 'లు', 'ను']\n"
     ]
    },
    {
     "data": {
      "text/plain": [
       "[('గ', 'U'), ('జ్జె', '|'), ('లు', '|'), ('ను', '|')]"
      ]
     },
     "execution_count": 5,
     "metadata": {},
     "output_type": "execute_result"
    }
   ],
   "source": [
    "lg= LaghuvuGuruvu( data= \"గజ్జెలును\" )\n",
    "lg.generate()"
   ]
  },
  {
   "cell_type": "code",
   "execution_count": 6,
   "id": "7f1086d3",
   "metadata": {},
   "outputs": [
    {
     "name": "stdout",
     "output_type": "stream",
     "text": [
      "['ధృ', 'త', 'రా', 'ష్ట్రు', 'డు']\n"
     ]
    },
    {
     "data": {
      "text/plain": [
       "[('ధృ', '|'), ('త', '|'), ('రా', 'U'), ('ష్ట్రు', '|'), ('డు', '|')]"
      ]
     },
     "execution_count": 6,
     "metadata": {},
     "output_type": "execute_result"
    }
   ],
   "source": [
    "lg= LaghuvuGuruvu( data= \"ధృతరాష్ట్రుడు\" )\n",
    "lg.generate()"
   ]
  }
 ],
 "metadata": {
  "kernelspec": {
   "display_name": "base",
   "language": "python",
   "name": "python3"
  },
  "language_info": {
   "codemirror_mode": {
    "name": "ipython",
    "version": 3
   },
   "file_extension": ".py",
   "mimetype": "text/x-python",
   "name": "python",
   "nbconvert_exporter": "python",
   "pygments_lexer": "ipython3",
   "version": "3.11.3"
  }
 },
 "nbformat": 4,
 "nbformat_minor": 5
}
