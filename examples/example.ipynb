{
 "cells": [
  {
   "cell_type": "code",
   "execution_count": 2,
   "id": "133d5ac1",
   "metadata": {},
   "outputs": [],
   "source": [
    "import sys\n",
    "import os\n",
    "\n",
    "sys.path.append(os.path.abspath(os.path.join(os.getcwd(), '..')))\n",
    "\n",
    "from chandassu.varnamala import Varnamala"
   ]
  },
  {
   "cell_type": "code",
   "execution_count": 4,
   "id": "a9c9f5e0",
   "metadata": {},
   "outputs": [],
   "source": [
    "v= Varnamala()"
   ]
  },
  {
   "cell_type": "code",
   "execution_count": 6,
   "id": "8a611932",
   "metadata": {},
   "outputs": [
    {
     "data": {
      "text/plain": [
       "['౦', '౧', '౨', '౩', '౪', '౫', '౬', '౭', '౮', '౯']"
      ]
     },
     "execution_count": 6,
     "metadata": {},
     "output_type": "execute_result"
    }
   ],
   "source": [
    "v.sankhya"
   ]
  },
  {
   "cell_type": "code",
   "execution_count": 18,
   "id": "b16a770a",
   "metadata": {},
   "outputs": [
    {
     "name": "stdout",
     "output_type": "stream",
     "text": [
      "\"ఱ\",\"ల\",\"ళ\",\"ఴ\",\"వ\",\"శ\",\"ష\",\"స\",\"హ\",\"఺\",\"఻\",\"఼\",\"ఽ\",\"ా\",\"ి\",\"ీ\",\"ు\",\"ూ\",\"ృ\",\"ౄ\",\"౅\",\"ె\",\"ే\",\"ై\",\"౉\",\"ొ\",\"ో\",\"ౌ\",\"్\",\"౎\",\"౏\",\"౐\",\"౑\",\"౒\",\"౓\",\"౔\",\"ౕ\",\"ౖ\",\"౗\",\"ౘ\",\"ౙ\",\"ౚ\",\"౛\",\"౜\",\"ౝ\",\"౞\",\"౟\",\"ౠ\",\"ౡ\",\"ౢ\",\"ౣ\",\"౤\",\"౥\",\"౦\",\"౧\",\"౨\",\"౩\",\"౪\",\"౫\",\"౬\",\"౭\",\"౮\",\"౯\",\"౰\",\"౱\",\"౲\",\"౳\",\"౴\",\"౵\",\"౶\",\"౷\",\"౸\",\"౹\",\"౺\",\"౻\",\"౼\",\"౽\",\"౾\",\"౿\",\"ಀ\",\"ಁ\",\"ಂ\",\"ಃ\",\"಄\",\"ಅ\",\"ಆ\",\"ಇ\",\"ಈ\",\"ಉ\",\"ಊ\",\"ಋ\",\"ಌ\",\"಍\",\"ಎ\",\"ಏ\",\"ಐ\",\"಑\",\"ಒ\",\"ಓ\",\"ಔ\",\"ಕ\",\"ಖ\",\"ಗ\",\"ಘ\",\"ಙ\",\"ಚ\",\"ಛ\",\"ಜ\",\"ಝ\",\"ಞ\",\"ಟ\",\"ಠ\",\"ಡ\",\"ಢ\",\"ಣ\",\"ತ\",\"ಥ\",\"ದ\",\"ಧ\",\"ನ\",\"಩\",\"ಪ\",\"ಫ\",\"ಬ\",\"ಭ\",\"ಮ\",\"ಯ\",\"ರ\",\"ಱ\","
     ]
    }
   ],
   "source": [
    "for i in range( 3121, 3250):\n",
    "\n",
    "    print('\"'+chr( i )+'\"', end= \",\" )"
   ]
  },
  {
   "cell_type": "code",
   "execution_count": null,
   "id": "36dd40b8",
   "metadata": {},
   "outputs": [
    {
     "data": {
      "text/plain": [
       "'     ా'"
      ]
     },
     "execution_count": 13,
     "metadata": {},
     "output_type": "execute_result"
    }
   ],
   "source": [
    "\"    ా \""
   ]
  },
  {
   "cell_type": "code",
   "execution_count": 15,
   "id": "9244ba1b",
   "metadata": {},
   "outputs": [
    {
     "data": {
      "text/plain": [
       "2"
      ]
     },
     "execution_count": 15,
     "metadata": {},
     "output_type": "execute_result"
    }
   ],
   "source": [
    "len( \" ా\" )"
   ]
  },
  {
   "cell_type": "code",
   "execution_count": null,
   "id": "fea98c6d",
   "metadata": {},
   "outputs": [
    {
     "data": {
      "text/plain": [
       "'అ ಂ'"
      ]
     },
     "execution_count": 6,
     "metadata": {},
     "output_type": "execute_result"
    }
   ],
   "source": [
    "3134 ా\n",
    "3135 ి\n",
    "3136 ీ\n",
    "3137 ు\n",
    "3138 ూ\n",
    "3139 ృ\n",
    "3140 ౄ\n",
    "3141 ౅\n",
    "3142 ె\n",
    "3143 ే\n",
    "3144 ై\n",
    "3145 ౉\n",
    "3146 ొ\n",
    "3147 ో\n",
    "3148 ౌ\n",
    "3149 ్\n",
    "3150 ౎\n",
    "3151 ౏\n",
    "3152 ౐\n",
    "3153 ౑\n",
    "3154 ౒\n",
    "3155 ౓\n",
    "3156 ౔\n",
    "3157 ౕ\n",
    "3158 ౖ\n",
    "\n",
    "\n",
    "\n",
    "\n",
    "3195 ౻\n",
    "3196 ౼\n",
    "3197 ౽\n",
    "3198 ౾\n",
    "3199 ౿\n",
    "3200 ಀ\n",
    "3201 ಁ\n",
    "3202 ಂ\n",
    "3203 ಃ"
   ]
  },
  {
   "cell_type": "code",
   "execution_count": 18,
   "id": "0c7aa507",
   "metadata": {},
   "outputs": [
    {
     "name": "stdout",
     "output_type": "stream",
     "text": [
      "అ\n",
      "అ 3077\n",
      "ఆ\n",
      "ఆ 3078\n",
      "ఇ\n",
      "ఇ 3079\n",
      "ఈ\n",
      "ఈ 3080\n",
      "ఉ\n",
      "ఉ 3081\n",
      "ఊ\n",
      "ఊ 3082\n",
      "ఋ\n",
      "ఋ 3083\n",
      "ౠ\n",
      "ౠ 3168\n",
      "ఎ\n",
      "ఎ 3086\n",
      "ఏ\n",
      "ఏ 3087\n",
      "ఐ\n",
      "ఐ 3088\n",
      "ఒ\n",
      "ఒ 3090\n",
      "ఓ\n",
      "ఓ 3091\n",
      "ఔ\n",
      "ఔ 3092\n",
      "క\n",
      "క 3093\n",
      "ఖ\n",
      "ఖ 3094\n",
      "గ\n",
      "గ 3095\n",
      "ఘ\n",
      "ఘ 3096\n",
      "ఙచ\n"
     ]
    },
    {
     "ename": "TypeError",
     "evalue": "ord() expected a character, but string of length 2 found",
     "output_type": "error",
     "traceback": [
      "\u001b[1;31m---------------------------------------------------------------------------\u001b[0m",
      "\u001b[1;31mTypeError\u001b[0m                                 Traceback (most recent call last)",
      "Cell \u001b[1;32mIn[18], line 3\u001b[0m\n\u001b[0;32m      1\u001b[0m \u001b[38;5;28;01mfor\u001b[39;00m i \u001b[38;5;129;01min\u001b[39;00m gunintham\u001b[38;5;241m.\u001b[39mvarnamala:\n\u001b[0;32m      2\u001b[0m     \u001b[38;5;28mprint\u001b[39m(i)\n\u001b[1;32m----> 3\u001b[0m     \u001b[38;5;28mprint\u001b[39m( i, \u001b[38;5;28mord\u001b[39m(i) )\n",
      "\u001b[1;31mTypeError\u001b[0m: ord() expected a character, but string of length 2 found"
     ]
    }
   ],
   "source": [
    "for i in gunintham.varnamala:\n",
    "    print(i)\n",
    "    print( i, ord(i) )"
   ]
  },
  {
   "cell_type": "code",
   "execution_count": null,
   "id": "6b9c5592",
   "metadata": {},
   "outputs": [],
   "source": []
  }
 ],
 "metadata": {
  "kernelspec": {
   "display_name": "base",
   "language": "python",
   "name": "python3"
  },
  "language_info": {
   "codemirror_mode": {
    "name": "ipython",
    "version": 3
   },
   "file_extension": ".py",
   "mimetype": "text/x-python",
   "name": "python",
   "nbconvert_exporter": "python",
   "pygments_lexer": "ipython3",
   "version": "3.11.3"
  }
 },
 "nbformat": 4,
 "nbformat_minor": 5
}
