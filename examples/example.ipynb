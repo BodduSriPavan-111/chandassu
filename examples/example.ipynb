{
 "cells": [
  {
   "cell_type": "code",
   "execution_count": 1,
   "id": "133d5ac1",
   "metadata": {},
   "outputs": [],
   "source": [
    "import sys\n",
    "import os\n",
    "\n",
    "sys.path.append(os.path.abspath(os.path.join(os.getcwd(), '..')))\n",
    "\n",
    "from chandassu.varnamala import Varnamala\n",
    "from chandassu.dictionary import lg_map, varnamala, gunintha_chihnam\n",
    "from chandassu.laghuvu_guruvu import LaghuvuGuruvu"
   ]
  },
  {
   "cell_type": "code",
   "execution_count": 13,
   "id": "6b9c5592",
   "metadata": {},
   "outputs": [],
   "source": [
    "letters={'అ':\"|\",'ఆ':\"U\",'ఇ':\"|\",'ఈ':\"U\",'ఉ':\"|\",'ఊ':\"U\",'ఋ':\"|\",'ౠ':\"U\",'ఎ':\"|\",'ఏ':\"U\",'ఐ':\"U\",'ఒ':\"|\",'ఓ':\"U\",'ఔ':\"U\",'అం':\"U\",'అః':\"U\",\n",
    "        'క':\"|\",'ఖ':\"|\",'గ':\"|\", 'ఘ':\"|\",'ఙ':\"|\",\n",
    "        'చ':\"|\",'ఛ':\"|\",'జ':\"|\",'ఝ':\"|\", 'ఞ':\"|\",\n",
    "        'ట':\"|\",'ఠ':\"|\",'డ':\"|\", 'ఢ':\"|\", 'ణ':\"|\",\n",
    "       'త':\"|\", 'థ':\"|\", 'ద':\"|\",'ధ':\"|\",'న':\"|\",\n",
    "       'ప':\"|\",'ఫ':\"|\",'బ':\"|\",'భ':\"|\", 'మ':\"|\",\n",
    "      'య':\"|\", 'ర':\"|\", 'ల':\"|\",'వ':\"|\",'శ':\"|\",'ష':\"|\",'స':\"|\",'హ':\"|\", 'ళ':\"|\",'క్ష':\"U\",'ఱ':\"|\",\n",
    "   'కా':\"U\" , 'కి':\"|\" , 'కీ':\"U\" , 'కు':\"|\", 'కూ':\"U\" ,'కృ':\"|\",'కౄ':\"U\" ,'కె':\"|\" ,'కే':\"U\",'కై':\"U\",'కొ':\"|\",'కో':\"U\",'కౌ':\"U\",'కం':\"U\",'కః':\"U\",\n",
    "   'ఖా':\"U\",'ఖి':\"|\",'ఖీ':\"U\",'ఖు':\"|\",'ఖూ':\"U\",'ఖృ':\"|\",'ఖౄ':\"U\",'ఖె':\"|\",'ఖే':\"U\",'ఖై':\"U\",'ఖొ':\"|\",'ఖో':\"U\",'ఖౌ':\"U\",'ఖం':\"U\",'ఖః':\"U\",\n",
    "   'గా':\"U\",'గి':\"|\",'గీ':\"U\",'గు':\"|\",'గూ':\"U\",'గృ':\"|\",'గౄ':\"U\",'గె':\"|\",'గే':\"U\",'గై':\"U\",'గొ':\"|\",'గో':\"U\",'గౌ':\"U\",'గం':\"U\",'గః':\"U\",\n",
    "   'ఘా':\"U\",'ఘి':\"|\",'ఘీ':\"U\",'ఘు':\"|\",'ఘూ':\"U\",'ఘృ':\"|\",'ఘౄ':\"U\",'ఘె':\"|\",'ఘే':\"U\",'ఘై':\"U\",'ఘొ':\"|\",'ఘో':\"U\",'ఘౌ':\"U\",'ఘం':\"U\",'ఘః':\"U\",\n",
    "   'చా':\"U\",'చి':\"|\",'చీ':\"U\",'చు':\"|\",'చూ':\"U\",'చృ':\"|\",'చౄ':\"U\",'చె':\"|\",'చే':\"U\",'చై':\"U\",'చొ':\"|\",'చో':\"U\",'చౌ':\"U\",'చం':\"U\",'చః':\"U\",\n",
    "   'జా':\"U\",'జి':\"|\",'జీ':\"U\",'జు':\"|\",'జూ':\"U\",'జృ':\"|\",'జౄ':\"U\",'జె':\"|\",'జే':\"U\",'జై':\"U\",'జొ':\"|\",'జో':\"U\",'జౌ':\"U\",'జం':\"U\",'జః':\"U\",\n",
    "   'ఝా':\"U\",'ఝి':\"|\",'ఝీ':\"U\",'ఝు':\"|\",'ఝూ':\"U\",'ఝృ':\"|\",'ఝౄ':\"U\", 'ఝె':\"|\",'ఝే':\"U\",'ఝై':\"U\",'ఝొ':\"|\",'ఝో':\"U\",'ఝౌ':\"U\",'ఝం':\"U\",'ఝః':\"U\",\n",
    "   'టా':\"U\",'టి':\"|\",'టీ':\"U\",'టు':\"|\",'టూ':\"U\",'టృ':\"|\",'టౄ':\"U\",'టె':\"|\",'టే':\"U\",'టై':\"U\",'టొ':\"|\", 'టో':\"U\", 'టౌ':\"U\",'టం':\"U\",'టః':\"U\",\n",
    "   'ఠా':\"U\",'ఠి':\"|\",'ఠీ':\"U\",'ఠు':\"|\",'ఠూ':\"U\",'ఠృ':\"|\",'ఠౄ':\"U\",'ఠె':\"|\",'ఠే':\"U\",'ఠై':\"U\",'ఠొ':\"|\",'ఠో':\"U\",'ఠౌ':\"U\",'ఠం':\"U\",'ఠః':\"U\",\n",
    "   'డా':\"U\",'డి':\"|\",'డీ':\"U\",'డు':\"|\",'డూ':\"U\",'డృ':\"|\",'డౄ':\"U\", 'డె':\"|\",'డే':\"U\",'డై':\"U\",'డొ':\"|\",'డో':\"U\",'డౌ':\"U\",'డం':\"U\",'డః':\"U\",\n",
    "   'ణా':\"U\",'ణి':\"|\",'ణీ':\"U\",'ణు':\"|\",'ణూ':\"U\",'ణృ':\"|\",'ణౄ':\"U\",'ణె':\"|\",'ణే':\"U\",'ణై':\"U\",'ణొ':\"|\",'ణో':\"U\",'ణౌ':\"U\",'ణం':\"U\",'ణః':\"U\",\n",
    "  'తా':\"U\",'తి':\"|\",'తీ':\"U\",'తు':\"|\",'తూ':\"U\",'తృ':\"|\",'తౄ':\"U\",'తె':\"|\",'తే':\"U\",'తై':\"U\",'తొ':\"|\",'తో':\"U\",'తౌ':\"U\",'తం':\"U\",'తః':\"U\",\n",
    "  'థా':\"U\",'థి':\"|\",'థీ':\"U\",'థు':\"|\",'థూ':\"U\",'థృ':\"|\",'థౄ':\"U\",'థె':\"|\",'థే':\"U\",'థై':\"U\",'థొ':\"|\",'థో':\"U\",'ధౌ':\"U\",'థం':\"U\",'థః':\"U\",\n",
    "  'దా':\"U\",'ది':\"|\",'దీ':\"U\",'దు':\"|\",'దూ':\"U\",'దృ':\"|\",'ధౄ':\"U\",'దె':\"|\",'దే':\"U\",'దై':\"U\",'దొ':\"|\",'దో':\"U\",'దౌ':\"U\",'దం':\"U\",'దః':\"U\",\n",
    "  'ధా':\"U\",'ధి':\"|\",'ధీ':\"U\",'ధు':\"|\",'ధూ':\"U\",'ధృ':\"|\",'ధౄ':\"U\",'ధె':\"|\",'ధే':\"U\",'ధై':\"U\",'ధొ':\"|\",'ధో':\"U\",'ధౌ':\"U\",'ధం':\"U\",'ధః':\"U\",\n",
    "  'నా':\"U\",'ని':\"|\",'నీ':\"U\",'ను':\"|\",'నూ':\"U\",'నృ':\"|\",'నౄ':\"U\",'నె':\"|\",'నే':\"U\",'నై':\"U\",'నొ':\"|\",'నో':\"U\",'నౌ':\"U\",'నం':\"U\",'నః':\"U\",\n",
    "  'పా':\"U\",'పి':\"|\",'పీ':\"U\",'పు':\"|\",'పూ':\"U\",'పృ':\"|\",'పౄ':\"U\",'పె':\"|\",'పే':\"U\",'పై':\"U\",'పొ':\"|\",'పో':\"U\",'పౌ':\"U\",'పం':\"U\",'పః':\"U\",\n",
    "   'పా':\"U\",'పి':\"|\",'పీ':\"U\",'పు':\"|\",'పూ':\"U\",'పృ':\"|\",'పౄ':\"U\",'పె':\"|\",'పే':\"U\",'పై':\"U\",'పొ':\"|\",'పో':\"U\",'పౌ':\"U\",'పం':\"U\",'పః':\"U\",\n",
    "  'బా':\"U\",'బి':\"|\",'బీ':\"U\",'బు':\"|\",'బూ':\"U\",'బృ':\"|\",'బౄ':\"U\",'బె':\"|\",'బే':\"U\",'బై':\"U\",'బొ':\"|\",'బో':\"U\",'బౌ':\"U\",'బం':\"U\",'బః':\"U\",\n",
    "  'భా':\"U\",'భి':\"|\",'భీ':\"U\",'భు':\"|\",'భూ':\"U\",'భృ':\"|\",'భౄ':\"U\",'భె':\"|\",'భే':\"U\",'భై':\"U\",'భొ':\"|\",'భో':\"U\",'భౌ':\"U\",'భం':\"U\",'భః':\"U\",\n",
    "  'మా':\"U\",'మి':\"|\",'మీ':\"U\",'ము':\"|\",'మూ':\"U\",'మృ':\"|\",'మౄ':\"U\",'మె':\"|\",'మే':\"U\",'మై':\"U\",'మొ':\"|\",'మో':\"U\",'మౌ':\"U\",'మం':\"U\",'మః':\"U\",\n",
    "  'యా':\"U\",'యి':\"|\",'యీ':\"U\",'యు':\"|\",'యూ':\"U\",'యృ':\"|\",'యౄ':\"U\",'యె':\"|\",'యే':\"U\",'యై':\"U\",'యొ':\"|\",'యో':\"U\",'యౌ':\"U\",'యం':\"U\",'యః':\"U\",\n",
    "  'రా':\"U\",'రి':\"|\",'రీ':\"U\",'రు':\"|\",'రూ':\"U\",'రృ':\"|\",'రౄ':\"U\",'రె':\"|\",'రే':\"U\",'రై':\"U\",'రొ':\"|\",'రో':\"U\",'రౌ':\"U\",'రం':\"U\",'రః':\"U\",\n",
    "  'లా':\"U\", 'లి':\"|\", 'లీ':\"U\", 'లు':\"|\", 'లూ':\"U\", 'లృ':\"|\", 'లౄ':\"U\",'లె':\"|\",'లే':\"U\",'లై':\"U\",'లొ':\"|\",'లో':\"U\",'లౌ':\"U\",'లం':\"U\",'లః':\"U\",\n",
    "  'వా':\"U\",'వి':\"|\",'వీ':\"U\",'వు':\"|\",'వూ':\"U\",'వృ':\"|\",'వౄ':\"U\",'వె':\"|\",'వే':\"U\",'వై':\"U\",'వొ':\"|\",'వో':\"U\",'వౌ':\"U\",'వం':\"U\",'వః':\"U\",\n",
    "   'శా':\"U\", 'శి':\"|\",'శీ':\"U\",'శు':\"|\",'శూ':\"U\",'శృ':\"|\",'శౄ':\"U\",'శె':\"|\",'శే':\"U\",'శై':\"U\",'శొ':\"|\",'శో':\"U\",'శౌ':\"U\",'శం':\"U\",'శః':\"U\",\n",
    "   'షా':\"U\",'షి':\"|\",'షీ':\"U\",'షు':\"|\",'షూ':\"U\",'షృ':\"|\",'షౄ':\"U\",'షె':\"|\",'షే':\"U\",'షై':\"U\",'షొ':\"|\",'షో':\"U\",'షౌ':\"U\",'షం':\"U\",'షః':\"U\",\n",
    "   'సా':\"U\",'సి':\"|\",'సీ':\"U\",'సు':\"|\",'సూ':\"U\",'సృ':\"|\",'సౄ':\"U\",'సె':\"|\",'సే':\"U\",'సై':\"U\",'సొ':\"|\",'సో':\"U\",'సౌ':\"U\",'సం':\"U\",'సః':\"U\",\n",
    "   'హా':\"U\",'హి':\"|\",'హీ':\"U\",'హు':\"|\",'హూ':\"U\",'హృ':\"|\",'హౄ':\"U\",'హె':\"|\",'హే':\"U\",'హై':\"U\",'హొ':\"|\",'హో':\"U\",'హౌ':\"U\",'హం':\"U\",'హః':\"U\",\n",
    "   'ళా':\"U\",'ళి':\"|\",'ళీ':\"U\",'ళు':\"|\",'ళూ':\"U\",'ళృ':\"|\",'ళౄ':\"U\",'ళె':\"|\",'ళే':\"U\",'ళై':\"U\",'ళొ':\"|\",'ళో':\"U\",'ళౌ':\"U\",'ళం':\"U\",'ళః':\"U\",\n",
    "   \"ఱ\":\"|\", \"ఱా\":\"U\",'ఱి':\"|\",'ఱీ':\"U\",'ఱు':\"|\",\"ఱూ\":\"U\" ,\"ఱృ\":\"|\",\"ఱౄ\":\"U\",\"ఱె\":\"|\",\"ఱే\":\"U\",\"ఱై\":\"U\",\"ఱొ\":\"|\",\"ఱో\":\"U\",\"ఱౌ\":\"U\",\"ఱం\":\"U\",'ఱః':\"U\"\n",
    "}\n",
    "gunintha_chihnam= [\"\",\"ా\",\"ి\",\"ీ\",\"ు\",\"ూ\",\"ృ\",\"ౄ\",\"ె\",\"ే\",\"ై\",\"ొ\",\"ో\",\"ౌ\",\"ಂ\",\"ಃ\"]"
   ]
  },
  {
   "cell_type": "code",
   "execution_count": 1,
   "id": "6177c284",
   "metadata": {},
   "outputs": [
    {
     "name": "stdout",
     "output_type": "stream",
     "text": [
      "['కో', 'తి']\n",
      "కోU and తి|\n"
     ]
    }
   ],
   "source": [
    "import regex as re\n",
    "gunintha_chihnam= {\"\":\"|\",\"ా\":\"U\",\"ి\":\"|\",\"ీ\":\"U\",\"ు\":\"|\",\"ూ\":\"U\",\"ృ\":\"|\",\"ౄ\":\"U\",\"ె\":\"|\",\"ే\":\"U\",\"ై\":\"U\",\"ొ\":\"|\",\"ో\":\"U\",\"ౌ\":\"U\",\"ಂ\":\"U\",\"ಃ\":\"U\"}\n",
    "word=\"కోతి\" \n",
    "def laghuvu_guruvu(letter):\n",
    "    a=len(letter)\n",
    "    if(a>1):\n",
    "        return gunintha_chihnam.get(letter[-1],\"|\")\n",
    "    return letters.get(letter,\"|\")  \n",
    "def appending(word):\n",
    "    exp=re.findall(r\"\\X\",word)\n",
    "    print(exp)\n",
    "    res=[]\n",
    "    for i in range(len(exp)-1):\n",
    "        ith=exp[i]\n",
    "        jth=exp[i+1]\n",
    "        ith_word=laghuvu_guruvu(ith)\n",
    "        jth_word=laghuvu_guruvu(jth)\n",
    "        print(f\"{ith :}{ith_word} and {jth :}{jth_word}\")\n",
    "appending(word)"
   ]
  },
  {
   "cell_type": "code",
   "execution_count": 11,
   "id": "b9399a00",
   "metadata": {},
   "outputs": [
    {
     "data": {
      "text/plain": [
       "'స్వాతంత్రం'"
      ]
     },
     "execution_count": 11,
     "metadata": {},
     "output_type": "execute_result"
    }
   ],
   "source": [
    "word=\"స్వాతంత్రం\" \n",
    "word"
   ]
  },
  {
   "cell_type": "code",
   "execution_count": 51,
   "id": "c72dbb4e",
   "metadata": {},
   "outputs": [
    {
     "data": {
      "text/plain": [
       "['స్', 'వా', 'తం', 'త్', 'రం', ',', ' ', 'వ', 'స్', ' ']"
      ]
     },
     "execution_count": 51,
     "metadata": {},
     "output_type": "execute_result"
    }
   ],
   "source": [
    "import regex as re\n",
    "\n",
    "word=\"స్వాతంత్రం, వస్ \" \n",
    "l= re.findall(r\"\\X\",word)\n",
    "l"
   ]
  },
  {
   "cell_type": "code",
   "execution_count": 58,
   "id": "05c045e1",
   "metadata": {},
   "outputs": [
    {
     "name": "stdout",
     "output_type": "stream",
     "text": [
      "_________\n"
     ]
    }
   ],
   "source": [
    "index= 0\n",
    "\n",
    "word= []\n",
    "lg= []\n",
    "\n",
    "temp= \"\"\n",
    "\n",
    "while index< len(l):\n",
    "\n",
    "    if l[index].isspace() or l[index] in list(\"\"\"` ~ ! @ # $ % ^ & * ( ) _ - + = { } [ ] \\ | ; : ' \" , < > . / ?\"\"\"):\n",
    "        word.append( l[index] )\n",
    "        index+= 1\n",
    "        continue\n",
    "\n",
    "    if l[index].endswith('్') and temp == \"\" and not l[index+1].isspace():\n",
    "\n",
    "        temp+= l[index]\n",
    "        index+= 1\n",
    "        past= False\n",
    "\n",
    "    elif (not l[index].endswith('్')) and temp != \"\":\n",
    "\n",
    "        aksharam= temp+l[index]\n",
    "        word.append( aksharam )\n",
    "        lg.append( lg_map[l[index]] )\n",
    "        index+= 1\n",
    "        temp= \"\"\n",
    "    \n",
    "    elif (not l[index].endswith('్')) and temp == \"\":\n",
    "\n",
    "        word.append( l[index] )\n",
    "        lg.append( lg_map[l[index]] )\n",
    "        index+= 1\n",
    "    \n",
    "    elif l[index].endswith('్') and (index+1 == len(l) or l[index+1].isspace() ):\n",
    "\n",
    "        print(\"_________\")\n",
    "        word[-1]+= l[index]\n",
    "        lg[-1]= \"U\"\n",
    "        index+= 1"
   ]
  },
  {
   "cell_type": "code",
   "execution_count": 59,
   "id": "4355029c",
   "metadata": {},
   "outputs": [
    {
     "data": {
      "text/plain": [
       "(['స్వా', 'తం', 'త్రం', ',', ' ', 'వస్', ' '], ['U', 'U', 'U', 'U'])"
      ]
     },
     "execution_count": 59,
     "metadata": {},
     "output_type": "execute_result"
    }
   ],
   "source": [
    "word, lg"
   ]
  },
  {
   "cell_type": "code",
   "execution_count": 15,
   "id": "d8943994",
   "metadata": {},
   "outputs": [
    {
     "data": {
      "text/plain": [
       "True"
      ]
     },
     "execution_count": 15,
     "metadata": {},
     "output_type": "execute_result"
    }
   ],
   "source": [
    "\" \".isspace()"
   ]
  },
  {
   "cell_type": "code",
   "execution_count": 15,
   "id": "f604ec11",
   "metadata": {},
   "outputs": [],
   "source": [
    "index= 0\n",
    "\n",
    "word= []\n",
    "\n",
    "temp= \"\"\n",
    "\n",
    "for index in range(len(l)):\n",
    "\n",
    "    if l[index].endswith('్') and temp == \"\":\n",
    "        temp+= l[index]\n",
    "\n",
    "    elif (not l[index].endswith('్')) and temp != \"\":\n",
    "\n",
    "        word.append( temp+l[index] )\n",
    "        temp= \"\"\n",
    "    \n",
    "    elif (not l[index].endswith('్')) and temp == \"\":\n",
    "        word.append( l[index] )\n",
    "        temp= \"\"\n",
    "    \n",
    "    else:\n",
    "        print(\"Unknown Case !\")"
   ]
  },
  {
   "cell_type": "code",
   "execution_count": 16,
   "id": "29e7ae9d",
   "metadata": {},
   "outputs": [
    {
     "data": {
      "text/plain": [
       "['స్వా', 'తం', 'త్రం']"
      ]
     },
     "execution_count": 16,
     "metadata": {},
     "output_type": "execute_result"
    }
   ],
   "source": [
    "word"
   ]
  },
  {
   "cell_type": "code",
   "execution_count": 3,
   "id": "3db5b668",
   "metadata": {},
   "outputs": [],
   "source": [
    "import sys\n",
    "import os\n",
    "\n",
    "sys.path.append(os.path.abspath(os.path.join(os.getcwd(), '..')))\n",
    "\n",
    "from chandassu.varnamala import Varnamala\n",
    "from chandassu.dictionary import lg_map, varnamala, gunintha_chihnam\n",
    "from chandassu.laghuvu_guruvu import LaghuvuGuruvu"
   ]
  },
  {
   "cell_type": "code",
   "execution_count": 4,
   "id": "0eae7e75",
   "metadata": {},
   "outputs": [],
   "source": [
    "lg= LaghuvuGuruvu( data= \"స్వాతంత్ర, వస్ తంత్రదీన్నిప్రయత్నించ ,డాన\" ) #data= \"దీన్నిప్రయత్నించ ,డానమీభాషనుమరియు\" )"
   ]
  },
  {
   "cell_type": "code",
   "execution_count": 5,
   "id": "12173e99",
   "metadata": {},
   "outputs": [
    {
     "name": "stdout",
     "output_type": "stream",
     "text": [
      "['స్వా', 'తం', 'త్ర', 'వస్', 'తం', 'త్ర', 'దీ', 'న్ని', 'ప్ర', 'య', 'త్నిం', 'చ', 'డా', 'న']\n"
     ]
    },
    {
     "data": {
      "text/plain": [
       "[('స్వా', 'U'),\n",
       " ('తం', 'U'),\n",
       " ('త్ర', '|'),\n",
       " ('వస్', 'U'),\n",
       " ('తం', 'U'),\n",
       " ('త్ర', '|'),\n",
       " ('దీ', 'U'),\n",
       " ('న్ని', 'U'),\n",
       " ('ప్ర', '|'),\n",
       " ('య', 'U'),\n",
       " ('త్నిం', 'U'),\n",
       " ('చ', '|'),\n",
       " ('డా', 'U'),\n",
       " ('న', '|')]"
      ]
     },
     "execution_count": 5,
     "metadata": {},
     "output_type": "execute_result"
    }
   ],
   "source": [
    "lg.generate()"
   ]
  },
  {
   "cell_type": "code",
   "execution_count": 6,
   "id": "565a28ec",
   "metadata": {},
   "outputs": [
    {
     "data": {
      "text/plain": [
       "['తొండము నేక దంతమును తోరపు బొజ్జయు వామ హస్తమున్',\n",
       " 'మెండుగ మ్రోయు గజ్జెలును మెల్లని చూపులు మందహాసమున్',\n",
       " 'కొండొక గుజ్జు రూపమున కోరిన విద్యలకెల్ల నొజ్జవై',\n",
       " 'యుండెడి పార్వతీ తనయ యోయి గణాధిప నీకు మ్రొక్కెదన్']"
      ]
     },
     "execution_count": 6,
     "metadata": {},
     "output_type": "execute_result"
    }
   ],
   "source": [
    "padyam= \"\"\"తొండము నేక దంతమును తోరపు బొజ్జయు వామ హస్తమున్\n",
    "మెండుగ మ్రోయు గజ్జెలును మెల్లని చూపులు మందహాసమున్\n",
    "కొండొక గుజ్జు రూపమున కోరిన విద్యలకెల్ల నొజ్జవై\n",
    "యుండెడి పార్వతీ తనయ యోయి గణాధిప నీకు మ్రొక్కెదన్\"\"\"\n",
    "split_padyam= padyam.split(\"\\n\")\n",
    "split_padyam"
   ]
  },
  {
   "cell_type": "code",
   "execution_count": 7,
   "id": "40685f42",
   "metadata": {},
   "outputs": [
    {
     "name": "stdout",
     "output_type": "stream",
     "text": [
      "['యుం', 'డె', 'డి', 'పా', 'ర్వ', 'తీ', 'త', 'న', 'య', 'యో', 'యి', 'గ', 'ణా', 'ధి', 'ప', 'నీ', 'కు', 'మ్రొ', 'క్కె', 'దన్']\n"
     ]
    },
    {
     "data": {
      "text/plain": [
       "[('యుం', 'U'),\n",
       " ('డె', '|'),\n",
       " ('డి', '|'),\n",
       " ('పా', 'U'),\n",
       " ('ర్వ', '|'),\n",
       " ('తీ', 'U'),\n",
       " ('త', '|'),\n",
       " ('న', '|'),\n",
       " ('య', '|'),\n",
       " ('యో', 'U'),\n",
       " ('యి', '|'),\n",
       " ('గ', '|'),\n",
       " ('ణా', 'U'),\n",
       " ('ధి', '|'),\n",
       " ('ప', '|'),\n",
       " ('నీ', 'U'),\n",
       " ('కు', 'U'),\n",
       " ('మ్రొ', 'U'),\n",
       " ('క్కె', '|'),\n",
       " ('దన్', 'U')]"
      ]
     },
     "execution_count": 7,
     "metadata": {},
     "output_type": "execute_result"
    }
   ],
   "source": [
    "lg= LaghuvuGuruvu( data= split_padyam[3] )\n",
    "lg.generate()"
   ]
  },
  {
   "cell_type": "code",
   "execution_count": 9,
   "id": "ec7bbfa3",
   "metadata": {},
   "outputs": [
    {
     "data": {
      "text/plain": [
       "('తొండము నేక దంతమును తోరపు బొజ్జయు వామ హస్తమున్',\n",
       " [' ', 'మ్', 'రొ', 'క్', 'కె', 'ద', 'న్'])"
      ]
     },
     "execution_count": 9,
     "metadata": {},
     "output_type": "execute_result"
    }
   ],
   "source": [
    "import regex as re\n",
    "l= re.findall(r\"\\X\", split_padyam[3])\n",
    "split_padyam[0], l[23:]"
   ]
  },
  {
   "cell_type": "code",
   "execution_count": 10,
   "id": "a9688f31",
   "metadata": {},
   "outputs": [
    {
     "name": "stdout",
     "output_type": "stream",
     "text": [
      "23\n",
      "1---[]\n",
      "24\n",
      "2---[]\n",
      "25\n",
      "3---['మ్రొ']\n",
      "26\n",
      "2---['మ్రొ']\n",
      "27\n",
      "3---['మ్రొ', 'క్కె']\n",
      "28\n",
      "4---['మ్రొ', 'క్కె', 'ద']\n",
      "29\n",
      "5---['మ్రొ', 'క్కె', 'దన్']\n"
     ]
    }
   ],
   "source": [
    "index= 0\n",
    "text= []\n",
    "temp= \"\"\n",
    "\n",
    "for index in range(23, len(l) ):\n",
    "\n",
    "    print( index )\n",
    "    \n",
    "    if l[index].isspace() or l[index] in list(\"\"\"` ~ ! @ # $ % ^ & * ( ) _ - + = { } [ ] \\ | ; : ' \" , < > . / ?\"\"\"):\n",
    "        print(1, end= \"---\")\n",
    "        # text.append( l[index] )\n",
    "        pass\n",
    "\n",
    "    elif l[index].endswith('్') and temp == \"\" and index< len(l)-1 and not l[index+1].isspace():\n",
    "        print(2, end= \"---\")\n",
    "        temp+= l[index]\n",
    "\n",
    "    elif (not l[index].endswith('్')) and temp != \"\":\n",
    "        print(3, end= \"---\")\n",
    "        text.append( temp+l[index] )\n",
    "        temp= \"\"\n",
    "    \n",
    "    elif (not l[index].endswith('్')) and temp == \"\":\n",
    "        print(4, end= \"---\")\n",
    "        text.append( l[index] )\n",
    "        temp= \"\"\n",
    "    \n",
    "    elif l[index].endswith('్') and (index+1 == len(l) or l[index+1].isspace() ):\n",
    "        print(5, end= \"---\")\n",
    "        text[-1]+= l[index]\n",
    "\n",
    "    else:\n",
    "        print(\"Unknown Case (for future purpose) !\")\n",
    "    \n",
    "    print( text)"
   ]
  },
  {
   "cell_type": "code",
   "execution_count": 11,
   "id": "1512b35b",
   "metadata": {},
   "outputs": [
    {
     "data": {
      "text/plain": [
       "['మ్రొ', 'క్కె', 'దన్']"
      ]
     },
     "execution_count": 11,
     "metadata": {},
     "output_type": "execute_result"
    }
   ],
   "source": [
    "text"
   ]
  },
  {
   "cell_type": "code",
   "execution_count": 12,
   "id": "c610360e",
   "metadata": {},
   "outputs": [
    {
     "data": {
      "text/plain": [
       "30"
      ]
     },
     "execution_count": 12,
     "metadata": {},
     "output_type": "execute_result"
    }
   ],
   "source": [
    "len(l)"
   ]
  },
  {
   "cell_type": "code",
   "execution_count": 13,
   "id": "55788e50",
   "metadata": {},
   "outputs": [
    {
     "data": {
      "text/plain": [
       "['క', '్', 'క', 'ె']"
      ]
     },
     "execution_count": 13,
     "metadata": {},
     "output_type": "execute_result"
    }
   ],
   "source": [
    "list('క్కె')"
   ]
  },
  {
   "cell_type": "code",
   "execution_count": 14,
   "id": "38ada774",
   "metadata": {},
   "outputs": [
    {
     "name": "stdout",
     "output_type": "stream",
     "text": [
      "0\n",
      "క\n",
      "్\n",
      "క\n",
      "ె\n",
      "2 మ్రొ క్కె-22-1\n",
      "ద\n",
      "న\n",
      "్\n",
      "2 క్కె దన్-33-2\n",
      "55-"
     ]
    }
   ],
   "source": [
    "marking= []\n",
    "\n",
    "l= ['మ్రొ', 'క్కె', 'దన్']\n",
    "\n",
    "for index in range( len(l) ):\n",
    "\n",
    "    print(index, sep= \"========\")\n",
    "    if index < len(l)-1 :\n",
    "\n",
    "        if 'ద' in l[index+1] and 'ర' in l[index+1]:\n",
    "            print(1, end= \"-\")\n",
    "            marking.append( lg_map[l[index][-1]] )\n",
    "\n",
    "        else:\n",
    "            count= 0\n",
    "            for j in list(l[index+1]):\n",
    "                print(j)\n",
    "                if j in varnamala:\n",
    "                    count+= 1\n",
    "            print(count, l[index], l[index+1], end= \"-\")\n",
    "            if count > 1 and not l[index+1].endswith('్'):\n",
    "                print(22, end= \"-\")\n",
    "                marking.append( \"U\" )\n",
    "            \n",
    "            elif count > 1 and l[index+1].endswith('్'):\n",
    "                print(33, end= \"-\")\n",
    "                marking.append( lg_map[l[index][-1]] )\n",
    "\n",
    "            else:\n",
    "                print(44, end= \"-\")\n",
    "                marking.append( lg_map[l[index][-1]] )\n",
    "    \n",
    "    elif l[index][-1] in lg_map:\n",
    "        print(55, end= \"-\")\n",
    "        marking.append( lg_map[l[index][-1]] )\n",
    "\n",
    "    else:\n",
    "        print(66, end= \"-\")\n",
    "        print(\"Unhandled Condition\")"
   ]
  },
  {
   "cell_type": "code",
   "execution_count": 21,
   "id": "31596b37",
   "metadata": {},
   "outputs": [
    {
     "data": {
      "text/plain": [
       "False"
      ]
     },
     "execution_count": 21,
     "metadata": {},
     "output_type": "execute_result"
    }
   ],
   "source": [
    "'క' in varnamala"
   ]
  },
  {
   "cell_type": "code",
   "execution_count": 24,
   "id": "7eeca1e6",
   "metadata": {},
   "outputs": [
    {
     "data": {
      "text/plain": [
       "['అ',\n",
       " 'ఆ',\n",
       " 'ఇ',\n",
       " 'ఈ',\n",
       " 'ఉ',\n",
       " 'ఊ',\n",
       " 'ఋ',\n",
       " 'ౠ',\n",
       " 'ఎ',\n",
       " 'ఏ',\n",
       " 'ఐ',\n",
       " 'ఒ',\n",
       " 'ఓ',\n",
       " 'ఔ',\n",
       " 'అం',\n",
       " 'అఃక',\n",
       " 'ఖ',\n",
       " 'గ',\n",
       " 'ఘ',\n",
       " 'ఙ',\n",
       " 'చ',\n",
       " 'ఛ',\n",
       " 'జ',\n",
       " 'ఝ',\n",
       " 'ఞ',\n",
       " 'ట',\n",
       " 'ఠ',\n",
       " 'డ',\n",
       " 'ఢ',\n",
       " 'ణ',\n",
       " 'త',\n",
       " 'థ',\n",
       " 'ద',\n",
       " 'ధ',\n",
       " 'న',\n",
       " 'ప',\n",
       " 'ఫ',\n",
       " 'బ',\n",
       " 'భ',\n",
       " 'మ',\n",
       " 'య',\n",
       " 'ర',\n",
       " 'ల',\n",
       " 'వ',\n",
       " 'శ',\n",
       " 'ష',\n",
       " 'స',\n",
       " 'హ',\n",
       " 'ళ',\n",
       " 'ఱ']"
      ]
     },
     "execution_count": 24,
     "metadata": {},
     "output_type": "execute_result"
    }
   ],
   "source": [
    "varnamala"
   ]
  },
  {
   "cell_type": "code",
   "execution_count": 23,
   "id": "109d03db",
   "metadata": {},
   "outputs": [
    {
     "data": {
      "text/plain": [
       "3093"
      ]
     },
     "execution_count": 23,
     "metadata": {},
     "output_type": "execute_result"
    }
   ],
   "source": [
    "ord('క')"
   ]
  },
  {
   "cell_type": "code",
   "execution_count": null,
   "id": "01ed36da",
   "metadata": {},
   "outputs": [],
   "source": []
  }
 ],
 "metadata": {
  "kernelspec": {
   "display_name": "base",
   "language": "python",
   "name": "python3"
  },
  "language_info": {
   "codemirror_mode": {
    "name": "ipython",
    "version": 3
   },
   "file_extension": ".py",
   "mimetype": "text/x-python",
   "name": "python",
   "nbconvert_exporter": "python",
   "pygments_lexer": "ipython3",
   "version": "3.11.3"
  }
 },
 "nbformat": 4,
 "nbformat_minor": 5
}
