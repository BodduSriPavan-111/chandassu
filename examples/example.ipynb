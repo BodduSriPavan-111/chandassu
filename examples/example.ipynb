{
 "cells": [
  {
   "cell_type": "code",
   "execution_count": 1,
   "id": "133d5ac1",
   "metadata": {},
   "outputs": [],
   "source": [
    "import sys\n",
    "import os\n",
    "\n",
    "sys.path.append(os.path.abspath(os.path.join(os.getcwd(), '..')))\n",
    "\n",
    "# from chandassu.varnamala import Varnamala\n",
    "from chandassu.laghuvu_guruvu import LaghuvuGuruvu\n",
    "from chandassu.check_lakshanam import n_paadam, n_aksharam, check_yati, check_prasa, check_vruttam_gana_kramam\n",
    "from chandassu.padyam_config import Vruttamu\n",
    "from chandassu.panimuttu import extract_aksharam\n",
    "from chandassu.nidhi import yati, achhulu\n",
    "from chandassu.padya_bhedam import check_vruttam"
   ]
  },
  {
   "cell_type": "code",
   "execution_count": 5,
   "id": "a12f260c",
   "metadata": {},
   "outputs": [
    {
     "name": "stdout",
     "output_type": "stream",
     "text": [
      "['గ', 'జ్జె', 'లు', 'ను']\n"
     ]
    },
    {
     "data": {
      "text/plain": [
       "[('గ', 'U'), ('జ్జె', '|'), ('లు', '|'), ('ను', '|')]"
      ]
     },
     "execution_count": 5,
     "metadata": {},
     "output_type": "execute_result"
    }
   ],
   "source": [
    "lg= LaghuvuGuruvu( data= \"గజ్జెలును\" )\n",
    "lg.generate()"
   ]
  },
  {
   "cell_type": "code",
   "execution_count": null,
   "id": "7f1086d3",
   "metadata": {},
   "outputs": [],
   "source": []
  },
  {
   "cell_type": "code",
   "execution_count": 10,
   "id": "565a28ec",
   "metadata": {},
   "outputs": [],
   "source": [
    "padyam= \"\"\"తొండము నేక దంతమును తోరపు బొజ్జయు వామ హస్తమున్\n",
    "మెండుగ మ్రోయు గజ్జెలును మెల్లని చూపులు మందహాసమున్\n",
    "కొండొక గుజ్జు రూపమున కోరిన విద్యలకెల్ల నొజ్జవ\n",
    "యుండెడి పార్వతీ తనయ యోయి గణాధిప నీకు మ్రొక్కెదన్\"\"\"\n",
    "\n",
    "# padyam= '''\"పరమదయానిధే పతిత పావననామ హరే\"యటంచు సు\n",
    "# స్థిరమతులై సదా భజన సేయు మహాత్ముల పాదధూళి నా\n",
    "# శిరమున దాల్తు మీరటకు జేరకుఁడంచు యముండు కింకరో\n",
    "# త్కరముల కాన బెట్టునఁట దాశరథీ! కరుణాపయోనిధీ!'''"
   ]
  },
  {
   "cell_type": "code",
   "execution_count": 11,
   "id": "279c03ff",
   "metadata": {},
   "outputs": [
    {
     "data": {
      "text/plain": [
       "'కు'"
      ]
     },
     "execution_count": 11,
     "metadata": {},
     "output_type": "execute_result"
    }
   ],
   "source": [
    "'కుఁ'.strip(\"ఁ\")"
   ]
  },
  {
   "cell_type": "code",
   "execution_count": 12,
   "id": "6c9b8b57",
   "metadata": {},
   "outputs": [
    {
     "ename": "SyntaxError",
     "evalue": "invalid syntax (2756885042.py, line 1)",
     "output_type": "error",
     "traceback": [
      "\u001b[1;36m  Cell \u001b[1;32mIn[12], line 1\u001b[1;36m\u001b[0m\n\u001b[1;33m    If user asks for padyam not avaialble: message !\u001b[0m\n\u001b[1;37m       ^\u001b[0m\n\u001b[1;31mSyntaxError\u001b[0m\u001b[1;31m:\u001b[0m invalid syntax\n"
     ]
    }
   ],
   "source": [
    "If user asks for padyam not avaialble: message !"
   ]
  },
  {
   "cell_type": "code",
   "execution_count": 13,
   "id": "8c49d913",
   "metadata": {},
   "outputs": [
    {
     "name": "stdout",
     "output_type": "stream",
     "text": [
      "['తొం', 'డ', 'ము', 'నే', 'క', 'దం', 'త', 'ము', 'ను', 'తో', 'ర', 'పు', 'బొ', 'జ్జ', 'యు', 'వా', 'మ', 'హ', 'స్త', 'మున్']\n",
      "['మెం', 'డు', 'గ', 'మ్రో', 'యు', 'గ', 'జ్జె', 'లు', 'ను', 'మె', 'ల్ల', 'ని', 'చూ', 'పు', 'లు', 'మం', 'ద', 'హా', 'స', 'మున్']\n",
      "['కొం', 'డొ', 'క', 'గు', 'జ్జు', 'రూ', 'ప', 'ము', 'న', 'కో', 'రి', 'న', 'వి', 'ద్య', 'ల', 'కె', 'ల్ల', 'నొ', 'జ్జ', 'వ']\n",
      "['యుం', 'డె', 'డి', 'పా', 'ర్వ', 'తీ', 'త', 'న', 'య', 'యో', 'యి', 'గ', 'ణా', 'ధి', 'ప', 'నీ', 'కు', 'మ్రొ', 'క్కె', 'దన్']\n",
      "Padyam not exactly matched with:  VUTPALAMALA\n"
     ]
    },
    {
     "data": {
      "text/plain": [
       "{'score': 0.9974999999999999,\n",
       " 'per_score': {'n_paadalu': 1.0,\n",
       "  'n_aksharalu': 1.0,\n",
       "  'gana_kramam': 0.9875,\n",
       "  'yati_sthanam': 1.0,\n",
       "  'prasa': 1.0}}"
      ]
     },
     "execution_count": 13,
     "metadata": {},
     "output_type": "execute_result"
    }
   ],
   "source": [
    "check_vruttam( padyam= padyam, type= \"vutpalamala\", verbose= False )"
   ]
  },
  {
   "cell_type": "code",
   "execution_count": null,
   "id": "61623a38",
   "metadata": {},
   "outputs": [],
   "source": []
  },
  {
   "cell_type": "code",
   "execution_count": null,
   "id": "4b65b56e",
   "metadata": {},
   "outputs": [],
   "source": []
  },
  {
   "cell_type": "code",
   "execution_count": 4,
   "id": "fe01b457",
   "metadata": {},
   "outputs": [
    {
     "data": {
      "text/plain": [
       "(79, 84)"
      ]
     },
     "execution_count": 4,
     "metadata": {},
     "output_type": "execute_result"
    }
   ],
   "source": [
    "check_vruttam_gana_kramam( padyam= padyam, lakshanam_config= Vruttamu.champakamala, verbose= False)"
   ]
  },
  {
   "cell_type": "code",
   "execution_count": null,
   "id": "179a37e9",
   "metadata": {},
   "outputs": [],
   "source": []
  },
  {
   "cell_type": "code",
   "execution_count": 31,
   "id": "d4ff7b06",
   "metadata": {},
   "outputs": [
    {
     "name": "stdout",
     "output_type": "stream",
     "text": [
      "['ఎ', 'డ', 'ప', 'క', 'దు', 'ర్జ', 'నుం', 'డొ', 'రు', 'ల', 'కెం', 'త', 'యు', 'గీ', 'డొ', 'న', 'రిం', 'చు', 'ను', 'గా', 'ని', 'యే']\n"
     ]
    },
    {
     "data": {
      "text/plain": [
       "('ఎ', 'కె')"
      ]
     },
     "execution_count": 31,
     "metadata": {},
     "output_type": "execute_result"
    }
   ],
   "source": [
    "letters= LaghuvuGuruvu( data= \"ఎడపక దుర్జనుండొరుల కెంతయు గీడొనరించును గాని యే\" ).split_by_letter()\n",
    "\n",
    "verbose= True\n",
    "yati_sthanam= 11\n",
    "if verbose:\n",
    "    print( letters)\n",
    "\n",
    "first_letter= letters[0]\n",
    "yati_sthanam_letter= letters[ yati_sthanam-1 ]\n",
    "\n",
    "first_letter= first_letter.replace('ం', \"\")\n",
    "first_letter= first_letter.replace(\"ಂ\", \"\")\n",
    "yati_sthanam_letter= yati_sthanam_letter.replace('ం', \"\")\n",
    "yati_sthanam_letter= yati_sthanam_letter.replace(\"ಂ\", \"\")\n",
    "\n",
    "samdit= False\n",
    "if len(extract_aksharam(first_letter))> 1:\n",
    "    samdit= True\n",
    "\n",
    "if len(first_letter)==1 and first_letter not in achhulu:\n",
    "    first_letter= [first_letter]+[' ']\n",
    "\n",
    "if len(yati_sthanam_letter)==1 and first_letter not in achhulu:\n",
    "    yati_sthanam_letter= [yati_sthanam_letter]+[\" \"]\n",
    "\n",
    "first_letter, yati_sthanam_letter\n"
   ]
  },
  {
   "cell_type": "code",
   "execution_count": 32,
   "id": "d8d1a645",
   "metadata": {},
   "outputs": [
    {
     "name": "stdout",
     "output_type": "stream",
     "text": [
      "YAthi MAtched !\n"
     ]
    }
   ],
   "source": [
    "temp= []\n",
    "for i in first_letter:\n",
    "\n",
    "    for j in yati:\n",
    "\n",
    "        if i in j:\n",
    "            \n",
    "            flag= False\n",
    "            for k in yati_sthanam_letter:\n",
    "                if k in j:\n",
    "                    flag= True\n",
    "                    break\n",
    "\n",
    "            if flag== True:\n",
    "                temp.append( True )\n",
    "            else:\n",
    "                temp.append( False )\n",
    "                print(\"Yathi Unmatched !\", i)\n",
    "\n",
    "if all( temp ):\n",
    "    print( \"YAthi MAtched !\" )"
   ]
  },
  {
   "cell_type": "code",
   "execution_count": 30,
   "metadata": {},
   "outputs": [
    {
     "data": {
      "text/plain": [
       "['అ',\n",
       " 'ఆ',\n",
       " 'ఇ',\n",
       " 'ఈ',\n",
       " 'ఉ',\n",
       " 'ఊ',\n",
       " 'ఋ',\n",
       " 'ౠ',\n",
       " 'ఎ',\n",
       " 'ఏ',\n",
       " 'ఐ',\n",
       " 'ఒ',\n",
       " 'ఓ',\n",
       " 'ఔ',\n",
       " 'అం',\n",
       " 'అః']"
      ]
     },
     "execution_count": 30,
     "metadata": {},
     "output_type": "execute_result"
    }
   ],
   "source": [
    "achhulu"
   ]
  },
  {
   "cell_type": "code",
   "execution_count": null,
   "id": "41a7b2ca",
   "metadata": {},
   "outputs": [
    {
     "data": {
      "text/plain": [
       "0"
      ]
     },
     "execution_count": 8,
     "metadata": {},
     "output_type": "execute_result"
    }
   ],
   "source": []
  },
  {
   "cell_type": "code",
   "execution_count": 20,
   "id": "95ba9896",
   "metadata": {},
   "outputs": [
    {
     "data": {
      "text/plain": [
       "{'n_paadalu': 4,\n",
       " 'n_aksharalu': 21,\n",
       " 'gana_kramam': ('న', 'జ', 'భ', 'జ', 'జ', 'జ', 'ర'),\n",
       " 'yati_sthanam': 11,\n",
       " 'prasa': True}"
      ]
     },
     "execution_count": 20,
     "metadata": {},
     "output_type": "execute_result"
    }
   ],
   "source": [
    "config= Vruttamu.champakamala\n",
    "config"
   ]
  },
  {
   "cell_type": "code",
   "execution_count": 21,
   "id": "df4caeba",
   "metadata": {},
   "outputs": [
    {
     "name": "stdout",
     "output_type": "stream",
     "text": [
      "['ఎ', 'డ', 'ప', 'క', 'దు', 'ర్జ', 'నుం', 'డొ', 'రు', 'ల', 'కెం', 'త', 'యు', 'గీ', 'డొ', 'న', 'రిం', 'చు', 'ను', 'గా', 'ని', 'యే']\n",
      "18 U ('ను', '|')\n",
      "19 | ('గా', 'U')\n",
      "20 U ('ని', '|')\n",
      "18\n",
      "['యె', 'డ', 'ల', 'ను', 'మే', 'లు', 'సే', 'య', 'డొ', 'క', 'యిం', 'చు', 'క', 'యై', 'న', 'ను', 'జీ', 'డ', 'పు', 'ర్వు', 'తా']\n",
      "21\n",
      "['జె', 'డ', 'ది', 'ను', 'నిం', 'తె', 'కా', 'క', 'పు', 'డి', 'సెం', 'డు', 'జ', 'లం', 'బి', 'డి', 'పెం', 'చ', 'నే', 'ర్చు', 'నే']\n",
      "21\n",
      "['పొ', 'డ', 'వ', 'గు', 'చు', 'న్న', 'పు', 'ష్ప', 'ఫ', 'ల', 'భూ', 'రు', 'హ', 'మొ', 'క్క', 'టిై', 'నె', 'న', 'భా', 'స్క', 'రా']\n",
      "15 | ('టిై', 'U')\n",
      "16 U ('నె', '|')\n",
      "19\n",
      "['ఎ', 'డ', 'ప', 'క', 'దు', 'ర్జ', 'నుం', 'డొ', 'రు', 'ల', 'కెం', 'త', 'యు', 'గీ', 'డొ', 'న', 'రిం', 'చు', 'ను', 'గా', 'ని', 'యే']\n",
      "Yathi Unmatched !  \n",
      "['ఎ', 'డ', 'ప', 'క', 'దు', 'ర్జ', 'నుం', 'డొ', 'రు', 'ల', 'కెం', 'త', 'యు', 'గీ', 'డొ', 'న', 'రిం', 'చు', 'ను', 'గా', 'ని', 'యే']\n",
      "Yathi Unmatched !  \n",
      "['ఎ', 'డ', 'ప', 'క', 'దు', 'ర్జ', 'నుం', 'డొ', 'రు', 'ల', 'కెం', 'త', 'యు', 'గీ', 'డొ', 'న', 'రిం', 'చు', 'ను', 'గా', 'ని', 'యే']\n",
      "Yathi Unmatched !  \n",
      "['ఎ', 'డ', 'ప', 'క', 'దు', 'ర్జ', 'నుం', 'డొ', 'రు', 'ల', 'కెం', 'త', 'యు', 'గీ', 'డొ', 'న', 'రిం', 'చు', 'ను', 'గా', 'ని', 'యే']\n",
      "Yathi Unmatched !  \n",
      "{'డ': 4}\n",
      "Prasa Matched Successfully !\n"
     ]
    },
    {
     "data": {
      "text/plain": [
       "0.7904761904761906"
      ]
     },
     "execution_count": 21,
     "metadata": {},
     "output_type": "execute_result"
    }
   ],
   "source": [
    "# There are 5 lakshanams (constraints/ rules) for a Vrutta padyam to be satisfied.\n",
    "# Following Macro technique as each one is given equal weightage.\n",
    "# Therefore, multiply each one with 1/5 = 0.2\n",
    "score= {\n",
    "            'n_paadalu': 0,\n",
    "            'n_aksharalu': 0,\n",
    "            'gana_kramam': 0,\n",
    "            'yati_sthanam': 0,\n",
    "            'prasa': 0\n",
    "        }\n",
    "\n",
    "count_paadam= n_paadam( padyam= padyam )\n",
    "\n",
    "count_aksharam= n_aksharam( padyam= padyam )\n",
    "pa_score= [] # paadam-aksharam\n",
    "for i in count_aksharam:\n",
    "    pa_score.append( i/ config[\"n_aksharalu\"] )\n",
    "\n",
    "match_gana_kramam= check_vruttam_gana_kramam( \n",
    "                                                padyam= padyam, \n",
    "                                                lakshanam_config= config\n",
    "                                            )\n",
    "\n",
    "match_yati= []\n",
    "lines= [i.strip() for i in padyam.split(\"\\n\")]\n",
    "for i in lines:\n",
    "    yati_value= check_yati( paadam= lines[0], yati_sthanam= config['yati_sthanam'] )\n",
    "    match_yati.append( yati_value )\n",
    "\n",
    "match_prasa= check_prasa( padyam= padyam )\n",
    "\n",
    "\n",
    "weightage_factor= 1\n",
    "score[\"n_paadalu\"]= weightage_factor*count_paadam/ config[\"n_paadalu\"]\n",
    "score[\"n_aksharalu\"]= weightage_factor*sum(pa_score)/ config[\"n_paadalu\"]\n",
    "score[\"gana_kramam\"]= weightage_factor*match_gana_kramam[0]/ match_gana_kramam[1]\n",
    "score[\"yati_sthanam\"]= weightage_factor*sum(match_yati)/ config[\"n_paadalu\"]\n",
    "score[\"prasa\"]= weightage_factor*max( match_prasa.values() )/ config[\"n_paadalu\"]\n",
    "\n",
    "sum(score.values())/ len(score)"
   ]
  },
  {
   "cell_type": "code",
   "execution_count": 13,
   "id": "da9fcd4b",
   "metadata": {},
   "outputs": [
    {
     "data": {
      "text/plain": [
       "{'n_paadalu': 1.0,\n",
       " 'n_aksharalu': 1.0,\n",
       " 'gana_kramam': 0.975,\n",
       " 'yati_sthanam': 1.0,\n",
       " 'prasa': 1.0}"
      ]
     },
     "execution_count": 13,
     "metadata": {},
     "output_type": "execute_result"
    }
   ],
   "source": [
    "score"
   ]
  },
  {
   "cell_type": "code",
   "execution_count": null,
   "id": "ca29e6c7",
   "metadata": {},
   "outputs": [],
   "source": [
    "from chandassu.panimuttu import *\n",
    "from chandassu.laghuvu_guruvu import *\n",
    "from chandassu.ganam import ganamulu\n",
    "\n",
    "lakshanam_config= config"
   ]
  },
  {
   "cell_type": "code",
   "execution_count": 6,
   "id": "bd88f5f6",
   "metadata": {},
   "outputs": [
    {
     "name": "stdout",
     "output_type": "stream",
     "text": [
      "['అ', 'లు', 'గు', 'ట', 'యే', 'యె', 'ఱుం', 'గ', 'ని', 'మ', 'హా', 'మ', 'హి', 'తా', 'త్ము', 'డ', 'జా', 'త', 'శ', 'తృ', 'వే']\n",
      "18 U ('శ', '|')\n",
      "20\n",
      "['య', 'లి', 'గి', 'న', 'నా', 'డు', 'సా', 'గ', 'ర', 'ము', 'ల', 'న్ని', 'యు', 'నే', 'క', 'ము', 'కా', 'క', 'పో', 'వు', 'క']\n",
      "20 U ('క', '|')\n",
      "20\n",
      "['ర్ణు', 'లు', 'ప', 'ది', 'వే', 'వు', 'రై', 'న', 'న', 'ని', 'నొ', 'త్తు', 'రు', 'చ', 'త్తు', 'రు', 'రా', 'జ', 'రా', 'జ', 'నా']\n",
      "21\n",
      "['ప', 'లు', 'కు', 'ల', 'వి', 'శ్వ', 'సిం', 'పు', 'ము', 'వి', 'ప', 'న్ను', 'ల', 'నా', 'ర్తు', 'ల', 'గా', 'వు', 'మె', 'ల్లె', 'డన్']\n",
      "21\n"
     ]
    },
    {
     "data": {
      "text/plain": [
       "(82, 84)"
      ]
     },
     "execution_count": 6,
     "metadata": {},
     "output_type": "execute_result"
    }
   ],
   "source": [
    "expected_match= 0\n",
    "total_match= 0\n",
    "\n",
    "for paadam in extract_paadam( padyam= padyam ):\n",
    "\n",
    "    lg= LaghuvuGuruvu( data= paadam ).generate()\n",
    "\n",
    "    paada_gana_kramam= tuple()\n",
    "    for g in lakshanam_config[\"gana_kramam\"]:\n",
    "        paada_gana_kramam += ganamulu[g]\n",
    "\n",
    "    n_match= 0\n",
    "    for i in range(len(paada_gana_kramam)):\n",
    "        \n",
    "        if paada_gana_kramam[i]== lg[i][1]:\n",
    "            n_match+= 1\n",
    "        \n",
    "        else:\n",
    "            print(i, paada_gana_kramam[i], lg[i])\n",
    "\n",
    "    print(n_match)\n",
    "    expected_match+= len(paada_gana_kramam)\n",
    "    total_match+= n_match  \n",
    "\n",
    "total_match, expected_match"
   ]
  },
  {
   "cell_type": "code",
   "execution_count": 7,
   "id": "0d5e8df1",
   "metadata": {},
   "outputs": [
    {
     "data": {
      "text/plain": [
       "['అలుగుట యే యెఱుంగని మహా మహితాత్ముడజాత శతృవే',\n",
       " 'యలిగిన నాడు సాగరములన్నియు నేకము కాక పోవు క',\n",
       " 'ర్ణులు పదివేవురైన నని నొత్తురు చత్తురు రాజ రాజ నా',\n",
       " 'పలుకుల విశ్వసింపుము విపన్నుల నార్తుల గావుమెల్లెడన్']"
      ]
     },
     "execution_count": 7,
     "metadata": {},
     "output_type": "execute_result"
    }
   ],
   "source": [
    "extract_paadam( padyam= padyam )"
   ]
  },
  {
   "cell_type": "code",
   "execution_count": 5,
   "id": "136cea61",
   "metadata": {},
   "outputs": [
    {
     "data": {
      "text/plain": [
       "[20, 20, 20, 20]"
      ]
     },
     "execution_count": 5,
     "metadata": {},
     "output_type": "execute_result"
    }
   ],
   "source": [
    "n_aksharam( padyam= padyam )"
   ]
  },
  {
   "cell_type": "code",
   "execution_count": 6,
   "id": "f1a92829",
   "metadata": {},
   "outputs": [
    {
     "name": "stdout",
     "output_type": "stream",
     "text": [
      "['తొం', 'డ', 'ము', 'నే', 'క', 'దం', 'త', 'ము', 'ను', 'తో', 'ర', 'పు', 'బొ', 'జ్జ', 'యు', 'వా', 'మ', 'హ', 'స్త', 'మున్']\n",
      "YAthi MAtched !\n"
     ]
    }
   ],
   "source": [
    "yati_value= check_yati( paadam= lines[0], yati_sthanam= l['yati_sthanam'] )"
   ]
  },
  {
   "cell_type": "code",
   "execution_count": 7,
   "id": "7f38dd46",
   "metadata": {},
   "outputs": [
    {
     "name": "stdout",
     "output_type": "stream",
     "text": [
      "{'డ': 4}\n",
      "Prasa Matched Successfully !\n"
     ]
    },
    {
     "data": {
      "text/plain": [
       "{'డ': 4}"
      ]
     },
     "execution_count": 7,
     "metadata": {},
     "output_type": "execute_result"
    }
   ],
   "source": [
    "check_prasa( padyam= padyam )"
   ]
  },
  {
   "cell_type": "code",
   "execution_count": 14,
   "id": "6422f037",
   "metadata": {},
   "outputs": [
    {
     "name": "stdout",
     "output_type": "stream",
     "text": [
      "['తొం', 'డ', 'ము', 'నే', 'క', 'దం', 'త', 'ము', 'ను', 'తో', 'ర', 'పు', 'బొ', 'జ్జ', 'యు', 'వా', 'మ', 'హ', 'స్త', 'మున్']\n",
      "20\n",
      "['మెం', 'డు', 'గ', 'మ్రో', 'యు', 'గ', 'జ్జె', 'లు', 'ను', 'మె', 'ల్ల', 'ని', 'చూ', 'పు', 'లు', 'మం', 'ద', 'హా', 'స', 'మున్']\n",
      "20\n",
      "['కొం', 'డొ', 'క', 'గు', 'జ్జు', 'రూ', 'ప', 'ము', 'న', 'కో', 'రి', 'న', 'వి', 'ద్య', 'ల', 'కె', 'ల్ల', 'నొ', 'జ్జ', 'వై']\n",
      "20\n",
      "['యుం', 'డె', 'డి', 'పా', 'ర్వ', 'తీ', 'త', 'న', 'య', 'యో', 'యి', 'గ', 'ణా', 'ధి', 'ప', 'నీ', 'కు', 'మ్రొ', 'క్కె', 'దన్']\n",
      "20\n"
     ]
    },
    {
     "data": {
      "text/plain": [
       "(80, 80)"
      ]
     },
     "execution_count": 14,
     "metadata": {},
     "output_type": "execute_result"
    }
   ],
   "source": [
    "check_vruttam_gana_kramam( padyam= \"\"\"తొండము నేక దంతమును తోరపు బొజ్జయు వామ హస్తమున్\n",
    "మెండుగ మ్రోయు గజ్జెలును మెల్లని చూపులు మందహాసమున్\n",
    "కొండొక గుజ్జు రూపమున కోరిన విద్యలకెల్ల నొజ్జవై\n",
    "యుండెడి పార్వతీ తనయ యోయి గణాధిప నీకు మ్రొక్కెదన్\"\"\", lakshanam_config= Vruttamu.vutpalamala)"
   ]
  },
  {
   "cell_type": "code",
   "execution_count": 3,
   "id": "fa38891e",
   "metadata": {},
   "outputs": [],
   "source": [
    "data= {\n",
    "    \n",
    "\"padyam\": \"\"\"శ్రీగల భాగ్యశాలి కడఁజేరఁగ వత్తురు తారు దారె దూ\n",
    "రాగమన ప్రయాసమున కాదట నోర్చియునైన నిల్వ ను\n",
    "ద్యోగము చేసి; రత్ననిలయుండని కాదె సమస్తవాహినుల్‌\n",
    "సాగరుఁ జేరుటెల్ల ముని సన్నుత! మద్గురుమూర్తి! భాస్కరా!\"\"\",\n",
    "\n",
    "\"bhedam\": \"vruttamu\",\n",
    "\n",
    "\"type\": \"vutpalamala\"\n",
    "}"
   ]
  },
  {
   "cell_type": "code",
   "execution_count": 2,
   "id": "79ba58d8",
   "metadata": {},
   "outputs": [],
   "source": [
    "import json"
   ]
  },
  {
   "cell_type": "code",
   "execution_count": 8,
   "id": "9c5b592a",
   "metadata": {},
   "outputs": [
    {
     "data": {
      "text/plain": [
       "'{\"padyam\": \"శ్రీగల భాగ్యశాలి కడఁజేరఁగ వత్తురు తారు దారె దూ\\\\nరాగమన ప్రయాసమున కాదట నోర్చియునైన నిల్వ ను\\\\nద్యోగము చేసి; రత్ననిలయుండని కాదె సమస్తవాహినుల్\\u200c\\\\nసాగరుఁ జేరుటెల్ల ముని సన్నుత! మద్గురుమూర్తి! భాస్కరా!\", \"bhedam\": \"vruttamu\", \"type\": \"vutpalamala\"}'"
      ]
     },
     "execution_count": 8,
     "metadata": {},
     "output_type": "execute_result"
    }
   ],
   "source": [
    "json.dumps( data, ensure_ascii=False )"
   ]
  },
  {
   "cell_type": "code",
   "execution_count": 4,
   "id": "a2eb137b",
   "metadata": {},
   "outputs": [],
   "source": [
    "import pandas as pd"
   ]
  },
  {
   "cell_type": "code",
   "execution_count": 5,
   "id": "74f22337",
   "metadata": {},
   "outputs": [
    {
     "data": {
      "text/plain": [
       "'తొండము నేక దంతమును తోరపు బొజ్జయు వామ హస్తమున్\\nమెండుగ మ్రోయు గజ్జెలును మెల్లని చూపులు మందహాసమున్\\nకొండొక గుజ్జు రూపమున కోరిన విద్యలకెల్ల నొజ్జవై\\nయుండెడి పార్వతీ తనయ యోయి గణాధిప నీకు మ్రొక్కెదన్'"
      ]
     },
     "execution_count": 5,
     "metadata": {},
     "output_type": "execute_result"
    }
   ],
   "source": [
    "p= pd.read_excel(\"padyam.xlsx\").iloc[0][\"padyam\"]\n",
    "p"
   ]
  },
  {
   "cell_type": "code",
   "execution_count": 7,
   "id": "3fdee48f",
   "metadata": {},
   "outputs": [
    {
     "name": "stdout",
     "output_type": "stream",
     "text": [
      "Padyam Detected:  VUTPALAMALA\n"
     ]
    },
    {
     "data": {
      "text/plain": [
       "{'score': 1.0,\n",
       " 'per_score': {'n_paadalu': 1.0,\n",
       "  'n_aksharalu': 1.0,\n",
       "  'gana_kramam': 1.0,\n",
       "  'yati_sthanam': 1.0,\n",
       "  'prasa': 1.0}}"
      ]
     },
     "execution_count": 7,
     "metadata": {},
     "output_type": "execute_result"
    }
   ],
   "source": [
    "check_vruttam( padyam= p, type= \"vutpalamala\", verbose= False )"
   ]
  },
  {
   "cell_type": "code",
   "execution_count": null,
   "id": "7eda2a51",
   "metadata": {},
   "outputs": [],
   "source": []
  },
  {
   "cell_type": "code",
   "execution_count": 34,
   "id": "9c910169",
   "metadata": {},
   "outputs": [
    {
     "name": "stdout",
     "output_type": "stream",
     "text": [
      "https://andhrabharati.com/shatakamulu/dAsharathi/index.html\n",
      "https://andhrabharati.com/shatakamulu/dAsharathi/dAsharathi11.html\n",
      "https://andhrabharati.com/shatakamulu/dAsharathi/dAsharathi21.html\n",
      "https://andhrabharati.com/shatakamulu/dAsharathi/dAsharathi31.html\n",
      "https://andhrabharati.com/shatakamulu/dAsharathi/dAsharathi41.html\n",
      "https://andhrabharati.com/shatakamulu/dAsharathi/dAsharathi51.html\n",
      "https://andhrabharati.com/shatakamulu/dAsharathi/dAsharathi61.html\n",
      "https://andhrabharati.com/shatakamulu/dAsharathi/dAsharathi71.html\n",
      "https://andhrabharati.com/shatakamulu/dAsharathi/dAsharathi81.html\n",
      "https://andhrabharati.com/shatakamulu/dAsharathi/dAsharathi91.html\n",
      "https://andhrabharati.com/shatakamulu/dAsharathi/dAsharathi101.html\n"
     ]
    }
   ],
   "source": [
    "from bs4 import BeautifulSoup\n",
    "from urllib.request import urlopen\n",
    "\n",
    "url_list= [\"https://andhrabharati.com/shatakamulu/dAsharathi/index.html\", \"https://andhrabharati.com/shatakamulu/dAsharathi/dAsharathi11.html\",\n",
    "          \"https://andhrabharati.com/shatakamulu/dAsharathi/dAsharathi21.html\", \"https://andhrabharati.com/shatakamulu/dAsharathi/dAsharathi31.html\",\n",
    "          \"https://andhrabharati.com/shatakamulu/dAsharathi/dAsharathi41.html\", \"https://andhrabharati.com/shatakamulu/dAsharathi/dAsharathi51.html\",\n",
    "          \"https://andhrabharati.com/shatakamulu/dAsharathi/dAsharathi61.html\", \"https://andhrabharati.com/shatakamulu/dAsharathi/dAsharathi71.html\",\n",
    "          \"https://andhrabharati.com/shatakamulu/dAsharathi/dAsharathi81.html\", \"https://andhrabharati.com/shatakamulu/dAsharathi/dAsharathi91.html\",\n",
    "          \"https://andhrabharati.com/shatakamulu/dAsharathi/dAsharathi101.html\"]\n",
    "\n",
    "dataset= []\n",
    "\n",
    "for url in url_list:\n",
    "\n",
    "    page = urlopen(url)\n",
    "    html = page.read().decode(\"utf-8\")\n",
    "    soup = BeautifulSoup(html, \"html.parser\")\n",
    "\n",
    "    table_data= soup.find_all(\"table\")[-2]\n",
    "    \n",
    "    row_data= table_data.find_all(\"tr\")\n",
    "\n",
    "    for row in row_data:\n",
    "\n",
    "        temp= row.find_all( \"td\" )\n",
    "        type= temp[0].get_text()\n",
    "        padyam= temp[1].get_text().strip()\n",
    "\n",
    "        dataset.append( [padyam, \"vruttamu\", type, \"daasarathi\"] )\n",
    "    \n",
    "    print( url )"
   ]
  },
  {
   "cell_type": "code",
   "execution_count": 1,
   "id": "b22293d1",
   "metadata": {},
   "outputs": [
    {
     "ename": "NameError",
     "evalue": "name 'pd' is not defined",
     "output_type": "error",
     "traceback": [
      "\u001b[1;31m---------------------------------------------------------------------------\u001b[0m",
      "\u001b[1;31mNameError\u001b[0m                                 Traceback (most recent call last)",
      "Cell \u001b[1;32mIn[1], line 1\u001b[0m\n\u001b[1;32m----> 1\u001b[0m \u001b[43mpd\u001b[49m\u001b[38;5;241m.\u001b[39mDataFrame(dataset, columns\u001b[38;5;241m=\u001b[39m [\u001b[38;5;124m\"\u001b[39m\u001b[38;5;124mpadyam\u001b[39m\u001b[38;5;124m\"\u001b[39m, \u001b[38;5;124m\"\u001b[39m\u001b[38;5;124mbhedam\u001b[39m\u001b[38;5;124m\"\u001b[39m, \u001b[38;5;124m\"\u001b[39m\u001b[38;5;124mtype\u001b[39m\u001b[38;5;124m\"\u001b[39m, \u001b[38;5;124m\"\u001b[39m\u001b[38;5;124msatakam\u001b[39m\u001b[38;5;124m\"\u001b[39m])[\u001b[38;5;124m\"\u001b[39m\u001b[38;5;124mtype\u001b[39m\u001b[38;5;124m\"\u001b[39m]\u001b[38;5;241m.\u001b[39mvalue_counts()\n",
      "\u001b[1;31mNameError\u001b[0m: name 'pd' is not defined"
     ]
    }
   ],
   "source": [
    "pd.DataFrame(dataset, columns= [\"padyam\", \"bhedam\", \"type\", \"satakam\"])[\"type\"].value_counts()"
   ]
  },
  {
   "cell_type": "code",
   "execution_count": 29,
   "id": "6dc3849f",
   "metadata": {},
   "outputs": [
    {
     "data": {
      "text/plain": [
       "'\\nశ్రీరఘురామ చారుతులసీదళదామ శమక్షమాది శృం\\nగారగుణాభిరామ త్రిజగన్నుతశౌర్యరమాలలామ దు\\nర్వార కబంధరాక్షసవిరామ జగజ్జనకల్మషార్ణవో\\nత్తారకనామ భద్రగిరి దాశరథీ! కరుణాపయోనిధీ!  '"
      ]
     },
     "execution_count": 29,
     "metadata": {},
     "output_type": "execute_result"
    }
   ],
   "source": [
    "padyam"
   ]
  },
  {
   "cell_type": "code",
   "execution_count": null,
   "id": "e139577c",
   "metadata": {},
   "outputs": [
    {
     "data": {
      "text/plain": [
       "<td>ఉ.</td>"
      ]
     },
     "execution_count": 25,
     "metadata": {},
     "output_type": "execute_result"
    }
   ],
   "source": []
  },
  {
   "cell_type": "code",
   "execution_count": null,
   "id": "8f5289c9",
   "metadata": {},
   "outputs": [],
   "source": []
  }
 ],
 "metadata": {
  "kernelspec": {
   "display_name": "base",
   "language": "python",
   "name": "python3"
  },
  "language_info": {
   "codemirror_mode": {
    "name": "ipython",
    "version": 3
   },
   "file_extension": ".py",
   "mimetype": "text/x-python",
   "name": "python",
   "nbconvert_exporter": "python",
   "pygments_lexer": "ipython3",
   "version": "3.11.3"
  }
 },
 "nbformat": 4,
 "nbformat_minor": 5
}
