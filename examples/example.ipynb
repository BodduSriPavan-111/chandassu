{
 "cells": [
  {
   "cell_type": "code",
   "execution_count": 1,
   "id": "133d5ac1",
   "metadata": {},
   "outputs": [],
   "source": [
    "import sys\n",
    "import os\n",
    "\n",
    "sys.path.append(os.path.abspath(os.path.join(os.getcwd(), '..')))\n",
    "\n",
    "from chandassu.varnamala import Varnamala\n",
    "from chandassu.nidhi import lg_map, varnamala, gunintha_chihnam\n",
    "from chandassu.laghuvu_guruvu import LaghuvuGuruvu"
   ]
  },
  {
   "cell_type": "code",
   "execution_count": 1,
   "id": "6177c284",
   "metadata": {},
   "outputs": [
    {
     "name": "stdout",
     "output_type": "stream",
     "text": [
      "['కో', 'తి']\n",
      "కోU and తి|\n"
     ]
    }
   ],
   "source": [
    "import regex as re\n",
    "gunintha_chihnam= {\"\":\"|\",\"ా\":\"U\",\"ి\":\"|\",\"ీ\":\"U\",\"ు\":\"|\",\"ూ\":\"U\",\"ృ\":\"|\",\"ౄ\":\"U\",\"ె\":\"|\",\"ే\":\"U\",\"ై\":\"U\",\"ొ\":\"|\",\"ో\":\"U\",\"ౌ\":\"U\",\"ಂ\":\"U\",\"ಃ\":\"U\"}\n",
    "word=\"కోతి\" \n",
    "def laghuvu_guruvu(letter):\n",
    "    a=len(letter)\n",
    "    if(a>1):\n",
    "        return gunintha_chihnam.get(letter[-1],\"|\")\n",
    "    return letters.get(letter,\"|\")  \n",
    "def appending(word):\n",
    "    exp=re.findall(r\"\\X\",word)\n",
    "    print(exp)\n",
    "    res=[]\n",
    "    for i in range(len(exp)-1):\n",
    "        ith=exp[i]\n",
    "        jth=exp[i+1]\n",
    "        ith_word=laghuvu_guruvu(ith)\n",
    "        jth_word=laghuvu_guruvu(jth)\n",
    "        print(f\"{ith :}{ith_word} and {jth :}{jth_word}\")\n",
    "appending(word)"
   ]
  },
  {
   "cell_type": "code",
   "execution_count": 11,
   "id": "b9399a00",
   "metadata": {},
   "outputs": [
    {
     "data": {
      "text/plain": [
       "'స్వాతంత్రం'"
      ]
     },
     "execution_count": 11,
     "metadata": {},
     "output_type": "execute_result"
    }
   ],
   "source": [
    "word=\"స్వాతంత్రం\" \n",
    "word"
   ]
  },
  {
   "cell_type": "code",
   "execution_count": 51,
   "id": "c72dbb4e",
   "metadata": {},
   "outputs": [
    {
     "data": {
      "text/plain": [
       "['స్', 'వా', 'తం', 'త్', 'రం', ',', ' ', 'వ', 'స్', ' ']"
      ]
     },
     "execution_count": 51,
     "metadata": {},
     "output_type": "execute_result"
    }
   ],
   "source": [
    "import regex as re\n",
    "\n",
    "word=\"స్వాతంత్రం, వస్ \" \n",
    "l= re.findall(r\"\\X\",word)\n",
    "l"
   ]
  },
  {
   "cell_type": "code",
   "execution_count": 58,
   "id": "05c045e1",
   "metadata": {},
   "outputs": [
    {
     "name": "stdout",
     "output_type": "stream",
     "text": [
      "_________\n"
     ]
    }
   ],
   "source": [
    "index= 0\n",
    "\n",
    "word= []\n",
    "lg= []\n",
    "\n",
    "temp= \"\"\n",
    "\n",
    "while index< len(l):\n",
    "\n",
    "    if l[index].isspace() or l[index] in list(\"\"\"` ~ ! @ # $ % ^ & * ( ) _ - + = { } [ ] \\ | ; : ' \" , < > . / ?\"\"\"):\n",
    "        word.append( l[index] )\n",
    "        index+= 1\n",
    "        continue\n",
    "\n",
    "    if l[index].endswith('్') and temp == \"\" and not l[index+1].isspace():\n",
    "\n",
    "        temp+= l[index]\n",
    "        index+= 1\n",
    "        past= False\n",
    "\n",
    "    elif (not l[index].endswith('్')) and temp != \"\":\n",
    "\n",
    "        aksharam= temp+l[index]\n",
    "        word.append( aksharam )\n",
    "        lg.append( lg_map[l[index]] )\n",
    "        index+= 1\n",
    "        temp= \"\"\n",
    "    \n",
    "    elif (not l[index].endswith('్')) and temp == \"\":\n",
    "\n",
    "        word.append( l[index] )\n",
    "        lg.append( lg_map[l[index]] )\n",
    "        index+= 1\n",
    "    \n",
    "    elif l[index].endswith('్') and (index+1 == len(l) or l[index+1].isspace() ):\n",
    "\n",
    "        print(\"_________\")\n",
    "        word[-1]+= l[index]\n",
    "        lg[-1]= \"U\"\n",
    "        index+= 1"
   ]
  },
  {
   "cell_type": "code",
   "execution_count": 59,
   "id": "4355029c",
   "metadata": {},
   "outputs": [
    {
     "data": {
      "text/plain": [
       "(['స్వా', 'తం', 'త్రం', ',', ' ', 'వస్', ' '], ['U', 'U', 'U', 'U'])"
      ]
     },
     "execution_count": 59,
     "metadata": {},
     "output_type": "execute_result"
    }
   ],
   "source": [
    "word, lg"
   ]
  },
  {
   "cell_type": "code",
   "execution_count": 15,
   "id": "d8943994",
   "metadata": {},
   "outputs": [
    {
     "data": {
      "text/plain": [
       "True"
      ]
     },
     "execution_count": 15,
     "metadata": {},
     "output_type": "execute_result"
    }
   ],
   "source": [
    "\" \".isspace()"
   ]
  },
  {
   "cell_type": "code",
   "execution_count": 15,
   "id": "f604ec11",
   "metadata": {},
   "outputs": [],
   "source": [
    "index= 0\n",
    "\n",
    "word= []\n",
    "\n",
    "temp= \"\"\n",
    "\n",
    "for index in range(len(l)):\n",
    "\n",
    "    if l[index].endswith('్') and temp == \"\":\n",
    "        temp+= l[index]\n",
    "\n",
    "    elif (not l[index].endswith('్')) and temp != \"\":\n",
    "\n",
    "        word.append( temp+l[index] )\n",
    "        temp= \"\"\n",
    "    \n",
    "    elif (not l[index].endswith('్')) and temp == \"\":\n",
    "        word.append( l[index] )\n",
    "        temp= \"\"\n",
    "    \n",
    "    else:\n",
    "        print(\"Unknown Case !\")"
   ]
  },
  {
   "cell_type": "code",
   "execution_count": 16,
   "id": "29e7ae9d",
   "metadata": {},
   "outputs": [
    {
     "data": {
      "text/plain": [
       "['స్వా', 'తం', 'త్రం']"
      ]
     },
     "execution_count": 16,
     "metadata": {},
     "output_type": "execute_result"
    }
   ],
   "source": [
    "word"
   ]
  },
  {
   "cell_type": "code",
   "execution_count": 1,
   "id": "3db5b668",
   "metadata": {},
   "outputs": [],
   "source": [
    "import sys\n",
    "import os\n",
    "\n",
    "sys.path.append(os.path.abspath(os.path.join(os.getcwd(), '..')))\n",
    "\n",
    "from chandassu.varnamala import Varnamala\n",
    "from chandassu.nidhi import lg_map, varnamala, gunintha_chihnam\n",
    "from chandassu.laghuvu_guruvu import LaghuvuGuruvu\n",
    "from chandassu.lakshanam import n_paadam, n_aksharam, check_yati"
   ]
  },
  {
   "cell_type": "code",
   "execution_count": 7,
   "id": "2e65367c",
   "metadata": {},
   "outputs": [
    {
     "name": "stdout",
     "output_type": "stream",
     "text": [
      "['తొం', 'డ', 'ము', 'నే', 'క', 'దం', 'త', 'ము', 'ను', 'తో', 'ర', 'పు', 'బొ', 'జ్జ', 'యు', 'వా', 'మ', 'హ', 'స్త', 'మున్']\n",
      "YAthi MAtched !\n"
     ]
    },
    {
     "data": {
      "text/plain": [
       "True"
      ]
     },
     "execution_count": 7,
     "metadata": {},
     "output_type": "execute_result"
    }
   ],
   "source": [
    "check_yati(\n",
    "            paadam= \"తొండము నేక దంతమును తోరపు బొజ్జయు వామ హస్తమున్\",\n",
    "            yati_sthanam= 10,\n",
    "        )"
   ]
  },
  {
   "cell_type": "code",
   "execution_count": 2,
   "id": "a21dfd1a",
   "metadata": {},
   "outputs": [],
   "source": [
    "p= '''ఉప్పుకప్పురంబు ఒక్కపోలికనుండు,\n",
    "                    చూడచూడ రుచుల జాడవేరు,\n",
    "                    పురుషులందు పుణ్యపురుషులు వేరయా\n",
    "                    విశ్వదాభిరామ వినుర వేమ!'''"
   ]
  },
  {
   "cell_type": "code",
   "execution_count": 3,
   "id": "6d6290c1",
   "metadata": {},
   "outputs": [
    {
     "data": {
      "text/plain": [
       "4"
      ]
     },
     "execution_count": 3,
     "metadata": {},
     "output_type": "execute_result"
    }
   ],
   "source": [
    "len(p.split(\"\\n\"))"
   ]
  },
  {
   "cell_type": "code",
   "execution_count": 4,
   "id": "e928b598",
   "metadata": {},
   "outputs": [
    {
     "name": "stdout",
     "output_type": "stream",
     "text": [
      "ఉప్పుకప్పురంబు ఒక్కపోలికనుండు,________['ఉ', 'ప్పు', 'క', 'ప్పు', 'రం', 'బు', 'ఒ', 'క్క', 'పో', 'లి', 'క', 'నుం', 'డు']\n",
      "చూడచూడ రుచుల జాడవేరు,________['చూ', 'డ', 'చూ', 'డ', 'రు', 'చు', 'ల', 'జా', 'డ', 'వే', 'రు']\n",
      "పురుషులందు పుణ్యపురుషులు వేరయా________['పు', 'రు', 'షు', 'లం', 'దు', 'పు', 'ణ్య', 'పు', 'రు', 'షు', 'లు', 'వే', 'ర', 'యా']\n",
      "విశ్వదాభిరామ వినుర వేమ!________['వి', 'శ్వ', 'దా', 'భి', 'రా', 'మ', 'వి', 'ను', 'ర', 'వే', 'మ']\n"
     ]
    }
   ],
   "source": [
    "n_letters= []\n",
    "\n",
    "for i in p.split(\"\\n\"):\n",
    "\n",
    "    lg= LaghuvuGuruvu( data= i.strip() )\n",
    "    print( i.strip(), lg.split_by_letter(), sep= \"________\" )\n",
    "    n_letters.append( len(lg.split_by_letter()) )"
   ]
  },
  {
   "cell_type": "code",
   "execution_count": 7,
   "id": "0eae7e75",
   "metadata": {},
   "outputs": [],
   "source": [
    "lg= LaghuvuGuruvu( data= \"స్వాతంత్రవస్\" ) #data= \"స్వాతంత్రవస్ తంత్రదీన్నిప్రయత్నించ ,డాన\" ) #data= \"దీన్నిప్రయత్నించ ,డానమీభాషనుమరియు\" )"
   ]
  },
  {
   "cell_type": "code",
   "execution_count": 8,
   "id": "12173e99",
   "metadata": {},
   "outputs": [
    {
     "name": "stdout",
     "output_type": "stream",
     "text": [
      "['స్వా', 'తం', 'త్ర', 'వస్']\n"
     ]
    },
    {
     "data": {
      "text/plain": [
       "[('స్వా', 'U'), ('తం', 'U'), ('త్ర', '|'), ('వస్', 'U')]"
      ]
     },
     "execution_count": 8,
     "metadata": {},
     "output_type": "execute_result"
    }
   ],
   "source": [
    "lg.generate()"
   ]
  },
  {
   "cell_type": "code",
   "execution_count": null,
   "id": "c8fccc7b",
   "metadata": {},
   "outputs": [],
   "source": [
    "def remove_gunintha_chihnam( x ):\n",
    "    l= \"\"\n",
    "    for i in x:\n",
    "        if i not in gunintha_chihnam:\n",
    "            l+= i\n",
    "    return l"
   ]
  },
  {
   "cell_type": "code",
   "execution_count": 27,
   "id": "6bef4bbc",
   "metadata": {},
   "outputs": [],
   "source": [
    "def check_prasa( padyam, index= 1 ):\n",
    "\n",
    "    padya_paadaalu= padyam.split(\"\\n\")\n",
    "\n",
    "    frequency= {}\n",
    "\n",
    "    for i in padya_paadaalu:\n",
    "        aksharam= remove_gunintha_chihnam( LaghuvuGuruvu( data= i ).split_by_letter()[index] )\n",
    "        frequency[aksharam]= frequency.get( aksharam , 0) + 1\n",
    "\n",
    "    print( frequency )\n",
    "    if len( frequency ) != 1:\n",
    "        print(\"Prasa Mismatch occurred !\")\n",
    "        return None\n",
    "    else:\n",
    "        print(\"Prasa Matched Successfully !\")\n",
    "        return frequency"
   ]
  },
  {
   "cell_type": "code",
   "execution_count": 29,
   "id": "febd7d6e",
   "metadata": {},
   "outputs": [
    {
     "name": "stdout",
     "output_type": "stream",
     "text": [
      "{'వ': 4}\n",
      "Prasa Matched Successfully !\n"
     ]
    },
    {
     "data": {
      "text/plain": [
       "{'వ': 4}"
      ]
     },
     "execution_count": 29,
     "metadata": {},
     "output_type": "execute_result"
    }
   ],
   "source": [
    "check_prasa( padyam= \"\"\"  ఆ విఘ్నేశుడు సిద్ధిబుద్దు లిడగా నార్బాటముల్ దగ్గగా,\n",
    "            యావన్మందికి విద్య యన్న వసువే యార్జింప గర్వంబుగా,\n",
    "             సేవాభావము వృద్ధి నొంది ధరలో సేద్యంబు పెంపారగన్ \n",
    "             శ్రీ విశ్వావసు నామవత్సరమిలన్ శ్రీ గూర్చి దీవించుమా!!! \"\"\" )"
   ]
  },
  {
   "cell_type": "code",
   "execution_count": 9,
   "id": "565a28ec",
   "metadata": {},
   "outputs": [
    {
     "data": {
      "text/plain": [
       "['తొండము నేక దంతమును తోరపు బొజ్జయు వామ హస్తమున్',\n",
       " 'మెండుగ మ్రోయు గజ్జెలును మెల్లని చూపులు మందహాసమున్',\n",
       " 'కొండొక గుజ్జు రూపమున కోరిన విద్యలకెల్ల నొజ్జవై',\n",
       " 'యుండెడి పార్వతీ తనయ యోయి గణాధిప నీకు మ్రొక్కెదన్']"
      ]
     },
     "execution_count": 9,
     "metadata": {},
     "output_type": "execute_result"
    }
   ],
   "source": [
    "padyam= \"\"\"తొండము నేక దంతమును తోరపు బొజ్జయు వామ హస్తమున్\n",
    "మెండుగ మ్రోయు గజ్జెలును మెల్లని చూపులు మందహాసమున్\n",
    "కొండొక గుజ్జు రూపమున కోరిన విద్యలకెల్ల నొజ్జవై\n",
    "యుండెడి పార్వతీ తనయ యోయి గణాధిప నీకు మ్రొక్కెదన్\"\"\"\n",
    "padya_paadaalu= padyam.split(\"\\n\")\n",
    "padya_paadaalu"
   ]
  },
  {
   "cell_type": "code",
   "execution_count": 13,
   "id": "80f4f46b",
   "metadata": {},
   "outputs": [
    {
     "name": "stdout",
     "output_type": "stream",
     "text": [
      "డ ['తొం', 'డ', 'ము', 'నే', 'క', 'దం', 'త', 'ము', 'ను', 'తో', 'ర', 'పు', 'బొ', 'జ్జ', 'యు', 'వా', 'మ', 'హ', 'స్త', 'మున్']\n",
      "డు ['మెం', 'డు', 'గ', 'మ్రో', 'యు', 'గ', 'జ్జె', 'లు', 'ను', 'మె', 'ల్ల', 'ని', 'చూ', 'పు', 'లు', 'మం', 'ద', 'హా', 'స', 'మున్']\n",
      "డొ ['కొం', 'డొ', 'క', 'గు', 'జ్జు', 'రూ', 'ప', 'ము', 'న', 'కో', 'రి', 'న', 'వి', 'ద్య', 'ల', 'కె', 'ల్ల', 'నొ', 'జ్జ', 'వై']\n",
      "డె ['యుం', 'డె', 'డి', 'పా', 'ర్వ', 'తీ', 'త', 'న', 'య', 'యో', 'యి', 'గ', 'ణా', 'ధి', 'ప', 'నీ', 'కు', 'మ్రొ', 'క్కె', 'దన్']\n"
     ]
    }
   ],
   "source": [
    "for i in padya_paadaalu:\n",
    "    lg= LaghuvuGuruvu( data= i ).split_by_letter()\n",
    "    print(lg[1], lg)"
   ]
  },
  {
   "cell_type": "code",
   "execution_count": 15,
   "id": "3341cf0b",
   "metadata": {},
   "outputs": [
    {
     "data": {
      "text/plain": [
       "['డ', 'ె']"
      ]
     },
     "execution_count": 15,
     "metadata": {},
     "output_type": "execute_result"
    }
   ],
   "source": [
    "list(lg[1])"
   ]
  },
  {
   "cell_type": "code",
   "execution_count": null,
   "id": "3a41328f",
   "metadata": {},
   "outputs": [],
   "source": []
  },
  {
   "cell_type": "code",
   "execution_count": 19,
   "id": "194173fa",
   "metadata": {},
   "outputs": [
    {
     "data": {
      "text/plain": [
       "'మ్ర'"
      ]
     },
     "execution_count": 19,
     "metadata": {},
     "output_type": "execute_result"
    }
   ],
   "source": [
    "remove_gunintha_chihnam(\"మ్రొ\")"
   ]
  },
  {
   "cell_type": "code",
   "execution_count": 7,
   "id": "40685f42",
   "metadata": {},
   "outputs": [
    {
     "name": "stdout",
     "output_type": "stream",
     "text": [
      "['యుం', 'డె', 'డి', 'పా', 'ర్వ', 'తీ', 'త', 'న', 'య', 'యో', 'యి', 'గ', 'ణా', 'ధి', 'ప', 'నీ', 'కు', 'మ్రొ', 'క్కె', 'దన్']\n"
     ]
    },
    {
     "data": {
      "text/plain": [
       "[('యుం', 'U'),\n",
       " ('డె', '|'),\n",
       " ('డి', '|'),\n",
       " ('పా', 'U'),\n",
       " ('ర్వ', '|'),\n",
       " ('తీ', 'U'),\n",
       " ('త', '|'),\n",
       " ('న', '|'),\n",
       " ('య', '|'),\n",
       " ('యో', 'U'),\n",
       " ('యి', '|'),\n",
       " ('గ', '|'),\n",
       " ('ణా', 'U'),\n",
       " ('ధి', '|'),\n",
       " ('ప', '|'),\n",
       " ('నీ', 'U'),\n",
       " ('కు', 'U'),\n",
       " ('మ్రొ', 'U'),\n",
       " ('క్కె', '|'),\n",
       " ('దన్', 'U')]"
      ]
     },
     "execution_count": 7,
     "metadata": {},
     "output_type": "execute_result"
    }
   ],
   "source": [
    "lg= LaghuvuGuruvu( data= split_padyam[3] )\n",
    "lg.generate()"
   ]
  },
  {
   "cell_type": "code",
   "execution_count": 23,
   "id": "109d03db",
   "metadata": {},
   "outputs": [
    {
     "data": {
      "text/plain": [
       "3093"
      ]
     },
     "execution_count": 23,
     "metadata": {},
     "output_type": "execute_result"
    }
   ],
   "source": [
    "ord('క')"
   ]
  },
  {
   "cell_type": "code",
   "execution_count": null,
   "id": "a121614f",
   "metadata": {},
   "outputs": [],
   "source": [
    "# HAndle letters with >= 3 combined"
   ]
  },
  {
   "cell_type": "code",
   "execution_count": 50,
   "id": "a8bd8ac4",
   "metadata": {},
   "outputs": [],
   "source": [
    "padyam= \"\"\"పదముల బట్టినం దలకుబా టొకయింతయు లేక శూరతన్\n",
    "మదగజవల్లభుండు మతిమంతుడు దంతయు గాంత ఘట్టనం\n",
    "జెదరగ జిమ్మె నమ్మకరిచిప్పలు పాదులు దప్పనొప్పఱన్\n",
    "వదలి జలగ్రహంబు కరివాలముమూలముజీరె గోఱలన్.\"\"\""
   ]
  },
  {
   "cell_type": "code",
   "execution_count": 51,
   "id": "fa3cec2d",
   "metadata": {},
   "outputs": [],
   "source": [
    "def extract_gunintha_chihnam( x ):\n",
    "    l= \"\"\n",
    "    for i in gunintha_chihnam:\n",
    "        if i in x:\n",
    "            l= i\n",
    "    \n",
    "    if l== \"\":\n",
    "        l= \" \"\n",
    "        \n",
    "    return l"
   ]
  },
  {
   "cell_type": "code",
   "execution_count": null,
   "id": "01ed36da",
   "metadata": {},
   "outputs": [
    {
     "name": "stdout",
     "output_type": "stream",
     "text": [
      "YAthi MAtched !\n",
      "['ప', ' ']---బా---False\n",
      "YAthi MAtched !\n",
      "['మ', ' ']---['మ', ' ']---False\n",
      "YAthi MAtched !\n",
      "జె---చి---False\n",
      "YAthi MAtched !\n",
      "['వ', ' ']---వా---False\n"
     ]
    }
   ],
   "source": [
    "yati_sthanam= 11\n",
    "\n",
    "lines= [i.strip() for i in padyam.split(\"\\n\")]\n",
    "for paadam in lines:\n",
    "    \n",
    "    letters= LaghuvuGuruvu( data= paadam ).split_by_letter()\n",
    "\n",
    "    # print( letters)\n",
    "\n",
    "    first_letter= letters[0]\n",
    "    yati_sthanam_letter= letters[ yati_sthanam-1 ]\n",
    "\n",
    "    first_letter= first_letter.replace('ం', \"\")\n",
    "    first_letter= first_letter.replace(\"ಂ\", \"\")\n",
    "    yati_sthanam_letter= yati_sthanam_letter.replace('ం', \"\")\n",
    "    yati_sthanam_letter= yati_sthanam_letter.replace(\"ಂ\", \"\")\n",
    "\n",
    "    samdit= False\n",
    "    if len(extract_aksharam(first_letter))> 1:\n",
    "        samdit= True\n",
    "\n",
    "    if samdit:\n",
    "        chihnam_a= extract_gunintha_chihnam( first_letter )\n",
    "        chihnam_b= extract_gunintha_chihnam( yati_sthanam_letter )\n",
    "\n",
    "        chihna_yati= False\n",
    "\n",
    "        for i in yati:\n",
    "\n",
    "            if chihnam_a in i:\n",
    "\n",
    "                if chihnam_b in i:\n",
    "                    chihna_yati= True\n",
    "\n",
    "                else:\n",
    "                    print(\"Chihna Yathi Unmatched !\", chihnam_a)\n",
    "\n",
    "        flag= False\n",
    "\n",
    "        for i in list(set(extract_aksharam(first_letter))):\n",
    "            print(i)\n",
    "            for j in yati:\n",
    "\n",
    "                if i in j:\n",
    "\n",
    "                    flag= False\n",
    "                    for k in list(set(extract_aksharam(yati_sthanam_letter))):\n",
    "                        \n",
    "                        if k in j:\n",
    "                            flag= True\n",
    "                            break\n",
    "        \n",
    "        if chihna_yati and flag:\n",
    "            print( \"Yathi Matched !\")\n",
    "\n",
    "\n",
    "    else:\n",
    "        if len(first_letter)==1:\n",
    "            first_letter= [first_letter]+[' ']\n",
    "\n",
    "        if len(yati_sthanam_letter)==1:\n",
    "            yati_sthanam_letter= [yati_sthanam_letter]+[\" \"]\n",
    "\n",
    "        temp= []\n",
    "        for i in first_letter:\n",
    "\n",
    "            for j in yati:\n",
    "\n",
    "                if i in j:\n",
    "                    \n",
    "                    flag= False\n",
    "                    for k in yati_sthanam_letter:\n",
    "                        if k in j:\n",
    "                            flag= True\n",
    "                            break\n",
    "\n",
    "                    if flag== True:\n",
    "                        temp.append( True )\n",
    "                    else:\n",
    "                        temp.append( False )\n",
    "                        print(\"Yathi Unmatched !\", i)\n",
    "        \n",
    "        if all( temp ):\n",
    "            print( \"YAthi MAtched !\" )\n",
    "\n",
    "    print( first_letter, yati_sthanam_letter, samdit, sep= \"---\")"
   ]
  },
  {
   "cell_type": "code",
   "execution_count": 33,
   "id": "1776c6a7",
   "metadata": {},
   "outputs": [
    {
     "data": {
      "text/plain": [
       "True"
      ]
     },
     "execution_count": 33,
     "metadata": {},
     "output_type": "execute_result"
    }
   ],
   "source": [
    "all( [True, True])"
   ]
  },
  {
   "cell_type": "code",
   "execution_count": 57,
   "id": "55d7e2de",
   "metadata": {},
   "outputs": [
    {
     "data": {
      "text/plain": [
       "'మ'"
      ]
     },
     "execution_count": 57,
     "metadata": {},
     "output_type": "execute_result"
    }
   ],
   "source": [
    "\"మం\".replace('ం', \"\")"
   ]
  },
  {
   "cell_type": "code",
   "execution_count": null,
   "id": "ae5df5b2",
   "metadata": {},
   "outputs": [],
   "source": [
    "'ం', \"ಂ\""
   ]
  },
  {
   "cell_type": "code",
   "execution_count": null,
   "id": "bb386798",
   "metadata": {},
   "outputs": [],
   "source": []
  },
  {
   "cell_type": "code",
   "execution_count": 3,
   "id": "2ca426e1",
   "metadata": {},
   "outputs": [
    {
     "data": {
      "text/plain": [
       "['ఇ', 'య', 'తం', 'త్ర', 'స్వా', 'స్వే', 'రో', 'స్వా', 'వస్']"
      ]
     },
     "execution_count": 3,
     "metadata": {},
     "output_type": "execute_result"
    }
   ],
   "source": [
    "lg= LaghuvuGuruvu( data= \"ఇయతంత్రస్వా స్వేరో స్వావస్\" )\n",
    "lg.split_by_letter()"
   ]
  },
  {
   "cell_type": "code",
   "execution_count": 4,
   "id": "e3b29b5d",
   "metadata": {},
   "outputs": [
    {
     "data": {
      "text/plain": [
       "('ఇ', 'యి')"
      ]
     },
     "execution_count": 4,
     "metadata": {},
     "output_type": "execute_result"
    }
   ],
   "source": [
    "yati_sthanam= 5\n",
    "mythri= False\n",
    "\n",
    "letters= lg.split_by_letter()\n",
    "first_letter= letters[0]\n",
    "yati_sthanam_letter= \"యి\" #letters[ yati_sthanam ]\n",
    "\n",
    "first_letter, yati_sthanam_letter"
   ]
  },
  {
   "cell_type": "code",
   "execution_count": null,
   "id": "c1bf2dd4",
   "metadata": {},
   "outputs": [],
   "source": []
  },
  {
   "cell_type": "code",
   "execution_count": null,
   "id": "a663a941",
   "metadata": {},
   "outputs": [],
   "source": []
  },
  {
   "cell_type": "code",
   "execution_count": 8,
   "id": "1c7c2d3d",
   "metadata": {},
   "outputs": [
    {
     "name": "stdout",
     "output_type": "stream",
     "text": [
      "Yathi MAtched !\n",
      "Yathi MAtched !\n"
     ]
    }
   ],
   "source": [
    "samdit= False\n",
    "if len(extract_aksharam(first_letter))> 1:\n",
    "    samdit= True\n",
    "\n",
    "if not samdit:\n",
    "    if len(first_letter)==1:\n",
    "        first_letter= [first_letter]+[' ']\n",
    "\n",
    "    if len(yati_sthanam_letter)==1:\n",
    "        yati_sthanam_letter= [yati_sthanam_letter]+[\" \"]\n",
    "\n",
    "    for i in first_letter:\n",
    "\n",
    "        for j in yati:\n",
    "\n",
    "            if i in j:\n",
    "                \n",
    "                flag= False\n",
    "                for k in yati_sthanam_letter:\n",
    "                    if k in j:\n",
    "                        flag= True\n",
    "                        break\n",
    "\n",
    "                if flag== True:\n",
    "                    print(\"Yathi MAtched !\")\n",
    "                else:\n",
    "                    print(\"Yathi Unmatched !\", i)"
   ]
  },
  {
   "cell_type": "code",
   "execution_count": 226,
   "id": "dae381b3",
   "metadata": {},
   "outputs": [
    {
     "data": {
      "text/plain": [
       "'స్వీయతంత్రస్వా స్వేరో స్వావస్'"
      ]
     },
     "execution_count": 226,
     "metadata": {},
     "output_type": "execute_result"
    }
   ],
   "source": [
    "lg.data"
   ]
  },
  {
   "cell_type": "code",
   "execution_count": 16,
   "id": "44968733",
   "metadata": {},
   "outputs": [
    {
     "name": "stdout",
     "output_type": "stream",
     "text": [
      "['స్వ', 'య', 'తం', 'త్ర', 'స్వా', 'స్వా', 'స్వే', 'రో', 'స్వా', 'వస్']\n"
     ]
    },
    {
     "data": {
      "text/plain": [
       "('స్వ', 'స్వా')"
      ]
     },
     "execution_count": 16,
     "metadata": {},
     "output_type": "execute_result"
    }
   ],
   "source": [
    "lg= LaghuvuGuruvu( data= \"స్వయతంత్రస్వా స్వాస్వేరో స్వావస్\" )\n",
    "print( lg.split_by_letter() )\n",
    "\n",
    "yati_sthanam= 5\n",
    "mythri= False\n",
    "\n",
    "letters= lg.split_by_letter()\n",
    "first_letter= letters[0]\n",
    "yati_sthanam_letter= letters[ yati_sthanam ]\n",
    "\n",
    "first_letter, yati_sthanam_letter"
   ]
  },
  {
   "cell_type": "code",
   "execution_count": null,
   "id": "271f08e2",
   "metadata": {},
   "outputs": [
    {
     "name": "stdout",
     "output_type": "stream",
     "text": [
      "Yathi Matched !\n",
      "వ\n",
      "స\n"
     ]
    },
    {
     "data": {
      "text/plain": [
       "True"
      ]
     },
     "execution_count": 18,
     "metadata": {},
     "output_type": "execute_result"
    }
   ],
   "source": [
    "chihnam_a= extract_gunintha_chihnam( first_letter )\n",
    "chihnam_b= extract_gunintha_chihnam( yati_sthanam_letter )\n",
    "\n",
    "chihnam_a, chihnam_b\n",
    "\n",
    "chihna_yati= False\n",
    "\n",
    "for i in yati:\n",
    "\n",
    "    if chihnam_a in i:\n",
    "\n",
    "        if chihnam_b in i:\n",
    "            print(\"Yathi Matched !\")\n",
    "            chihna_yati= True\n",
    "\n",
    "        else:\n",
    "            print(\"Yathi Unmatched !\", chihnam_a)\n",
    "\n",
    "flag= False\n",
    "\n",
    "for i in list(set(extract_aksharam(first_letter))):\n",
    "    print(i)\n",
    "    for j in yati:\n",
    "\n",
    "        if i in j:\n",
    "\n",
    "            flag= False\n",
    "            for k in list(set(extract_aksharam(yati_sthanam_letter))):\n",
    "                \n",
    "                if k in j:\n",
    "                    flag= True\n",
    "                    break\n",
    "flag"
   ]
  },
  {
   "cell_type": "code",
   "execution_count": null,
   "id": "c233962c",
   "metadata": {},
   "outputs": [],
   "source": []
  },
  {
   "cell_type": "code",
   "execution_count": null,
   "id": "e0ef2073",
   "metadata": {},
   "outputs": [],
   "source": []
  },
  {
   "cell_type": "code",
   "execution_count": null,
   "id": "936e6701",
   "metadata": {},
   "outputs": [],
   "source": []
  },
  {
   "cell_type": "code",
   "execution_count": null,
   "id": "fb04d5da",
   "metadata": {},
   "outputs": [],
   "source": []
  },
  {
   "cell_type": "code",
   "execution_count": null,
   "id": "16542b9e",
   "metadata": {},
   "outputs": [],
   "source": []
  }
 ],
 "metadata": {
  "kernelspec": {
   "display_name": "base",
   "language": "python",
   "name": "python3"
  },
  "language_info": {
   "codemirror_mode": {
    "name": "ipython",
    "version": 3
   },
   "file_extension": ".py",
   "mimetype": "text/x-python",
   "name": "python",
   "nbconvert_exporter": "python",
   "pygments_lexer": "ipython3",
   "version": "3.11.3"
  }
 },
 "nbformat": 4,
 "nbformat_minor": 5
}
