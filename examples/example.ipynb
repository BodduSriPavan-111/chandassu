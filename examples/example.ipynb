{
 "cells": [
  {
   "cell_type": "code",
   "execution_count": 1,
   "id": "133d5ac1",
   "metadata": {},
   "outputs": [],
   "source": [
    "import sys\n",
    "import os\n",
    "\n",
    "sys.path.append(os.path.abspath(os.path.join(os.getcwd(), '..')))\n",
    "\n",
    "# from chandassu.varnamala import Varnamala\n",
    "from chandassu.laghuvu_guruvu import LaghuvuGuruvu\n",
    "from chandassu.check_lakshanam import n_paadam, n_aksharam, check_yati, check_prasa, check_vruttam_gana_kramam\n",
    "# from chandassu.padyam_config import Vruttamu\n",
    "# from chandassu.panimuttu import extract_aksharam\n",
    "# from chandassu.nidhi import yati, achhulu\n",
    "from chandassu.padya_bhedam import check_vruttam"
   ]
  },
  {
   "cell_type": "code",
   "execution_count": 2,
   "id": "bf5f4575",
   "metadata": {},
   "outputs": [],
   "source": [
    "data= \"\"\"తొండము నేక దంతమును తోరపు బొజ్జయు వామ హస్తమున్\n",
    "మెండుగ మ్రోయు గజ్జెలును మెల్లని చూపులు మందహాసమున్\n",
    "కొండొక గుజ్జు రూపమున కోరిన విద్యలకెల్ల నొజ్జవై\n",
    "యుండెడి పార్వతీ తనయ యోయి గణాధిప నీకు మ్రొక్కెదన్\"\"\""
   ]
  },
  {
   "cell_type": "code",
   "execution_count": 3,
   "id": "c364e304",
   "metadata": {},
   "outputs": [
    {
     "data": {
      "text/plain": [
       "80"
      ]
     },
     "execution_count": 3,
     "metadata": {},
     "output_type": "execute_result"
    }
   ],
   "source": [
    "len(LaghuvuGuruvu( data= data ).tokenize())"
   ]
  },
  {
   "cell_type": "code",
   "execution_count": 4,
   "id": "26160606",
   "metadata": {},
   "outputs": [
    {
     "name": "stdout",
     "output_type": "stream",
     "text": [
      "No.of aksharams (letters):  80\n"
     ]
    },
    {
     "data": {
      "text/plain": [
       "80"
      ]
     },
     "execution_count": 4,
     "metadata": {},
     "output_type": "execute_result"
    }
   ],
   "source": [
    "n_aksharam( data= data )"
   ]
  },
  {
   "cell_type": "code",
   "execution_count": 8,
   "id": "612b1ba7",
   "metadata": {},
   "outputs": [
    {
     "name": "stdout",
     "output_type": "stream",
     "text": [
      "No.of paadams (lines) found:  4.0\n"
     ]
    },
    {
     "data": {
      "text/plain": [
       "4.0"
      ]
     },
     "execution_count": 8,
     "metadata": {},
     "output_type": "execute_result"
    }
   ],
   "source": [
    "n_paadam( data= data, aksharam_per_paadam= 20 )"
   ]
  },
  {
   "cell_type": "code",
   "execution_count": 5,
   "id": "6fb20a33",
   "metadata": {},
   "outputs": [
    {
     "data": {
      "text/plain": [
       "80"
      ]
     },
     "execution_count": 5,
     "metadata": {},
     "output_type": "execute_result"
    }
   ],
   "source": [
    "import math\n",
    "n= len(LaghuvuGuruvu( data= data ).tokenize())\n",
    "n"
   ]
  },
  {
   "cell_type": "code",
   "execution_count": null,
   "id": "a4289871",
   "metadata": {},
   "outputs": [
    {
     "data": {
      "text/plain": [
       "0.0"
      ]
     },
     "execution_count": 20,
     "metadata": {},
     "output_type": "execute_result"
    }
   ],
   "source": [
    "(n/20)-int(n/20) == 0"
   ]
  },
  {
   "cell_type": "code",
   "execution_count": 9,
   "id": "73322982",
   "metadata": {},
   "outputs": [
    {
     "name": "stderr",
     "output_type": "stream",
     "text": [
      "c:\\Users\\bsnra\\anaconda3\\Lib\\site-packages\\pandas\\core\\arrays\\masked.py:60: UserWarning: Pandas requires version '1.3.6' or newer of 'bottleneck' (version '1.3.5' currently installed).\n",
      "  from pandas.core import (\n"
     ]
    }
   ],
   "source": [
    "import pandas as pd"
   ]
  },
  {
   "cell_type": "code",
   "execution_count": 18,
   "id": "f1286772",
   "metadata": {},
   "outputs": [
    {
     "data": {
      "text/plain": [
       "['aandhranaayaka.xlsx',\n",
       " 'bhaktamandaara.xlsx',\n",
       " 'bharga.xlsx',\n",
       " 'bhaskara.xlsx',\n",
       " 'chiravibhava.xlsx',\n",
       " 'daasarathi.xlsx',\n",
       " 'devakinandana.xlsx',\n",
       " 'krishna.xlsx',\n",
       " 'kukkuteswara.xlsx',\n",
       " 'kumaara.xlsx',\n",
       " 'kumaarii.xlsx',\n",
       " 'laavanya.xlsx',\n",
       " 'maaruthi.xlsx',\n",
       " 'maathru.xlsx',\n",
       " 'madanagopala.xlsx',\n",
       " 'naarayana.xlsx',\n",
       " 'narasimha.xlsx',\n",
       " 'ontimittaraguveera.xlsx',\n",
       " 'prarthana.xlsx',\n",
       " 'sampangimanna.xlsx',\n",
       " 'sarveswara.xlsx',\n",
       " 'srikaalahasteeswara.xlsx',\n",
       " 'sumathi.xlsx',\n",
       " 'sundariimani.xlsx',\n",
       " 'taadimallaraajagopaala.xlsx',\n",
       " 'vemana.xlsx',\n",
       " 'venkateswara.xlsx',\n",
       " 'venugopaala.xlsx',\n",
       " 'vrushaadhipa.xlsx']"
      ]
     },
     "execution_count": 18,
     "metadata": {},
     "output_type": "execute_result"
    }
   ],
   "source": [
    "source_path= \"c:\\\\Users\\\\bsnra\\\\Desktop\\\\chandassu\\\\dataset\\\\raw\"\n",
    "os.chdir( source_path )\n",
    "os.listdir()"
   ]
  },
  {
   "cell_type": "code",
   "execution_count": 19,
   "id": "0000b520",
   "metadata": {},
   "outputs": [
    {
     "data": {
      "text/html": [
       "<div>\n",
       "<style scoped>\n",
       "    .dataframe tbody tr th:only-of-type {\n",
       "        vertical-align: middle;\n",
       "    }\n",
       "\n",
       "    .dataframe tbody tr th {\n",
       "        vertical-align: top;\n",
       "    }\n",
       "\n",
       "    .dataframe thead th {\n",
       "        text-align: right;\n",
       "    }\n",
       "</style>\n",
       "<table border=\"1\" class=\"dataframe\">\n",
       "  <thead>\n",
       "    <tr style=\"text-align: right;\">\n",
       "      <th></th>\n",
       "      <th>type</th>\n",
       "      <th>padyam</th>\n",
       "      <th>class</th>\n",
       "      <th>satakam</th>\n",
       "      <th>lg</th>\n",
       "    </tr>\n",
       "  </thead>\n",
       "  <tbody>\n",
       "    <tr>\n",
       "      <th>0</th>\n",
       "      <td>vutpalamaala</td>\n",
       "      <td>శ్రీరఘురామ చారుతులసీదళదామ శమక్షమాది శృం\\nగారగు...</td>\n",
       "      <td>vruttamu</td>\n",
       "      <td>daasarathi</td>\n",
       "      <td>[('శ్రీ', 'U'), ('ర', '|'), ('ఘు', '|'), ('రా'...</td>\n",
       "    </tr>\n",
       "    <tr>\n",
       "      <th>1</th>\n",
       "      <td>vutpalamaala</td>\n",
       "      <td>రామ విశాలవిక్రమ పరాజిత భార్గవరామ సద్గుణ\\nస్తోమ...</td>\n",
       "      <td>vruttamu</td>\n",
       "      <td>daasarathi</td>\n",
       "      <td>[('రా', 'U'), ('మ', '|'), ('వి', '|'), ('శా', ...</td>\n",
       "    </tr>\n",
       "    <tr>\n",
       "      <th>2</th>\n",
       "      <td>champakamaala</td>\n",
       "      <td>అగణితసత్యభాష శరణాగతపోష దయాలసజ్ఝరీ\\nవిగతసమస్తదో...</td>\n",
       "      <td>vruttamu</td>\n",
       "      <td>daasarathi</td>\n",
       "      <td>[('అ', '|'), ('గ', '|'), ('ణి', '|'), ('త', '|...</td>\n",
       "    </tr>\n",
       "    <tr>\n",
       "      <th>3</th>\n",
       "      <td>vutpalamaala</td>\n",
       "      <td>రంగదరాతిభంగ ఖగరాజతురంగ విపత్పరంపరో\\nత్తుంగ తమః...</td>\n",
       "      <td>vruttamu</td>\n",
       "      <td>daasarathi</td>\n",
       "      <td>[('రం', 'U'), ('గ', '|'), ('ద', '|'), ('రా', '...</td>\n",
       "    </tr>\n",
       "    <tr>\n",
       "      <th>4</th>\n",
       "      <td>vutpalamaala</td>\n",
       "      <td>శ్రీద సనందనాది మునిసేవితపాద దిగంతకీర్తిసం\\nపాద...</td>\n",
       "      <td>vruttamu</td>\n",
       "      <td>daasarathi</td>\n",
       "      <td>[('శ్రీ', 'U'), ('ద', '|'), ('స', '|'), ('నం',...</td>\n",
       "    </tr>\n",
       "    <tr>\n",
       "      <th>...</th>\n",
       "      <td>...</td>\n",
       "      <td>...</td>\n",
       "      <td>...</td>\n",
       "      <td>...</td>\n",
       "      <td>...</td>\n",
       "    </tr>\n",
       "    <tr>\n",
       "      <th>98</th>\n",
       "      <td>vutpalamaala</td>\n",
       "      <td>బొంకనివాఁడె యోగ్యుఁ డరిబృందము లెత్తినచోటఁ జివ్...</td>\n",
       "      <td>vruttamu</td>\n",
       "      <td>daasarathi</td>\n",
       "      <td>[('బొం', 'U'), ('క', '|'), ('ని', '|'), ('వా',...</td>\n",
       "    </tr>\n",
       "    <tr>\n",
       "      <th>99</th>\n",
       "      <td>champakamaala</td>\n",
       "      <td>భ్రమరము గీటకంబుఁగొని పాల్పడి ఝాంకరణోపకారియై\\nభ...</td>\n",
       "      <td>vruttamu</td>\n",
       "      <td>daasarathi</td>\n",
       "      <td>[('భ్ర', '|'), ('మ', '|'), ('ర', '|'), ('ము', ...</td>\n",
       "    </tr>\n",
       "    <tr>\n",
       "      <th>100</th>\n",
       "      <td>champakamaala</td>\n",
       "      <td>తరువులు పూచి కాయలగు దత్కుసుమంబులు పూజగా భవ\\nచ్...</td>\n",
       "      <td>vruttamu</td>\n",
       "      <td>daasarathi</td>\n",
       "      <td>[('త', '|'), ('రు', '|'), ('వు', '|'), ('లు', ...</td>\n",
       "    </tr>\n",
       "    <tr>\n",
       "      <th>101</th>\n",
       "      <td>vutpalamaala</td>\n",
       "      <td>పట్టితి భట్టరార్యగురు పాదములిమ్మెయి నూర్ధ్వపుం...</td>\n",
       "      <td>vruttamu</td>\n",
       "      <td>daasarathi</td>\n",
       "      <td>[('ప', 'U'), ('ట్టి', '|'), ('తి', '|'), ('భ',...</td>\n",
       "    </tr>\n",
       "    <tr>\n",
       "      <th>102</th>\n",
       "      <td>vutpalamaala</td>\n",
       "      <td>అల్లన లింగమంత్రిసుతుఁ డత్రిజ గోత్రజుఁడాదిశాఖ క...</td>\n",
       "      <td>vruttamu</td>\n",
       "      <td>daasarathi</td>\n",
       "      <td>[('అ', 'U'), ('ల్ల', '|'), ('న', '|'), ('లిం',...</td>\n",
       "    </tr>\n",
       "  </tbody>\n",
       "</table>\n",
       "<p>103 rows × 5 columns</p>\n",
       "</div>"
      ],
      "text/plain": [
       "              type                                             padyam  \\\n",
       "0     vutpalamaala  శ్రీరఘురామ చారుతులసీదళదామ శమక్షమాది శృం\\nగారగు...   \n",
       "1     vutpalamaala  రామ విశాలవిక్రమ పరాజిత భార్గవరామ సద్గుణ\\nస్తోమ...   \n",
       "2    champakamaala  అగణితసత్యభాష శరణాగతపోష దయాలసజ్ఝరీ\\nవిగతసమస్తదో...   \n",
       "3     vutpalamaala  రంగదరాతిభంగ ఖగరాజతురంగ విపత్పరంపరో\\nత్తుంగ తమః...   \n",
       "4     vutpalamaala  శ్రీద సనందనాది మునిసేవితపాద దిగంతకీర్తిసం\\nపాద...   \n",
       "..             ...                                                ...   \n",
       "98    vutpalamaala  బొంకనివాఁడె యోగ్యుఁ డరిబృందము లెత్తినచోటఁ జివ్...   \n",
       "99   champakamaala  భ్రమరము గీటకంబుఁగొని పాల్పడి ఝాంకరణోపకారియై\\nభ...   \n",
       "100  champakamaala  తరువులు పూచి కాయలగు దత్కుసుమంబులు పూజగా భవ\\nచ్...   \n",
       "101   vutpalamaala  పట్టితి భట్టరార్యగురు పాదములిమ్మెయి నూర్ధ్వపుం...   \n",
       "102   vutpalamaala  అల్లన లింగమంత్రిసుతుఁ డత్రిజ గోత్రజుఁడాదిశాఖ క...   \n",
       "\n",
       "        class     satakam                                                 lg  \n",
       "0    vruttamu  daasarathi  [('శ్రీ', 'U'), ('ర', '|'), ('ఘు', '|'), ('రా'...  \n",
       "1    vruttamu  daasarathi  [('రా', 'U'), ('మ', '|'), ('వి', '|'), ('శా', ...  \n",
       "2    vruttamu  daasarathi  [('అ', '|'), ('గ', '|'), ('ణి', '|'), ('త', '|...  \n",
       "3    vruttamu  daasarathi  [('రం', 'U'), ('గ', '|'), ('ద', '|'), ('రా', '...  \n",
       "4    vruttamu  daasarathi  [('శ్రీ', 'U'), ('ద', '|'), ('స', '|'), ('నం',...  \n",
       "..        ...         ...                                                ...  \n",
       "98   vruttamu  daasarathi  [('బొం', 'U'), ('క', '|'), ('ని', '|'), ('వా',...  \n",
       "99   vruttamu  daasarathi  [('భ్ర', '|'), ('మ', '|'), ('ర', '|'), ('ము', ...  \n",
       "100  vruttamu  daasarathi  [('త', '|'), ('రు', '|'), ('వు', '|'), ('లు', ...  \n",
       "101  vruttamu  daasarathi  [('ప', 'U'), ('ట్టి', '|'), ('తి', '|'), ('భ',...  \n",
       "102  vruttamu  daasarathi  [('అ', 'U'), ('ల్ల', '|'), ('న', '|'), ('లిం',...  \n",
       "\n",
       "[103 rows x 5 columns]"
      ]
     },
     "execution_count": 19,
     "metadata": {},
     "output_type": "execute_result"
    }
   ],
   "source": [
    "df= pd.read_excel( r\"c:\\\\Users\\\\bsnra\\\\Desktop\\\\chandassu\\\\dataset\\\\lg\\\\daasarathi.xlsx\" )\n",
    "df"
   ]
  },
  {
   "cell_type": "code",
   "execution_count": 21,
   "id": "656c6f99",
   "metadata": {},
   "outputs": [
    {
     "data": {
      "text/plain": [
       "'శ్రీరఘురామ చారుతులసీదళదామ శమక్షమాది శృం\\nగారగుణాభిరామ త్రిజగన్నుతశౌర్యరమాలలామ దు\\nర్వార కబంధరాక్షసవిరామ జగజ్జనకల్మషార్ణవో\\nత్తారకనామ భద్రగిరి దాశరథీ! కరుణాపయోనిధీ!'"
      ]
     },
     "execution_count": 21,
     "metadata": {},
     "output_type": "execute_result"
    }
   ],
   "source": [
    "df.iloc[0][\"padyam\"]"
   ]
  },
  {
   "cell_type": "code",
   "execution_count": 23,
   "id": "f4dce991",
   "metadata": {},
   "outputs": [
    {
     "data": {
      "text/plain": [
       "(2, 1, 3, 4, 6)"
      ]
     },
     "execution_count": 23,
     "metadata": {},
     "output_type": "execute_result"
    }
   ],
   "source": [
    "len(\"ర్\"),  len(\"ర\"), len(\"క్ర\"), len(\"క్రూ\"), len(\"త్ర్యం\")"
   ]
  },
  {
   "cell_type": "code",
   "execution_count": null,
   "id": "ecc0c939",
   "metadata": {},
   "outputs": [],
   "source": [
    "# No.of aksharams in the next letter without \"ర\" should be 1\n",
    "# gunintham/ deergham may present\n",
    "# Then make preceeding letter \"|\""
   ]
  },
  {
   "cell_type": "code",
   "execution_count": 22,
   "id": "70cb57c6",
   "metadata": {},
   "outputs": [
    {
     "data": {
      "text/plain": [
       "['స్వా', 'తం', 'త్ర్యం']"
      ]
     },
     "execution_count": 22,
     "metadata": {},
     "output_type": "execute_result"
    }
   ],
   "source": [
    "LaghuvuGuruvu(data= \"స్వాతంత్ర్యం\").tokenize()"
   ]
  },
  {
   "cell_type": "code",
   "execution_count": 20,
   "id": "31d43b30",
   "metadata": {},
   "outputs": [
    {
     "name": "stdout",
     "output_type": "stream",
     "text": [
      "('శ్రీ', 'U')\n",
      "('ర', '|')\n",
      "('ఘు', '|')\n",
      "('రా', 'U')\n",
      "('మ', '|')\n",
      "('చా', 'U')\n",
      "('రు', '|')\n",
      "('తు', '|')\n",
      "('ల', '|')\n",
      "('సీ', 'U')\n",
      "('ద', '|')\n",
      "('ళ', '|')\n",
      "('దా', 'U')\n",
      "('మ', '|')\n",
      "('శ', '|')\n",
      "('మ', 'U')\n",
      "('క్ష', '|')\n",
      "('మా', 'U')\n",
      "('ది', '|')\n",
      "('శృం', 'U')\n",
      "('గా', 'U')\n",
      "('ర', '|')\n",
      "('గు', '|')\n",
      "('ణా', 'U')\n",
      "('భి', '|')\n",
      "('రా', 'U')\n",
      "('మ', 'U')\n",
      "('త్రి', '|')\n",
      "('జ', '|')\n",
      "('గ', 'U')\n",
      "('న్ను', '|')\n",
      "('త', '|')\n",
      "('శౌ', 'U')\n",
      "('ర్య', '|')\n",
      "('ర', '|')\n",
      "('మా', 'U')\n",
      "('ల', '|')\n",
      "('లా', 'U')\n",
      "('మ', '|')\n",
      "('దు', 'U')\n",
      "('ర్వా', 'U')\n",
      "('ర', '|')\n",
      "('క', '|')\n",
      "('బం', 'U')\n",
      "('ధ', '|')\n",
      "('రా', 'U')\n",
      "('క్ష', '|')\n",
      "('స', '|')\n",
      "('వి', '|')\n",
      "('రా', 'U')\n",
      "('మ', '|')\n",
      "('జ', '|')\n",
      "('గ', 'U')\n",
      "('జ్జ', '|')\n",
      "('న', '|')\n",
      "('క', 'U')\n",
      "('ల్మ', '|')\n",
      "('షా', 'U')\n",
      "('ర్ణ', '|')\n",
      "('వో', 'U')\n",
      "('త్తా', 'U')\n",
      "('ర', '|')\n",
      "('క', '|')\n",
      "('నా', 'U')\n",
      "('మ', '|')\n",
      "('భ', '|')\n",
      "('ద్ర', '|')\n",
      "('గి', '|')\n",
      "('రి', '|')\n",
      "('దా', 'U')\n",
      "('శ', '|')\n",
      "('ర', '|')\n",
      "('థీ', 'U')\n",
      "('క', '|')\n",
      "('రు', '|')\n",
      "('ణా', 'U')\n",
      "('ప', '|')\n",
      "('యో', 'U')\n",
      "('ని', '|')\n",
      "('ధీ', 'U')\n"
     ]
    }
   ],
   "source": [
    "for i in eval(df[\"lg\"].iloc[0]):\n",
    "    print(i)"
   ]
  },
  {
   "cell_type": "code",
   "execution_count": null,
   "id": "b6b95215",
   "metadata": {},
   "outputs": [],
   "source": [
    "."
   ]
  }
 ],
 "metadata": {
  "kernelspec": {
   "display_name": "base",
   "language": "python",
   "name": "python3"
  },
  "language_info": {
   "codemirror_mode": {
    "name": "ipython",
    "version": 3
   },
   "file_extension": ".py",
   "mimetype": "text/x-python",
   "name": "python",
   "nbconvert_exporter": "python",
   "pygments_lexer": "ipython3",
   "version": "3.11.3"
  }
 },
 "nbformat": 4,
 "nbformat_minor": 5
}
