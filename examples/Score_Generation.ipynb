{
 "cells": [
  {
   "cell_type": "code",
   "execution_count": 1,
   "id": "78547070",
   "metadata": {},
   "outputs": [
    {
     "name": "stderr",
     "output_type": "stream",
     "text": [
      "c:\\Users\\bsnra\\anaconda3\\Lib\\site-packages\\pandas\\core\\arrays\\masked.py:60: UserWarning: Pandas requires version '1.3.6' or newer of 'bottleneck' (version '1.3.5' currently installed).\n",
      "  from pandas.core import (\n"
     ]
    }
   ],
   "source": [
    "import sys\n",
    "import os\n",
    "sys.path.append(os.path.abspath(os.path.join(os.getcwd(), '..')))\n",
    "\n",
    "from chandassu.laghuvu_guruvu import LaghuvuGuruvu\n",
    "from chandassu.padya_bhedam import check_padyam\n",
    "\n",
    "\n",
    "import numpy as np\n",
    "import pandas as pd\n",
    "import matplotlib.pyplot as plt"
   ]
  },
  {
   "cell_type": "code",
   "execution_count": 2,
   "id": "afe6e96c",
   "metadata": {},
   "outputs": [
    {
     "data": {
      "text/plain": [
       "'c:\\\\Users\\\\bsnra\\\\Desktop\\\\chandassu\\\\examples'"
      ]
     },
     "execution_count": 2,
     "metadata": {},
     "output_type": "execute_result"
    }
   ],
   "source": [
    "os.getcwd()"
   ]
  },
  {
   "cell_type": "code",
   "execution_count": 3,
   "id": "fed74835",
   "metadata": {},
   "outputs": [],
   "source": [
    "base_path= r\"c:\\\\Users\\\\bsnra\\\\Desktop\\\\chandassu\\\\dataset\\\\lg\"\n",
    "os.chdir( base_path )"
   ]
  },
  {
   "cell_type": "code",
   "execution_count": 4,
   "id": "53b6d5c8",
   "metadata": {},
   "outputs": [],
   "source": [
    "VRUTTA_SATAKAMULU= [\"bhaktamandaara\", \"bharga\", \"bhaskara\", \"chiravibhava\", \"daasarathi\", \"devakinandana\", \"srikaalahasteeswara\", \n",
    "                    \"ontimittaraguveera\", \"vrushadhipa\", \"venkateswara\", \"sundariimani\", \"sarveswara\", \"naarayana\", \"maathru\", \"maaruthi\"]\n",
    "\n",
    "JAATHI_SATAKAMULU= [\"krishna\", \"sumathi\", \"sampangimanna\", \"kumaara\", \"kumaarii\"]\n",
    "\n",
    "VUPAJAATHI_SATAKAMULU= [\"narasimha\", \"aandhranaayaka\", \"vemana\", \"venugopaala\", \"laavanya\", \"kukkuteswara\", \"taadimallaraajagopaala\",\n",
    "                        \"madanagopala\"]"
   ]
  },
  {
   "cell_type": "code",
   "execution_count": 5,
   "id": "87f1e6a8",
   "metadata": {},
   "outputs": [
    {
     "data": {
      "text/plain": [
       "28"
      ]
     },
     "execution_count": 5,
     "metadata": {},
     "output_type": "execute_result"
    }
   ],
   "source": [
    "len(VRUTTA_SATAKAMULU) + len(JAATHI_SATAKAMULU) + len(VUPAJAATHI_SATAKAMULU)"
   ]
  },
  {
   "cell_type": "code",
   "execution_count": 9,
   "id": "36d959a5",
   "metadata": {},
   "outputs": [],
   "source": [
    "source_path= r\"c:\\\\Users\\\\bsnra\\\\Desktop\\\\chandassu\\\\dataset\\\\lg\"\n",
    "target_path= r\"c:\\\\Users\\\\bsnra\\\\Desktop\\\\chandassu\\\\dataset\\\\score\""
   ]
  },
  {
   "cell_type": "code",
   "execution_count": 10,
   "id": "f98858a2",
   "metadata": {},
   "outputs": [
    {
     "name": "stdout",
     "output_type": "stream",
     "text": [
      "['aandhranaayaka.xlsx', 'bhaktamandaara.xlsx', 'bharga.xlsx', 'bhaskara.xlsx', 'chiravibhava.xlsx', 'daasarathi.xlsx', 'devakinandana.xlsx', 'krishna.xlsx', 'kukkuteswara.xlsx', 'kumaara.xlsx', 'kumaarii.xlsx', 'laavanya.xlsx', 'maaruthi.xlsx', 'maathru.xlsx', 'madanagopala.xlsx', 'naarayana.xlsx', 'narasimha.xlsx', 'ontimittaraguveera.xlsx', 'sampangimanna.xlsx', 'sarveswara.xlsx', 'srikaalahasteeswara.xlsx', 'sumathi.xlsx', 'sundariimani.xlsx', 'taadimallaraajagopaala.xlsx', 'vemana.xlsx', 'venkateswara.xlsx', 'venugopaala.xlsx', 'vrushaadhipa.xlsx']\n"
     ]
    }
   ],
   "source": [
    "os.chdir( source_path )\n",
    "FILES= os.listdir()\n",
    "print(FILES)"
   ]
  },
  {
   "cell_type": "code",
   "execution_count": 11,
   "id": "489fd692",
   "metadata": {},
   "outputs": [
    {
     "data": {
      "text/plain": [
       "28"
      ]
     },
     "execution_count": 11,
     "metadata": {},
     "output_type": "execute_result"
    }
   ],
   "source": [
    "len(FILES)"
   ]
  },
  {
   "cell_type": "code",
   "execution_count": 12,
   "id": "93766c9b",
   "metadata": {},
   "outputs": [
    {
     "name": "stdout",
     "output_type": "stream",
     "text": [
      "aandhranaayaka.xlsx_____(212, 11)\n",
      "\n",
      "bhaktamandaara.xlsx_____(101, 11)\n",
      "\n",
      "bharga.xlsx_____(101, 11)\n",
      "\n",
      "bhaskara.xlsx_____(109, 11)\n",
      "\n",
      "chiravibhava.xlsx_____(96, 11)\n",
      "\n",
      "daasarathi.xlsx_____(103, 11)\n",
      "\n",
      "devakinandana.xlsx_____(101, 11)\n",
      "\n",
      "krishna.xlsx_____(101, 11)\n",
      "\n",
      "kukkuteswara.xlsx_____(184, 11)\n",
      "\n",
      "kumaara.xlsx_____(104, 11)\n",
      "\n",
      "kumaarii.xlsx_____(100, 11)\n",
      "\n",
      "laavanya.xlsx_____(200, 11)\n",
      "\n",
      "maaruthi.xlsx_____(116, 11)\n",
      "\n",
      "maathru.xlsx_____(100, 11)\n",
      "\n",
      "madanagopala.xlsx_____(200, 11)\n",
      "\n",
      "naarayana.xlsx_____(105, 11)\n",
      "\n",
      "narasimha.xlsx_____(200, 11)\n",
      "\n",
      "ontimittaraguveera.xlsx_____(120, 11)\n",
      "\n",
      "sampangimanna.xlsx_____(120, 11)\n",
      "\n",
      "sarveswara.xlsx_____(144, 11)\n",
      "\n",
      "srikaalahasteeswara.xlsx_____(119, 11)\n",
      "\n",
      "sumathi.xlsx_____(108, 11)\n",
      "\n",
      "sundariimani.xlsx_____(95, 11)\n",
      "\n",
      "taadimallaraajagopaala.xlsx_____(130, 11)\n",
      "\n",
      "vemana.xlsx_____(1163, 11)\n",
      "\n",
      "venkateswara.xlsx_____(100, 11)\n",
      "\n",
      "venugopaala.xlsx_____(210, 11)\n",
      "\n",
      "vrushaadhipa.xlsx_____(109, 11)\n",
      "\n"
     ]
    }
   ],
   "source": [
    "for file_name in FILES:\n",
    "\n",
    "    print(file_name, end= \"_____\")\n",
    "\n",
    "    df= pd.read_excel( os.path.join(source_path, file_name) )\n",
    "\n",
    "    chandassu_score= []\n",
    "\n",
    "    n_aksharalu_score= []\n",
    "    n_paadalu_score= []\n",
    "    gana_kramam_score= []\n",
    "    yati_sthanam_score= []\n",
    "    prasa_score= []\n",
    "\n",
    "    for i in range( df.shape[0] ):\n",
    "\n",
    "        row_data= df.iloc[i]\n",
    "\n",
    "        lg_data= LaghuvuGuruvu( data= row_data[\"padyam\"] ).generate()\n",
    "\n",
    "        output= check_padyam( \n",
    "                                lg_data= lg_data ,\n",
    "                                type= row_data[\"type\"],\n",
    "\n",
    "                                # Default Values\n",
    "                                return_micro_score= True, \n",
    "                                verbose= False\n",
    "                            )\n",
    "        \n",
    "        micro_score= output[\"micro_score\"]\n",
    "        \n",
    "        chandassu_score.append( output[\"chandassu_score\"] )\n",
    "\n",
    "        n_aksharalu_score.append( micro_score.get( \"n_aksharalu\", -1 ) )\n",
    "        n_paadalu_score.append( micro_score.get( \"n_paadalu\", -1 ) )\n",
    "        gana_kramam_score.append( micro_score.get( \"gana_kramam\", -1 ) )\n",
    "        yati_sthanam_score.append( micro_score.get( \"yati_sthanam\", -1 ) )\n",
    "        prasa_score.append( micro_score.get( \"prasa\", -1 ) )\n",
    "\n",
    "\n",
    "    df[\"chandassu_score\"]= chandassu_score\n",
    "    df[\"n_aksharalu_score\"]= n_aksharalu_score\n",
    "    df[\"n_paadalu_score\"]= n_paadalu_score\n",
    "    df[\"gana_kramam_score\"]= gana_kramam_score\n",
    "    df[\"yati_sthanam_score\"]= yati_sthanam_score\n",
    "    df[\"prasa_score\"]= prasa_score\n",
    "\n",
    "    print( df.shape )\n",
    "    print()\n",
    "    \n",
    "    df.to_excel( os.path.join( target_path, file_name ), index= None )"
   ]
  },
  {
   "cell_type": "code",
   "execution_count": null,
   "id": "59d3e69c",
   "metadata": {},
   "outputs": [],
   "source": []
  }
 ],
 "metadata": {
  "kernelspec": {
   "display_name": "base",
   "language": "python",
   "name": "python3"
  },
  "language_info": {
   "codemirror_mode": {
    "name": "ipython",
    "version": 3
   },
   "file_extension": ".py",
   "mimetype": "text/x-python",
   "name": "python",
   "nbconvert_exporter": "python",
   "pygments_lexer": "ipython3",
   "version": "3.11.3"
  }
 },
 "nbformat": 4,
 "nbformat_minor": 5
}
