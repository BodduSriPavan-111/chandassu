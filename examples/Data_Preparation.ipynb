{
 "cells": [
  {
   "cell_type": "code",
   "execution_count": 1,
   "id": "399e85dc",
   "metadata": {},
   "outputs": [
    {
     "name": "stderr",
     "output_type": "stream",
     "text": [
      "c:\\Users\\bsnra\\anaconda3\\Lib\\site-packages\\pandas\\core\\arrays\\masked.py:60: UserWarning: Pandas requires version '1.3.6' or newer of 'bottleneck' (version '1.3.5' currently installed).\n",
      "  from pandas.core import (\n"
     ]
    }
   ],
   "source": [
    "import sys\n",
    "import os\n",
    "\n",
    "sys.path.append(os.path.abspath(os.path.join(os.getcwd(), '..')))\n",
    "\n",
    "from chandassu.laghuvu_guruvu import LaghuvuGuruvu\n",
    "\n",
    "import os\n",
    "import pandas as pd\n",
    "\n",
    "from datasets import Dataset"
   ]
  },
  {
   "cell_type": "code",
   "execution_count": 2,
   "id": "8321d0e2",
   "metadata": {},
   "outputs": [],
   "source": [
    "source_path= \"c:\\\\Users\\\\bsnra\\\\Desktop\\\\chandassu\\\\dataset\\\\raw\"\n",
    "os.chdir( source_path )\n",
    "\n",
    "target_path= \"c:\\\\Users\\\\bsnra\\\\Desktop\\\\chandassu\\\\dataset\\\\lg\""
   ]
  },
  {
   "cell_type": "code",
   "execution_count": 3,
   "id": "286cc3b0",
   "metadata": {},
   "outputs": [
    {
     "name": "stdout",
     "output_type": "stream",
     "text": [
      "aandhranaayaka.xlsx\n",
      "bhaktamandaara.xlsx\n",
      "bharga.xlsx\n",
      "bhaskara.xlsx\n",
      "chiravibhava.xlsx\n",
      "daasarathi.xlsx\n",
      "devakinandana.xlsx\n",
      "krishna.xlsx\n",
      "kukkuteswara.xlsx\n",
      "kumaara.xlsx\n",
      "kumaarii.xlsx\n",
      "laavanya.xlsx\n",
      "maaruthi.xlsx\n",
      "maathru.xlsx\n",
      "madanagopala.xlsx\n",
      "naarayana.xlsx\n",
      "narasimha.xlsx\n",
      "ontimittaraguveera.xlsx\n",
      "prarthana.xlsx\n",
      "sampangimanna.xlsx\n",
      "sarveswara.xlsx\n",
      "srikaalahasteeswara.xlsx\n",
      "sumathi.xlsx\n",
      "sundariimani.xlsx\n",
      "taadimallaraajagopaala.xlsx\n",
      "vemana.xlsx\n",
      "venkateswara.xlsx\n",
      "venugopaala.xlsx\n",
      "vrushaadhipa.xlsx\n"
     ]
    }
   ],
   "source": [
    "for i in os.listdir():\n",
    "    \n",
    "    df= pd.read_excel( os.path.join( source_path, i ) )\n",
    "\n",
    "    df[\"lg\"]= [str(LaghuvuGuruvu( data= df[\"padyam\"].iloc[j].replace('\\u200c', \"\").replace('\\u200d', \"\").replace(\"x\", \"\") ).generate()) for j in range(df.shape[0])]\n",
    "    \n",
    "    df.to_excel( os.path.join( target_path, i) )\n",
    "\n",
    "    print(i)"
   ]
  },
  {
   "cell_type": "code",
   "execution_count": 4,
   "id": "f8c902f5",
   "metadata": {},
   "outputs": [
    {
     "data": {
      "text/html": [
       "<div>\n",
       "<style scoped>\n",
       "    .dataframe tbody tr th:only-of-type {\n",
       "        vertical-align: middle;\n",
       "    }\n",
       "\n",
       "    .dataframe tbody tr th {\n",
       "        vertical-align: top;\n",
       "    }\n",
       "\n",
       "    .dataframe thead th {\n",
       "        text-align: right;\n",
       "    }\n",
       "</style>\n",
       "<table border=\"1\" class=\"dataframe\">\n",
       "  <thead>\n",
       "    <tr style=\"text-align: right;\">\n",
       "      <th></th>\n",
       "      <th>type</th>\n",
       "      <th>padyam</th>\n",
       "      <th>class</th>\n",
       "      <th>satakam</th>\n",
       "      <th>lg</th>\n",
       "    </tr>\n",
       "  </thead>\n",
       "  <tbody>\n",
       "    <tr>\n",
       "      <th>0</th>\n",
       "      <td>vutpalamaala</td>\n",
       "      <td>శ్రీగురులింగమూర్తి! సువిశేష మహోజ్జ్వలకీర్తి! స...</td>\n",
       "      <td>vruttamu</td>\n",
       "      <td>vrushadhipa</td>\n",
       "      <td>[('శ్రీ', 'U'), ('గు', '|'), ('రు', '|'), ('లి...</td>\n",
       "    </tr>\n",
       "    <tr>\n",
       "      <th>1</th>\n",
       "      <td>champakamaala</td>\n",
       "      <td>ప్రమథవిలోల! భక్తపరిపాల ధురంధరశీల! సంతతా\\nస్తమి...</td>\n",
       "      <td>vruttamu</td>\n",
       "      <td>vrushadhipa</td>\n",
       "      <td>[('ప్ర', '|'), ('మ', '|'), ('థ', '|'), ('వి', ...</td>\n",
       "    </tr>\n",
       "    <tr>\n",
       "      <th>2</th>\n",
       "      <td>vutpalamaala</td>\n",
       "      <td>అప్రతిమప్రతాప! సముదంచిత నాదకళాకలాప! దీ\\nప్త ప్...</td>\n",
       "      <td>vruttamu</td>\n",
       "      <td>vrushadhipa</td>\n",
       "      <td>[('అ', 'U'), ('ప్ర', '|'), ('తి', '|'), ('మ', ...</td>\n",
       "    </tr>\n",
       "    <tr>\n",
       "      <th>3</th>\n",
       "      <td>vutpalamaala</td>\n",
       "      <td>భక్తిరసాభిషిక్త! భవపాశవితాన విముక్త! జంగమా\\nసక...</td>\n",
       "      <td>vruttamu</td>\n",
       "      <td>vrushadhipa</td>\n",
       "      <td>[('భ', 'U'), ('క్తి', '|'), ('ర', '|'), ('సా',...</td>\n",
       "    </tr>\n",
       "    <tr>\n",
       "      <th>4</th>\n",
       "      <td>vutpalamaala</td>\n",
       "      <td>శత్రు లతాలవిత్ర! గుణజైత్ర! భవాబ్ధివహిత్ర! జంగమ...</td>\n",
       "      <td>vruttamu</td>\n",
       "      <td>vrushadhipa</td>\n",
       "      <td>[('శ', 'U'), ('త్రు', '|'), ('ల', '|'), ('తా',...</td>\n",
       "    </tr>\n",
       "    <tr>\n",
       "      <th>...</th>\n",
       "      <td>...</td>\n",
       "      <td>...</td>\n",
       "      <td>...</td>\n",
       "      <td>...</td>\n",
       "      <td>...</td>\n",
       "    </tr>\n",
       "    <tr>\n",
       "      <th>104</th>\n",
       "      <td>champakamaala</td>\n",
       "      <td>బసవ నిధానమా! బసవ భవ్యనిధీ! బసవామృతాంబుధీ!\\nబసవ...</td>\n",
       "      <td>vruttamu</td>\n",
       "      <td>vrushadhipa</td>\n",
       "      <td>[('బ', '|'), ('స', '|'), ('వ', '|'), ('ని', '|...</td>\n",
       "    </tr>\n",
       "    <tr>\n",
       "      <th>105</th>\n",
       "      <td>vutpalamaala</td>\n",
       "      <td>నా యొడయండ! నా విభుఁడ! నా హృదయేశ్వర! నా మనోరమా!...</td>\n",
       "      <td>vruttamu</td>\n",
       "      <td>vrushadhipa</td>\n",
       "      <td>[('నా', 'U'), ('యొ', '|'), ('డ', '|'), ('యం', ...</td>\n",
       "    </tr>\n",
       "    <tr>\n",
       "      <th>106</th>\n",
       "      <td>vutpalamaala</td>\n",
       "      <td>నోరికి వచ్చినట్టు నిను నూఱువిధంబులఁ బ్రస్తుతిం...</td>\n",
       "      <td>vruttamu</td>\n",
       "      <td>vrushadhipa</td>\n",
       "      <td>[('నో', 'U'), ('రి', '|'), ('కి', '|'), ('వ', ...</td>\n",
       "    </tr>\n",
       "    <tr>\n",
       "      <th>107</th>\n",
       "      <td>champakamaala</td>\n",
       "      <td>\\tబసవఁడు ప్రీతిఁ గైకొనియె భక్తిమెయిన్‌ రచియించ...</td>\n",
       "      <td>vruttamu</td>\n",
       "      <td>vrushadhipa</td>\n",
       "      <td>[('బ', '|'), ('స', '|'), ('వ', '|'), ('డు', 'U...</td>\n",
       "    </tr>\n",
       "    <tr>\n",
       "      <th>108</th>\n",
       "      <td>champakamaala</td>\n",
       "      <td>అకుటిల లింగ జంగమ సమగ్రదయాకలిత ప్రసాది పా\\nలకుర...</td>\n",
       "      <td>vruttamu</td>\n",
       "      <td>vrushadhipa</td>\n",
       "      <td>[('అ', '|'), ('కు', '|'), ('టి', '|'), ('ల', '...</td>\n",
       "    </tr>\n",
       "  </tbody>\n",
       "</table>\n",
       "<p>109 rows × 5 columns</p>\n",
       "</div>"
      ],
      "text/plain": [
       "              type                                             padyam  \\\n",
       "0     vutpalamaala  శ్రీగురులింగమూర్తి! సువిశేష మహోజ్జ్వలకీర్తి! స...   \n",
       "1    champakamaala  ప్రమథవిలోల! భక్తపరిపాల ధురంధరశీల! సంతతా\\nస్తమి...   \n",
       "2     vutpalamaala  అప్రతిమప్రతాప! సముదంచిత నాదకళాకలాప! దీ\\nప్త ప్...   \n",
       "3     vutpalamaala  భక్తిరసాభిషిక్త! భవపాశవితాన విముక్త! జంగమా\\nసక...   \n",
       "4     vutpalamaala  శత్రు లతాలవిత్ర! గుణజైత్ర! భవాబ్ధివహిత్ర! జంగమ...   \n",
       "..             ...                                                ...   \n",
       "104  champakamaala  బసవ నిధానమా! బసవ భవ్యనిధీ! బసవామృతాంబుధీ!\\nబసవ...   \n",
       "105   vutpalamaala  నా యొడయండ! నా విభుఁడ! నా హృదయేశ్వర! నా మనోరమా!...   \n",
       "106   vutpalamaala  నోరికి వచ్చినట్టు నిను నూఱువిధంబులఁ బ్రస్తుతిం...   \n",
       "107  champakamaala  \\tబసవఁడు ప్రీతిఁ గైకొనియె భక్తిమెయిన్‌ రచియించ...   \n",
       "108  champakamaala  అకుటిల లింగ జంగమ సమగ్రదయాకలిత ప్రసాది పా\\nలకుర...   \n",
       "\n",
       "        class      satakam                                                 lg  \n",
       "0    vruttamu  vrushadhipa  [('శ్రీ', 'U'), ('గు', '|'), ('రు', '|'), ('లి...  \n",
       "1    vruttamu  vrushadhipa  [('ప్ర', '|'), ('మ', '|'), ('థ', '|'), ('వి', ...  \n",
       "2    vruttamu  vrushadhipa  [('అ', 'U'), ('ప్ర', '|'), ('తి', '|'), ('మ', ...  \n",
       "3    vruttamu  vrushadhipa  [('భ', 'U'), ('క్తి', '|'), ('ర', '|'), ('సా',...  \n",
       "4    vruttamu  vrushadhipa  [('శ', 'U'), ('త్రు', '|'), ('ల', '|'), ('తా',...  \n",
       "..        ...          ...                                                ...  \n",
       "104  vruttamu  vrushadhipa  [('బ', '|'), ('స', '|'), ('వ', '|'), ('ని', '|...  \n",
       "105  vruttamu  vrushadhipa  [('నా', 'U'), ('యొ', '|'), ('డ', '|'), ('యం', ...  \n",
       "106  vruttamu  vrushadhipa  [('నో', 'U'), ('రి', '|'), ('కి', '|'), ('వ', ...  \n",
       "107  vruttamu  vrushadhipa  [('బ', '|'), ('స', '|'), ('వ', '|'), ('డు', 'U...  \n",
       "108  vruttamu  vrushadhipa  [('అ', '|'), ('కు', '|'), ('టి', '|'), ('ల', '...  \n",
       "\n",
       "[109 rows x 5 columns]"
      ]
     },
     "execution_count": 4,
     "metadata": {},
     "output_type": "execute_result"
    }
   ],
   "source": [
    "df"
   ]
  },
  {
   "cell_type": "code",
   "execution_count": 5,
   "id": "a896ee0f",
   "metadata": {},
   "outputs": [
    {
     "data": {
      "text/plain": [
       "Dataset({\n",
       "    features: ['type', 'padyam', 'class', 'satakam', 'lg'],\n",
       "    num_rows: 109\n",
       "})"
      ]
     },
     "execution_count": 5,
     "metadata": {},
     "output_type": "execute_result"
    }
   ],
   "source": [
    "Dataset.from_pandas(df)"
   ]
  },
  {
   "cell_type": "code",
   "execution_count": 19,
   "id": "85864649",
   "metadata": {},
   "outputs": [],
   "source": [
    "l= re.findall(r\"\\X\", df.iloc[23][\"padyam\"])\n",
    "\n",
    "index= 0\n",
    "text= []\n",
    "temp= \"\""
   ]
  },
  {
   "cell_type": "code",
   "execution_count": 20,
   "id": "407f17e8",
   "metadata": {},
   "outputs": [
    {
     "name": "stdout",
     "output_type": "stream",
     "text": [
      "aaa\n",
      "0 ర []\n",
      "aaa\n",
      "1 మ []\n",
      "aaa\n",
      "2 ణ []\n"
     ]
    },
    {
     "ename": "IndexError",
     "evalue": "list index out of range",
     "output_type": "error",
     "traceback": [
      "\u001b[1;31m---------------------------------------------------------------------------\u001b[0m",
      "\u001b[1;31mIndexError\u001b[0m                                Traceback (most recent call last)",
      "Cell \u001b[1;32mIn[20], line 19\u001b[0m\n\u001b[0;32m     17\u001b[0m \u001b[38;5;66;03m# For pollu hallu (at the end or at the end of the line)\u001b[39;00m\n\u001b[0;32m     18\u001b[0m \u001b[38;5;28;01melif\u001b[39;00m l[index]\u001b[38;5;241m.\u001b[39mendswith(\u001b[38;5;124m'\u001b[39m\u001b[38;5;124m్\u001b[39m\u001b[38;5;124m'\u001b[39m) \u001b[38;5;129;01mand\u001b[39;00m (index\u001b[38;5;241m+\u001b[39m\u001b[38;5;241m1\u001b[39m \u001b[38;5;241m==\u001b[39m \u001b[38;5;28mlen\u001b[39m(l) \u001b[38;5;129;01mor\u001b[39;00m l[index\u001b[38;5;241m+\u001b[39m\u001b[38;5;241m1\u001b[39m]\u001b[38;5;241m.\u001b[39misspace() ):\n\u001b[1;32m---> 19\u001b[0m     \u001b[43mtext\u001b[49m\u001b[43m[\u001b[49m\u001b[38;5;241;43m-\u001b[39;49m\u001b[38;5;241;43m1\u001b[39;49m\u001b[43m]\u001b[49m\u001b[38;5;241m+\u001b[39m\u001b[38;5;241m=\u001b[39m l[index]\n\u001b[0;32m     21\u001b[0m \u001b[38;5;28;01melif\u001b[39;00m (\u001b[38;5;129;01mnot\u001b[39;00m l[index]\u001b[38;5;241m.\u001b[39mendswith(\u001b[38;5;124m'\u001b[39m\u001b[38;5;124m్\u001b[39m\u001b[38;5;124m'\u001b[39m)) \u001b[38;5;129;01mand\u001b[39;00m temp \u001b[38;5;241m!=\u001b[39m \u001b[38;5;124m\"\u001b[39m\u001b[38;5;124m\"\u001b[39m:\n\u001b[0;32m     22\u001b[0m     text\u001b[38;5;241m.\u001b[39mappend( temp\u001b[38;5;241m+\u001b[39ml[index] )\n",
      "\u001b[1;31mIndexError\u001b[0m: list index out of range"
     ]
    }
   ],
   "source": [
    "for index in range(len(l) ):\n",
    "\n",
    "    l[index]= l[index].strip(\"ఁ\")\n",
    "\n",
    "    if l[index].isspace() or l[index].isnumeric() or l[index].isalpha() or l[index] in list(\"\"\"` ~ ! @ # $ % ^ & * ( ) _ - + = { } [ ] \\ | ; : ' \" “ ” ‘ ’ , < > . / ? ఽ ।\"\"\"):\n",
    "        # text.append( l[index] )\n",
    "        print(\"aaa\")\n",
    "        pass\n",
    "\n",
    "    elif l[index].endswith('్') and temp == \"\" and index< len(l)-1 and not l[index+1].isspace():\n",
    "        temp+= l[index]\n",
    "\n",
    "    # For Samlistaaksharams with no.of letters>2\n",
    "    elif l[index].endswith('్') and temp != \"\" and not l[index+1].isspace():\n",
    "        temp+= l[index]\n",
    "\n",
    "    # For pollu hallu (at the end or at the end of the line)\n",
    "    elif l[index].endswith('్') and (index+1 == len(l) or l[index+1].isspace() ):\n",
    "        text[-1]+= l[index]\n",
    "\n",
    "    elif (not l[index].endswith('్')) and temp != \"\":\n",
    "        text.append( temp+l[index] )\n",
    "        temp= \"\"\n",
    "    \n",
    "    elif (not l[index].endswith('్')) and temp == \"\":\n",
    "        text.append( l[index] )\n",
    "        temp= \"\"\n",
    "\n",
    "    else:\n",
    "        print(\"Unknown Case (for future purpose) !\\n We welcome your valuable contributions to 'chandassu' !\")\n",
    "\n",
    "    print(index, l[index], text)"
   ]
  },
  {
   "cell_type": "code",
   "execution_count": 21,
   "id": "ae8c1ffd",
   "metadata": {},
   "outputs": [
    {
     "data": {
      "text/plain": [
       "True"
      ]
     },
     "execution_count": 21,
     "metadata": {},
     "output_type": "execute_result"
    }
   ],
   "source": [
    "\"ర\".isalpha() "
   ]
  },
  {
   "cell_type": "code",
   "execution_count": 7,
   "id": "3b0b91d5",
   "metadata": {},
   "outputs": [],
   "source": [
    "a= LaghuvuGuruvu( data= df[\"padyam\"].iloc[0] ).generate()\n",
    "df[\"lg\"]= str(a)"
   ]
  },
  {
   "cell_type": "code",
   "execution_count": 17,
   "id": "17606ccf",
   "metadata": {},
   "outputs": [],
   "source": [
    "df.to_excel(\"c:\\\\Users\\\\bsnra\\\\Desktop\\\\chandassu\\\\dataset\\\\lg\\\\prarthana.xlsx\")"
   ]
  },
  {
   "cell_type": "code",
   "execution_count": null,
   "id": "c5800c07",
   "metadata": {},
   "outputs": [],
   "source": []
  }
 ],
 "metadata": {
  "kernelspec": {
   "display_name": "base",
   "language": "python",
   "name": "python3"
  },
  "language_info": {
   "codemirror_mode": {
    "name": "ipython",
    "version": 3
   },
   "file_extension": ".py",
   "mimetype": "text/x-python",
   "name": "python",
   "nbconvert_exporter": "python",
   "pygments_lexer": "ipython3",
   "version": "3.11.3"
  }
 },
 "nbformat": 4,
 "nbformat_minor": 5
}
